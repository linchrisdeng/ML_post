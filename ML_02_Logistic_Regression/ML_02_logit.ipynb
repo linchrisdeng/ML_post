{
 "cells": [
  {
   "cell_type": "code",
   "execution_count": 31,
   "metadata": {},
   "outputs": [
    {
     "data": {
      "text/html": [
       "\n",
       "    <div class=\"bk-root\">\n",
       "        <a href=\"https://bokeh.pydata.org\" target=\"_blank\" class=\"bk-logo bk-logo-small bk-logo-notebook\"></a>\n",
       "        <span id=\"7056\">Loading BokehJS ...</span>\n",
       "    </div>"
      ]
     },
     "metadata": {},
     "output_type": "display_data"
    },
    {
     "data": {
      "application/javascript": [
       "\n",
       "(function(root) {\n",
       "  function now() {\n",
       "    return new Date();\n",
       "  }\n",
       "\n",
       "  var force = true;\n",
       "\n",
       "  if (typeof root._bokeh_onload_callbacks === \"undefined\" || force === true) {\n",
       "    root._bokeh_onload_callbacks = [];\n",
       "    root._bokeh_is_loading = undefined;\n",
       "  }\n",
       "\n",
       "  var JS_MIME_TYPE = 'application/javascript';\n",
       "  var HTML_MIME_TYPE = 'text/html';\n",
       "  var EXEC_MIME_TYPE = 'application/vnd.bokehjs_exec.v0+json';\n",
       "  var CLASS_NAME = 'output_bokeh rendered_html';\n",
       "\n",
       "  /**\n",
       "   * Render data to the DOM node\n",
       "   */\n",
       "  function render(props, node) {\n",
       "    var script = document.createElement(\"script\");\n",
       "    node.appendChild(script);\n",
       "  }\n",
       "\n",
       "  /**\n",
       "   * Handle when an output is cleared or removed\n",
       "   */\n",
       "  function handleClearOutput(event, handle) {\n",
       "    var cell = handle.cell;\n",
       "\n",
       "    var id = cell.output_area._bokeh_element_id;\n",
       "    var server_id = cell.output_area._bokeh_server_id;\n",
       "    // Clean up Bokeh references\n",
       "    if (id != null && id in Bokeh.index) {\n",
       "      Bokeh.index[id].model.document.clear();\n",
       "      delete Bokeh.index[id];\n",
       "    }\n",
       "\n",
       "    if (server_id !== undefined) {\n",
       "      // Clean up Bokeh references\n",
       "      var cmd = \"from bokeh.io.state import curstate; print(curstate().uuid_to_server['\" + server_id + \"'].get_sessions()[0].document.roots[0]._id)\";\n",
       "      cell.notebook.kernel.execute(cmd, {\n",
       "        iopub: {\n",
       "          output: function(msg) {\n",
       "            var id = msg.content.text.trim();\n",
       "            if (id in Bokeh.index) {\n",
       "              Bokeh.index[id].model.document.clear();\n",
       "              delete Bokeh.index[id];\n",
       "            }\n",
       "          }\n",
       "        }\n",
       "      });\n",
       "      // Destroy server and session\n",
       "      var cmd = \"import bokeh.io.notebook as ion; ion.destroy_server('\" + server_id + \"')\";\n",
       "      cell.notebook.kernel.execute(cmd);\n",
       "    }\n",
       "  }\n",
       "\n",
       "  /**\n",
       "   * Handle when a new output is added\n",
       "   */\n",
       "  function handleAddOutput(event, handle) {\n",
       "    var output_area = handle.output_area;\n",
       "    var output = handle.output;\n",
       "\n",
       "    // limit handleAddOutput to display_data with EXEC_MIME_TYPE content only\n",
       "    if ((output.output_type != \"display_data\") || (!output.data.hasOwnProperty(EXEC_MIME_TYPE))) {\n",
       "      return\n",
       "    }\n",
       "\n",
       "    var toinsert = output_area.element.find(\".\" + CLASS_NAME.split(' ')[0]);\n",
       "\n",
       "    if (output.metadata[EXEC_MIME_TYPE][\"id\"] !== undefined) {\n",
       "      toinsert[toinsert.length - 1].firstChild.textContent = output.data[JS_MIME_TYPE];\n",
       "      // store reference to embed id on output_area\n",
       "      output_area._bokeh_element_id = output.metadata[EXEC_MIME_TYPE][\"id\"];\n",
       "    }\n",
       "    if (output.metadata[EXEC_MIME_TYPE][\"server_id\"] !== undefined) {\n",
       "      var bk_div = document.createElement(\"div\");\n",
       "      bk_div.innerHTML = output.data[HTML_MIME_TYPE];\n",
       "      var script_attrs = bk_div.children[0].attributes;\n",
       "      for (var i = 0; i < script_attrs.length; i++) {\n",
       "        toinsert[toinsert.length - 1].firstChild.setAttribute(script_attrs[i].name, script_attrs[i].value);\n",
       "      }\n",
       "      // store reference to server id on output_area\n",
       "      output_area._bokeh_server_id = output.metadata[EXEC_MIME_TYPE][\"server_id\"];\n",
       "    }\n",
       "  }\n",
       "\n",
       "  function register_renderer(events, OutputArea) {\n",
       "\n",
       "    function append_mime(data, metadata, element) {\n",
       "      // create a DOM node to render to\n",
       "      var toinsert = this.create_output_subarea(\n",
       "        metadata,\n",
       "        CLASS_NAME,\n",
       "        EXEC_MIME_TYPE\n",
       "      );\n",
       "      this.keyboard_manager.register_events(toinsert);\n",
       "      // Render to node\n",
       "      var props = {data: data, metadata: metadata[EXEC_MIME_TYPE]};\n",
       "      render(props, toinsert[toinsert.length - 1]);\n",
       "      element.append(toinsert);\n",
       "      return toinsert\n",
       "    }\n",
       "\n",
       "    /* Handle when an output is cleared or removed */\n",
       "    events.on('clear_output.CodeCell', handleClearOutput);\n",
       "    events.on('delete.Cell', handleClearOutput);\n",
       "\n",
       "    /* Handle when a new output is added */\n",
       "    events.on('output_added.OutputArea', handleAddOutput);\n",
       "\n",
       "    /**\n",
       "     * Register the mime type and append_mime function with output_area\n",
       "     */\n",
       "    OutputArea.prototype.register_mime_type(EXEC_MIME_TYPE, append_mime, {\n",
       "      /* Is output safe? */\n",
       "      safe: true,\n",
       "      /* Index of renderer in `output_area.display_order` */\n",
       "      index: 0\n",
       "    });\n",
       "  }\n",
       "\n",
       "  // register the mime type if in Jupyter Notebook environment and previously unregistered\n",
       "  if (root.Jupyter !== undefined) {\n",
       "    var events = require('base/js/events');\n",
       "    var OutputArea = require('notebook/js/outputarea').OutputArea;\n",
       "\n",
       "    if (OutputArea.prototype.mime_types().indexOf(EXEC_MIME_TYPE) == -1) {\n",
       "      register_renderer(events, OutputArea);\n",
       "    }\n",
       "  }\n",
       "\n",
       "  \n",
       "  if (typeof (root._bokeh_timeout) === \"undefined\" || force === true) {\n",
       "    root._bokeh_timeout = Date.now() + 5000;\n",
       "    root._bokeh_failed_load = false;\n",
       "  }\n",
       "\n",
       "  var NB_LOAD_WARNING = {'data': {'text/html':\n",
       "     \"<div style='background-color: #fdd'>\\n\"+\n",
       "     \"<p>\\n\"+\n",
       "     \"BokehJS does not appear to have successfully loaded. If loading BokehJS from CDN, this \\n\"+\n",
       "     \"may be due to a slow or bad network connection. Possible fixes:\\n\"+\n",
       "     \"</p>\\n\"+\n",
       "     \"<ul>\\n\"+\n",
       "     \"<li>re-rerun `output_notebook()` to attempt to load from CDN again, or</li>\\n\"+\n",
       "     \"<li>use INLINE resources instead, as so:</li>\\n\"+\n",
       "     \"</ul>\\n\"+\n",
       "     \"<code>\\n\"+\n",
       "     \"from bokeh.resources import INLINE\\n\"+\n",
       "     \"output_notebook(resources=INLINE)\\n\"+\n",
       "     \"</code>\\n\"+\n",
       "     \"</div>\"}};\n",
       "\n",
       "  function display_loaded() {\n",
       "    var el = document.getElementById(\"7056\");\n",
       "    if (el != null) {\n",
       "      el.textContent = \"BokehJS is loading...\";\n",
       "    }\n",
       "    if (root.Bokeh !== undefined) {\n",
       "      if (el != null) {\n",
       "        el.textContent = \"BokehJS \" + root.Bokeh.version + \" successfully loaded.\";\n",
       "      }\n",
       "    } else if (Date.now() < root._bokeh_timeout) {\n",
       "      setTimeout(display_loaded, 100)\n",
       "    }\n",
       "  }\n",
       "\n",
       "\n",
       "  function run_callbacks() {\n",
       "    try {\n",
       "      root._bokeh_onload_callbacks.forEach(function(callback) {\n",
       "        if (callback != null)\n",
       "          callback();\n",
       "      });\n",
       "    } finally {\n",
       "      delete root._bokeh_onload_callbacks\n",
       "    }\n",
       "    console.debug(\"Bokeh: all callbacks have finished\");\n",
       "  }\n",
       "\n",
       "  function load_libs(css_urls, js_urls, callback) {\n",
       "    if (css_urls == null) css_urls = [];\n",
       "    if (js_urls == null) js_urls = [];\n",
       "\n",
       "    root._bokeh_onload_callbacks.push(callback);\n",
       "    if (root._bokeh_is_loading > 0) {\n",
       "      console.debug(\"Bokeh: BokehJS is being loaded, scheduling callback at\", now());\n",
       "      return null;\n",
       "    }\n",
       "    if (js_urls == null || js_urls.length === 0) {\n",
       "      run_callbacks();\n",
       "      return null;\n",
       "    }\n",
       "    console.debug(\"Bokeh: BokehJS not loaded, scheduling load and callback at\", now());\n",
       "    root._bokeh_is_loading = css_urls.length + js_urls.length;\n",
       "\n",
       "    function on_load() {\n",
       "      root._bokeh_is_loading--;\n",
       "      if (root._bokeh_is_loading === 0) {\n",
       "        console.debug(\"Bokeh: all BokehJS libraries/stylesheets loaded\");\n",
       "        run_callbacks()\n",
       "      }\n",
       "    }\n",
       "\n",
       "    function on_error() {\n",
       "      console.error(\"failed to load \" + url);\n",
       "    }\n",
       "\n",
       "    for (var i = 0; i < css_urls.length; i++) {\n",
       "      var url = css_urls[i];\n",
       "      const element = document.createElement(\"link\");\n",
       "      element.onload = on_load;\n",
       "      element.onerror = on_error;\n",
       "      element.rel = \"stylesheet\";\n",
       "      element.type = \"text/css\";\n",
       "      element.href = url;\n",
       "      console.debug(\"Bokeh: injecting link tag for BokehJS stylesheet: \", url);\n",
       "      document.body.appendChild(element);\n",
       "    }\n",
       "\n",
       "    for (var i = 0; i < js_urls.length; i++) {\n",
       "      var url = js_urls[i];\n",
       "      var element = document.createElement('script');\n",
       "      element.onload = on_load;\n",
       "      element.onerror = on_error;\n",
       "      element.async = false;\n",
       "      element.src = url;\n",
       "      console.debug(\"Bokeh: injecting script tag for BokehJS library: \", url);\n",
       "      document.head.appendChild(element);\n",
       "    }\n",
       "  };var element = document.getElementById(\"7056\");\n",
       "  if (element == null) {\n",
       "    console.error(\"Bokeh: ERROR: autoload.js configured with elementid '7056' but no matching script tag was found. \")\n",
       "    return false;\n",
       "  }\n",
       "\n",
       "  function inject_raw_css(css) {\n",
       "    const element = document.createElement(\"style\");\n",
       "    element.appendChild(document.createTextNode(css));\n",
       "    document.body.appendChild(element);\n",
       "  }\n",
       "\n",
       "  var js_urls = [\"https://cdn.pydata.org/bokeh/release/bokeh-1.1.0.min.js\", \"https://cdn.pydata.org/bokeh/release/bokeh-widgets-1.1.0.min.js\", \"https://cdn.pydata.org/bokeh/release/bokeh-tables-1.1.0.min.js\", \"https://cdn.pydata.org/bokeh/release/bokeh-gl-1.1.0.min.js\"];\n",
       "  var css_urls = [\"https://cdn.pydata.org/bokeh/release/bokeh-1.1.0.min.css\", \"https://cdn.pydata.org/bokeh/release/bokeh-widgets-1.1.0.min.css\", \"https://cdn.pydata.org/bokeh/release/bokeh-tables-1.1.0.min.css\"];\n",
       "\n",
       "  var inline_js = [\n",
       "    function(Bokeh) {\n",
       "      Bokeh.set_log_level(\"info\");\n",
       "    },\n",
       "    \n",
       "    function(Bokeh) {\n",
       "      \n",
       "    },\n",
       "    function(Bokeh) {} // ensure no trailing comma for IE\n",
       "  ];\n",
       "\n",
       "  function run_inline_js() {\n",
       "    \n",
       "    if ((root.Bokeh !== undefined) || (force === true)) {\n",
       "      for (var i = 0; i < inline_js.length; i++) {\n",
       "        inline_js[i].call(root, root.Bokeh);\n",
       "      }if (force === true) {\n",
       "        display_loaded();\n",
       "      }} else if (Date.now() < root._bokeh_timeout) {\n",
       "      setTimeout(run_inline_js, 100);\n",
       "    } else if (!root._bokeh_failed_load) {\n",
       "      console.log(\"Bokeh: BokehJS failed to load within specified timeout.\");\n",
       "      root._bokeh_failed_load = true;\n",
       "    } else if (force !== true) {\n",
       "      var cell = $(document.getElementById(\"7056\")).parents('.cell').data().cell;\n",
       "      cell.output_area.append_execute_result(NB_LOAD_WARNING)\n",
       "    }\n",
       "\n",
       "  }\n",
       "\n",
       "  if (root._bokeh_is_loading === 0) {\n",
       "    console.debug(\"Bokeh: BokehJS loaded, going straight to plotting\");\n",
       "    run_inline_js();\n",
       "  } else {\n",
       "    load_libs(css_urls, js_urls, function() {\n",
       "      console.debug(\"Bokeh: BokehJS plotting callback run at\", now());\n",
       "      run_inline_js();\n",
       "    });\n",
       "  }\n",
       "}(window));"
      ],
      "application/vnd.bokehjs_load.v0+json": "\n(function(root) {\n  function now() {\n    return new Date();\n  }\n\n  var force = true;\n\n  if (typeof root._bokeh_onload_callbacks === \"undefined\" || force === true) {\n    root._bokeh_onload_callbacks = [];\n    root._bokeh_is_loading = undefined;\n  }\n\n  \n\n  \n  if (typeof (root._bokeh_timeout) === \"undefined\" || force === true) {\n    root._bokeh_timeout = Date.now() + 5000;\n    root._bokeh_failed_load = false;\n  }\n\n  var NB_LOAD_WARNING = {'data': {'text/html':\n     \"<div style='background-color: #fdd'>\\n\"+\n     \"<p>\\n\"+\n     \"BokehJS does not appear to have successfully loaded. If loading BokehJS from CDN, this \\n\"+\n     \"may be due to a slow or bad network connection. Possible fixes:\\n\"+\n     \"</p>\\n\"+\n     \"<ul>\\n\"+\n     \"<li>re-rerun `output_notebook()` to attempt to load from CDN again, or</li>\\n\"+\n     \"<li>use INLINE resources instead, as so:</li>\\n\"+\n     \"</ul>\\n\"+\n     \"<code>\\n\"+\n     \"from bokeh.resources import INLINE\\n\"+\n     \"output_notebook(resources=INLINE)\\n\"+\n     \"</code>\\n\"+\n     \"</div>\"}};\n\n  function display_loaded() {\n    var el = document.getElementById(\"7056\");\n    if (el != null) {\n      el.textContent = \"BokehJS is loading...\";\n    }\n    if (root.Bokeh !== undefined) {\n      if (el != null) {\n        el.textContent = \"BokehJS \" + root.Bokeh.version + \" successfully loaded.\";\n      }\n    } else if (Date.now() < root._bokeh_timeout) {\n      setTimeout(display_loaded, 100)\n    }\n  }\n\n\n  function run_callbacks() {\n    try {\n      root._bokeh_onload_callbacks.forEach(function(callback) {\n        if (callback != null)\n          callback();\n      });\n    } finally {\n      delete root._bokeh_onload_callbacks\n    }\n    console.debug(\"Bokeh: all callbacks have finished\");\n  }\n\n  function load_libs(css_urls, js_urls, callback) {\n    if (css_urls == null) css_urls = [];\n    if (js_urls == null) js_urls = [];\n\n    root._bokeh_onload_callbacks.push(callback);\n    if (root._bokeh_is_loading > 0) {\n      console.debug(\"Bokeh: BokehJS is being loaded, scheduling callback at\", now());\n      return null;\n    }\n    if (js_urls == null || js_urls.length === 0) {\n      run_callbacks();\n      return null;\n    }\n    console.debug(\"Bokeh: BokehJS not loaded, scheduling load and callback at\", now());\n    root._bokeh_is_loading = css_urls.length + js_urls.length;\n\n    function on_load() {\n      root._bokeh_is_loading--;\n      if (root._bokeh_is_loading === 0) {\n        console.debug(\"Bokeh: all BokehJS libraries/stylesheets loaded\");\n        run_callbacks()\n      }\n    }\n\n    function on_error() {\n      console.error(\"failed to load \" + url);\n    }\n\n    for (var i = 0; i < css_urls.length; i++) {\n      var url = css_urls[i];\n      const element = document.createElement(\"link\");\n      element.onload = on_load;\n      element.onerror = on_error;\n      element.rel = \"stylesheet\";\n      element.type = \"text/css\";\n      element.href = url;\n      console.debug(\"Bokeh: injecting link tag for BokehJS stylesheet: \", url);\n      document.body.appendChild(element);\n    }\n\n    for (var i = 0; i < js_urls.length; i++) {\n      var url = js_urls[i];\n      var element = document.createElement('script');\n      element.onload = on_load;\n      element.onerror = on_error;\n      element.async = false;\n      element.src = url;\n      console.debug(\"Bokeh: injecting script tag for BokehJS library: \", url);\n      document.head.appendChild(element);\n    }\n  };var element = document.getElementById(\"7056\");\n  if (element == null) {\n    console.error(\"Bokeh: ERROR: autoload.js configured with elementid '7056' but no matching script tag was found. \")\n    return false;\n  }\n\n  function inject_raw_css(css) {\n    const element = document.createElement(\"style\");\n    element.appendChild(document.createTextNode(css));\n    document.body.appendChild(element);\n  }\n\n  var js_urls = [\"https://cdn.pydata.org/bokeh/release/bokeh-1.1.0.min.js\", \"https://cdn.pydata.org/bokeh/release/bokeh-widgets-1.1.0.min.js\", \"https://cdn.pydata.org/bokeh/release/bokeh-tables-1.1.0.min.js\", \"https://cdn.pydata.org/bokeh/release/bokeh-gl-1.1.0.min.js\"];\n  var css_urls = [\"https://cdn.pydata.org/bokeh/release/bokeh-1.1.0.min.css\", \"https://cdn.pydata.org/bokeh/release/bokeh-widgets-1.1.0.min.css\", \"https://cdn.pydata.org/bokeh/release/bokeh-tables-1.1.0.min.css\"];\n\n  var inline_js = [\n    function(Bokeh) {\n      Bokeh.set_log_level(\"info\");\n    },\n    \n    function(Bokeh) {\n      \n    },\n    function(Bokeh) {} // ensure no trailing comma for IE\n  ];\n\n  function run_inline_js() {\n    \n    if ((root.Bokeh !== undefined) || (force === true)) {\n      for (var i = 0; i < inline_js.length; i++) {\n        inline_js[i].call(root, root.Bokeh);\n      }if (force === true) {\n        display_loaded();\n      }} else if (Date.now() < root._bokeh_timeout) {\n      setTimeout(run_inline_js, 100);\n    } else if (!root._bokeh_failed_load) {\n      console.log(\"Bokeh: BokehJS failed to load within specified timeout.\");\n      root._bokeh_failed_load = true;\n    } else if (force !== true) {\n      var cell = $(document.getElementById(\"7056\")).parents('.cell').data().cell;\n      cell.output_area.append_execute_result(NB_LOAD_WARNING)\n    }\n\n  }\n\n  if (root._bokeh_is_loading === 0) {\n    console.debug(\"Bokeh: BokehJS loaded, going straight to plotting\");\n    run_inline_js();\n  } else {\n    load_libs(css_urls, js_urls, function() {\n      console.debug(\"Bokeh: BokehJS plotting callback run at\", now());\n      run_inline_js();\n    });\n  }\n}(window));"
     },
     "metadata": {},
     "output_type": "display_data"
    }
   ],
   "source": [
    "import numpy as np\n",
    "import pandas as pd\n",
    "from bokeh.io import output_file, output_notebook, curdoc\n",
    "from bokeh.layouts import row, gridplot\n",
    "from bokeh.plotting import figure, show, reset_output\n",
    "from bokeh.models import HoverTool, Label, WheelZoomTool, PanTool, Span\n",
    "output_notebook()"
   ]
  },
  {
   "cell_type": "markdown",
   "metadata": {},
   "source": [
    "## Linear regression fit classification"
   ]
  },
  {
   "cell_type": "code",
   "execution_count": 32,
   "metadata": {},
   "outputs": [],
   "source": [
    "# df = pd.read_csv(\"df2.csv\", sep=\" \", header = None)\n",
    "\n",
    "df = pd.read_csv(\"df2.csv\", header = None).T\n",
    "x = np.array(df[[0]])\n",
    "y = np.array(df[[1]])\n",
    "\n",
    "ones = np.ones(x.size)\n",
    "X = np.column_stack((ones, x))\n",
    "w = np.dot(np.linalg.inv(np.dot(X.T, X)), np.dot(X.T, y))\n",
    "y_hat = w[0] + w[1] * x\n",
    "x = x.flatten()\n",
    "y = y.flatten()\n",
    "y_hat = y_hat.flatten()"
   ]
  },
  {
   "cell_type": "code",
   "execution_count": 33,
   "metadata": {},
   "outputs": [
    {
     "data": {
      "text/html": [
       "\n",
       "\n",
       "\n",
       "\n",
       "\n",
       "\n",
       "  <div class=\"bk-root\" id=\"aa68fb4b-eb6a-4ddb-beba-52defad587f2\" data-root-id=\"7117\"></div>\n"
      ]
     },
     "metadata": {},
     "output_type": "display_data"
    },
    {
     "data": {
      "application/javascript": [
       "(function(root) {\n",
       "  function embed_document(root) {\n",
       "    \n",
       "  var docs_json = {\"7e914dfe-e350-4528-8699-caa57d91977d\":{\"roots\":{\"references\":[{\"attributes\":{\"children\":[{\"id\":\"7057\",\"subtype\":\"Figure\",\"type\":\"Plot\"},{\"id\":\"7077\",\"subtype\":\"Figure\",\"type\":\"Plot\"}]},\"id\":\"7117\",\"type\":\"Row\"},{\"attributes\":{\"source\":{\"id\":\"7109\",\"type\":\"ColumnDataSource\"}},\"id\":\"7113\",\"type\":\"CDSView\"},{\"attributes\":{\"formatter\":{\"id\":\"7125\",\"type\":\"BasicTickFormatter\"},\"ticker\":{\"id\":\"7094\",\"type\":\"BasicTicker\"}},\"id\":\"7093\",\"type\":\"LinearAxis\"},{\"attributes\":{\"below\":[{\"id\":\"7088\",\"type\":\"LinearAxis\"}],\"center\":[{\"id\":\"7092\",\"type\":\"Grid\"},{\"id\":\"7097\",\"type\":\"Grid\"},{\"id\":\"7114\",\"type\":\"Span\"}],\"left\":[{\"id\":\"7093\",\"type\":\"LinearAxis\"}],\"plot_height\":300,\"plot_width\":300,\"renderers\":[{\"id\":\"7107\",\"type\":\"GlyphRenderer\"},{\"id\":\"7112\",\"type\":\"GlyphRenderer\"}],\"title\":{\"id\":\"7078\",\"type\":\"Title\"},\"toolbar\":{\"id\":\"7098\",\"type\":\"Toolbar\"},\"x_range\":{\"id\":\"7080\",\"type\":\"DataRange1d\"},\"x_scale\":{\"id\":\"7084\",\"type\":\"LinearScale\"},\"y_range\":{\"id\":\"7082\",\"type\":\"DataRange1d\"},\"y_scale\":{\"id\":\"7086\",\"type\":\"LinearScale\"}},\"id\":\"7077\",\"subtype\":\"Figure\",\"type\":\"Plot\"},{\"attributes\":{},\"id\":\"7064\",\"type\":\"LinearScale\"},{\"attributes\":{},\"id\":\"7094\",\"type\":\"BasicTicker\"},{\"attributes\":{\"dimension\":1,\"ticker\":{\"id\":\"7094\",\"type\":\"BasicTicker\"}},\"id\":\"7097\",\"type\":\"Grid\"},{\"attributes\":{\"active_drag\":\"auto\",\"active_inspect\":\"auto\",\"active_multi\":null,\"active_scroll\":\"auto\",\"active_tap\":\"auto\",\"logo\":null},\"id\":\"7076\",\"type\":\"Toolbar\"},{\"attributes\":{\"active_drag\":\"auto\",\"active_inspect\":\"auto\",\"active_multi\":null,\"active_scroll\":\"auto\",\"active_tap\":\"auto\",\"logo\":null},\"id\":\"7098\",\"type\":\"Toolbar\"},{\"attributes\":{\"text\":\"\"},\"id\":\"7118\",\"type\":\"Title\"},{\"attributes\":{\"text\":\"Linear Regression\"},\"id\":\"7078\",\"type\":\"Title\"},{\"attributes\":{\"callback\":null},\"id\":\"7080\",\"type\":\"DataRange1d\"},{\"attributes\":{},\"id\":\"7121\",\"type\":\"BasicTickFormatter\"},{\"attributes\":{\"fill_color\":{\"value\":\"#1f77b4\"},\"line_color\":{\"value\":\"#1f77b4\"},\"x\":{\"field\":\"x\"},\"y\":{\"field\":\"y\"}},\"id\":\"7100\",\"type\":\"Circle\"},{\"attributes\":{\"formatter\":{\"id\":\"7123\",\"type\":\"BasicTickFormatter\"},\"ticker\":{\"id\":\"7067\",\"type\":\"BasicTicker\"}},\"id\":\"7066\",\"type\":\"LinearAxis\"},{\"attributes\":{\"fill_alpha\":{\"value\":0.1},\"fill_color\":{\"value\":\"#1f77b4\"},\"line_alpha\":{\"value\":0.1},\"line_color\":{\"value\":\"#1f77b4\"},\"x\":{\"field\":\"x\"},\"y\":{\"field\":\"y\"}},\"id\":\"7101\",\"type\":\"Circle\"},{\"attributes\":{},\"id\":\"7125\",\"type\":\"BasicTickFormatter\"},{\"attributes\":{\"formatter\":{\"id\":\"7121\",\"type\":\"BasicTickFormatter\"},\"ticker\":{\"id\":\"7072\",\"type\":\"BasicTicker\"}},\"id\":\"7071\",\"type\":\"LinearAxis\"},{\"attributes\":{\"data_source\":{\"id\":\"7099\",\"type\":\"ColumnDataSource\"},\"glyph\":{\"id\":\"7100\",\"type\":\"Circle\"},\"hover_glyph\":null,\"muted_glyph\":null,\"nonselection_glyph\":{\"id\":\"7101\",\"type\":\"Circle\"},\"selection_glyph\":null,\"view\":{\"id\":\"7103\",\"type\":\"CDSView\"}},\"id\":\"7102\",\"type\":\"GlyphRenderer\"},{\"attributes\":{},\"id\":\"7062\",\"type\":\"LinearScale\"},{\"attributes\":{},\"id\":\"7127\",\"type\":\"BasicTickFormatter\"},{\"attributes\":{\"source\":{\"id\":\"7099\",\"type\":\"ColumnDataSource\"}},\"id\":\"7103\",\"type\":\"CDSView\"},{\"attributes\":{\"ticker\":{\"id\":\"7067\",\"type\":\"BasicTicker\"}},\"id\":\"7070\",\"type\":\"Grid\"},{\"attributes\":{},\"id\":\"7129\",\"type\":\"UnionRenderers\"},{\"attributes\":{},\"id\":\"7072\",\"type\":\"BasicTicker\"},{\"attributes\":{\"callback\":null,\"data\":{\"x\":{\"__ndarray__\":\"gRHJLCGSwL+QnXMjGuzFP4gIMYJgMcg/ZHRAoAca5D/gO0scX5XvP5qZmZmZmfE/ZmZmZmZm9j8AAAAAAAAQQDMzMzMzMxFAAAAAAAAAEkDNzMzMzMwSQA==\",\"dtype\":\"float64\",\"shape\":[11]},\"y\":{\"__ndarray__\":\"AAAAAAAAAAAAAAAAAAAAAAAAAAAAAAAAAAAAAAAAAAAAAAAAAAAAAAAAAAAAAPA/AAAAAAAA8D8AAAAAAADwPwAAAAAAAPA/AAAAAAAA8D8AAAAAAADwPw==\",\"dtype\":\"float64\",\"shape\":[11]}},\"selected\":{\"id\":\"7130\",\"type\":\"Selection\"},\"selection_policy\":{\"id\":\"7129\",\"type\":\"UnionRenderers\"}},\"id\":\"7099\",\"type\":\"ColumnDataSource\"},{\"attributes\":{},\"id\":\"7130\",\"type\":\"Selection\"},{\"attributes\":{\"callback\":null,\"data\":{\"x\":{\"__ndarray__\":\"gRHJLCGSwL+QnXMjGuzFP4gIMYJgMcg/ZHRAoAca5D/gO0scX5XvP5qZmZmZmfE/ZmZmZmZm9j8AAAAAAAAQQDMzMzMzMxFAAAAAAAAAEkDNzMzMzMwSQA==\",\"dtype\":\"float64\",\"shape\":[11]},\"y\":{\"__ndarray__\":\"xAdpxUufuD9qm6YSdXzEP5bjlxTo98Q/8VjzIBV00D/b+tT3k1TVP3gwIqrT3dY/PvmJabPx2j+oYjHyTSTvP4aj8ugel/A//ETZiBlF8T9z5r8oFPPxPw==\",\"dtype\":\"float64\",\"shape\":[11]}},\"selected\":{\"id\":\"7134\",\"type\":\"Selection\"},\"selection_policy\":{\"id\":\"7133\",\"type\":\"UnionRenderers\"}},\"id\":\"7109\",\"type\":\"ColumnDataSource\"},{\"attributes\":{\"fill_color\":{\"value\":\"#1f77b4\"},\"line_color\":{\"value\":\"#1f77b4\"},\"x\":{\"field\":\"x\"},\"y\":{\"field\":\"y\"}},\"id\":\"7105\",\"type\":\"Circle\"},{\"attributes\":{\"callback\":null},\"id\":\"7082\",\"type\":\"DataRange1d\"},{\"attributes\":{},\"id\":\"7131\",\"type\":\"UnionRenderers\"},{\"attributes\":{\"fill_alpha\":{\"value\":0.1},\"fill_color\":{\"value\":\"#1f77b4\"},\"line_alpha\":{\"value\":0.1},\"line_color\":{\"value\":\"#1f77b4\"},\"x\":{\"field\":\"x\"},\"y\":{\"field\":\"y\"}},\"id\":\"7106\",\"type\":\"Circle\"},{\"attributes\":{},\"id\":\"7132\",\"type\":\"Selection\"},{\"attributes\":{\"data_source\":{\"id\":\"7104\",\"type\":\"ColumnDataSource\"},\"glyph\":{\"id\":\"7105\",\"type\":\"Circle\"},\"hover_glyph\":null,\"muted_glyph\":null,\"nonselection_glyph\":{\"id\":\"7106\",\"type\":\"Circle\"},\"selection_glyph\":null,\"view\":{\"id\":\"7108\",\"type\":\"CDSView\"}},\"id\":\"7107\",\"type\":\"GlyphRenderer\"},{\"attributes\":{\"dimension\":1,\"ticker\":{\"id\":\"7072\",\"type\":\"BasicTicker\"}},\"id\":\"7075\",\"type\":\"Grid\"},{\"attributes\":{},\"id\":\"7133\",\"type\":\"UnionRenderers\"},{\"attributes\":{},\"id\":\"7134\",\"type\":\"Selection\"},{\"attributes\":{\"below\":[{\"id\":\"7066\",\"type\":\"LinearAxis\"}],\"center\":[{\"id\":\"7070\",\"type\":\"Grid\"},{\"id\":\"7075\",\"type\":\"Grid\"},{\"id\":\"7114\",\"type\":\"Span\"}],\"left\":[{\"id\":\"7071\",\"type\":\"LinearAxis\"}],\"plot_height\":300,\"plot_width\":300,\"renderers\":[{\"id\":\"7102\",\"type\":\"GlyphRenderer\"}],\"title\":{\"id\":\"7118\",\"type\":\"Title\"},\"toolbar\":{\"id\":\"7076\",\"type\":\"Toolbar\"},\"x_range\":{\"id\":\"7058\",\"type\":\"DataRange1d\"},\"x_scale\":{\"id\":\"7062\",\"type\":\"LinearScale\"},\"y_range\":{\"id\":\"7060\",\"type\":\"DataRange1d\"},\"y_scale\":{\"id\":\"7064\",\"type\":\"LinearScale\"}},\"id\":\"7057\",\"subtype\":\"Figure\",\"type\":\"Plot\"},{\"attributes\":{\"source\":{\"id\":\"7104\",\"type\":\"ColumnDataSource\"}},\"id\":\"7108\",\"type\":\"CDSView\"},{\"attributes\":{\"formatter\":{\"id\":\"7127\",\"type\":\"BasicTickFormatter\"},\"ticker\":{\"id\":\"7089\",\"type\":\"BasicTicker\"}},\"id\":\"7088\",\"type\":\"LinearAxis\"},{\"attributes\":{},\"id\":\"7089\",\"type\":\"BasicTicker\"},{\"attributes\":{},\"id\":\"7084\",\"type\":\"LinearScale\"},{\"attributes\":{},\"id\":\"7123\",\"type\":\"BasicTickFormatter\"},{\"attributes\":{\"line_color\":{\"value\":\"green\"},\"line_dash\":[6],\"line_width\":{\"value\":3},\"location\":0.5},\"id\":\"7114\",\"type\":\"Span\"},{\"attributes\":{\"line_color\":\"red\",\"x\":{\"field\":\"x\"},\"y\":{\"field\":\"y\"}},\"id\":\"7110\",\"type\":\"Line\"},{\"attributes\":{\"callback\":null},\"id\":\"7058\",\"type\":\"DataRange1d\"},{\"attributes\":{\"callback\":null},\"id\":\"7060\",\"type\":\"DataRange1d\"},{\"attributes\":{\"line_alpha\":0.1,\"line_color\":\"#1f77b4\",\"x\":{\"field\":\"x\"},\"y\":{\"field\":\"y\"}},\"id\":\"7111\",\"type\":\"Line\"},{\"attributes\":{\"ticker\":{\"id\":\"7089\",\"type\":\"BasicTicker\"}},\"id\":\"7092\",\"type\":\"Grid\"},{\"attributes\":{},\"id\":\"7086\",\"type\":\"LinearScale\"},{\"attributes\":{\"data_source\":{\"id\":\"7109\",\"type\":\"ColumnDataSource\"},\"glyph\":{\"id\":\"7110\",\"type\":\"Line\"},\"hover_glyph\":null,\"muted_glyph\":null,\"nonselection_glyph\":{\"id\":\"7111\",\"type\":\"Line\"},\"selection_glyph\":null,\"view\":{\"id\":\"7113\",\"type\":\"CDSView\"}},\"id\":\"7112\",\"type\":\"GlyphRenderer\"},{\"attributes\":{\"callback\":null,\"data\":{\"x\":{\"__ndarray__\":\"gRHJLCGSwL+QnXMjGuzFP4gIMYJgMcg/ZHRAoAca5D/gO0scX5XvP5qZmZmZmfE/ZmZmZmZm9j8AAAAAAAAQQDMzMzMzMxFAAAAAAAAAEkDNzMzMzMwSQA==\",\"dtype\":\"float64\",\"shape\":[11]},\"y\":{\"__ndarray__\":\"AAAAAAAAAAAAAAAAAAAAAAAAAAAAAAAAAAAAAAAAAAAAAAAAAAAAAAAAAAAAAPA/AAAAAAAA8D8AAAAAAADwPwAAAAAAAPA/AAAAAAAA8D8AAAAAAADwPw==\",\"dtype\":\"float64\",\"shape\":[11]}},\"selected\":{\"id\":\"7132\",\"type\":\"Selection\"},\"selection_policy\":{\"id\":\"7131\",\"type\":\"UnionRenderers\"}},\"id\":\"7104\",\"type\":\"ColumnDataSource\"},{\"attributes\":{},\"id\":\"7067\",\"type\":\"BasicTicker\"}],\"root_ids\":[\"7117\"]},\"title\":\"Bokeh Application\",\"version\":\"1.1.0\"}};\n",
       "  var render_items = [{\"docid\":\"7e914dfe-e350-4528-8699-caa57d91977d\",\"roots\":{\"7117\":\"aa68fb4b-eb6a-4ddb-beba-52defad587f2\"}}];\n",
       "  root.Bokeh.embed.embed_items_notebook(docs_json, render_items);\n",
       "\n",
       "  }\n",
       "  if (root.Bokeh !== undefined) {\n",
       "    embed_document(root);\n",
       "  } else {\n",
       "    var attempts = 0;\n",
       "    var timer = setInterval(function(root) {\n",
       "      if (root.Bokeh !== undefined) {\n",
       "        embed_document(root);\n",
       "        clearInterval(timer);\n",
       "      }\n",
       "      attempts++;\n",
       "      if (attempts > 100) {\n",
       "        console.log(\"Bokeh: ERROR: Unable to run BokehJS code because BokehJS library is missing\");\n",
       "        clearInterval(timer);\n",
       "      }\n",
       "    }, 10, root)\n",
       "  }\n",
       "})(window);"
      ],
      "application/vnd.bokehjs_exec.v0+json": ""
     },
     "metadata": {
      "application/vnd.bokehjs_exec.v0+json": {
       "id": "7117"
      }
     },
     "output_type": "display_data"
    }
   ],
   "source": [
    "## Plot\n",
    "\n",
    "output_file(\"logit_00.html\")\n",
    "p1 = figure(plot_height = 300, plot_width = 300,\n",
    "            tools = \"\")\n",
    "p2 = figure(plot_height = 300, plot_width = 300,\n",
    "            tools = \"\", title = \"Linear Regression\")\n",
    "p1.circle(x = x, y = y)\n",
    "p2.circle(x = x, y = y)\n",
    "p2.line(x = x, y = y_hat, color = 'red')\n",
    "hline = Span(location=0.5,  dimension='width', line_color='green', \n",
    "             line_dash='dashed', line_width=3)\n",
    "p1.add_layout(hline)\n",
    "p2.add_layout(hline)\n",
    "p1.toolbar.logo = None\n",
    "p2.toolbar.logo = None\n",
    "show(row(p1, p2))"
   ]
  },
  {
   "cell_type": "markdown",
   "metadata": {},
   "source": [
    "## Logistic Sigmoid"
   ]
  },
  {
   "cell_type": "code",
   "execution_count": 34,
   "metadata": {},
   "outputs": [
    {
     "data": {
      "text/html": [
       "\n",
       "\n",
       "\n",
       "\n",
       "\n",
       "\n",
       "  <div class=\"bk-root\" id=\"a0d82f67-d978-4d67-840b-1efda6d29297\" data-root-id=\"7407\"></div>\n"
      ]
     },
     "metadata": {},
     "output_type": "display_data"
    },
    {
     "data": {
      "application/javascript": [
       "(function(root) {\n",
       "  function embed_document(root) {\n",
       "    \n",
       "  var docs_json = {\"ea23137f-a94e-46d2-b056-0e091b7fb9e9\":{\"roots\":{\"references\":[{\"attributes\":{\"children\":[{\"id\":\"7077\",\"subtype\":\"Figure\",\"type\":\"Plot\"},{\"id\":\"7374\",\"subtype\":\"Figure\",\"type\":\"Plot\"}]},\"id\":\"7407\",\"type\":\"Row\"},{\"attributes\":{\"source\":{\"id\":\"7109\",\"type\":\"ColumnDataSource\"}},\"id\":\"7113\",\"type\":\"CDSView\"},{\"attributes\":{\"formatter\":{\"id\":\"7125\",\"type\":\"BasicTickFormatter\"},\"ticker\":{\"id\":\"7094\",\"type\":\"BasicTicker\"}},\"id\":\"7093\",\"type\":\"LinearAxis\"},{\"attributes\":{\"data_source\":{\"id\":\"7396\",\"type\":\"ColumnDataSource\"},\"glyph\":{\"id\":\"7397\",\"type\":\"Circle\"},\"hover_glyph\":null,\"muted_glyph\":null,\"nonselection_glyph\":{\"id\":\"7398\",\"type\":\"Circle\"},\"selection_glyph\":null,\"view\":{\"id\":\"7400\",\"type\":\"CDSView\"}},\"id\":\"7399\",\"type\":\"GlyphRenderer\"},{\"attributes\":{\"below\":[{\"id\":\"7088\",\"type\":\"LinearAxis\"}],\"center\":[{\"id\":\"7092\",\"type\":\"Grid\"},{\"id\":\"7097\",\"type\":\"Grid\"},{\"id\":\"7114\",\"type\":\"Span\"}],\"left\":[{\"id\":\"7093\",\"type\":\"LinearAxis\"}],\"plot_height\":300,\"plot_width\":300,\"renderers\":[{\"id\":\"7107\",\"type\":\"GlyphRenderer\"},{\"id\":\"7112\",\"type\":\"GlyphRenderer\"}],\"title\":{\"id\":\"7078\",\"type\":\"Title\"},\"toolbar\":{\"id\":\"7098\",\"type\":\"Toolbar\"},\"x_range\":{\"id\":\"7080\",\"type\":\"DataRange1d\"},\"x_scale\":{\"id\":\"7084\",\"type\":\"LinearScale\"},\"y_range\":{\"id\":\"7082\",\"type\":\"DataRange1d\"},\"y_scale\":{\"id\":\"7086\",\"type\":\"LinearScale\"}},\"id\":\"7077\",\"subtype\":\"Figure\",\"type\":\"Plot\"},{\"attributes\":{\"callback\":null,\"data\":{\"x\":{\"__ndarray__\":\"gRHJLCGSwL+QnXMjGuzFP4gIMYJgMcg/ZHRAoAca5D/gO0scX5XvP5qZmZmZmfE/ZmZmZmZm9j8AAAAAAAAQQDMzMzMzMxFAAAAAAAAAEkDNzMzMzMwSQA==\",\"dtype\":\"float64\",\"shape\":[11]},\"y\":{\"__ndarray__\":\"AAAAAAAAAAAAAAAAAAAAAAAAAAAAAAAAAAAAAAAAAAAAAAAAAAAAAAAAAAAAAAAAAAAAAAAA8D8AAAAAAADwPwAAAAAAAPA/AAAAAAAA8D8AAAAAAADwPw==\",\"dtype\":\"float64\",\"shape\":[11]}},\"selected\":{\"id\":\"7442\",\"type\":\"Selection\"},\"selection_policy\":{\"id\":\"7441\",\"type\":\"UnionRenderers\"}},\"id\":\"7402\",\"type\":\"ColumnDataSource\"},{\"attributes\":{\"source\":{\"id\":\"7396\",\"type\":\"ColumnDataSource\"}},\"id\":\"7400\",\"type\":\"CDSView\"},{\"attributes\":{},\"id\":\"7094\",\"type\":\"BasicTicker\"},{\"attributes\":{},\"id\":\"7433\",\"type\":\"BasicTickFormatter\"},{\"attributes\":{\"dimension\":1,\"ticker\":{\"id\":\"7094\",\"type\":\"BasicTicker\"}},\"id\":\"7097\",\"type\":\"Grid\"},{\"attributes\":{\"text\":\"scikit-learn\"},\"id\":\"7375\",\"type\":\"Title\"},{\"attributes\":{\"active_drag\":\"auto\",\"active_inspect\":\"auto\",\"active_multi\":null,\"active_scroll\":\"auto\",\"active_tap\":\"auto\",\"logo\":null},\"id\":\"7098\",\"type\":\"Toolbar\"},{\"attributes\":{\"active_drag\":\"auto\",\"active_inspect\":\"auto\",\"active_multi\":null,\"active_scroll\":\"auto\",\"active_tap\":\"auto\",\"logo\":null},\"id\":\"7395\",\"type\":\"Toolbar\"},{\"attributes\":{\"text\":\"Linear Regression\"},\"id\":\"7078\",\"type\":\"Title\"},{\"attributes\":{\"fill_color\":{\"value\":\"#1f77b4\"},\"line_color\":{\"value\":\"#1f77b4\"},\"x\":{\"field\":\"x\"},\"y\":{\"field\":\"y\"}},\"id\":\"7397\",\"type\":\"Circle\"},{\"attributes\":{},\"id\":\"7383\",\"type\":\"LinearScale\"},{\"attributes\":{\"data_source\":{\"id\":\"7402\",\"type\":\"ColumnDataSource\"},\"glyph\":{\"id\":\"7403\",\"type\":\"Line\"},\"hover_glyph\":null,\"muted_glyph\":null,\"nonselection_glyph\":{\"id\":\"7404\",\"type\":\"Line\"},\"selection_glyph\":null,\"view\":{\"id\":\"7406\",\"type\":\"CDSView\"}},\"id\":\"7405\",\"type\":\"GlyphRenderer\"},{\"attributes\":{},\"id\":\"7440\",\"type\":\"Selection\"},{\"attributes\":{\"callback\":null},\"id\":\"7080\",\"type\":\"DataRange1d\"},{\"attributes\":{\"line_alpha\":0.1,\"line_color\":\"#1f77b4\",\"x\":{\"field\":\"x\"},\"y\":{\"field\":\"y\"}},\"id\":\"7404\",\"type\":\"Line\"},{\"attributes\":{},\"id\":\"7381\",\"type\":\"LinearScale\"},{\"attributes\":{\"fill_alpha\":{\"value\":0.1},\"fill_color\":{\"value\":\"#1f77b4\"},\"line_alpha\":{\"value\":0.1},\"line_color\":{\"value\":\"#1f77b4\"},\"x\":{\"field\":\"x\"},\"y\":{\"field\":\"y\"}},\"id\":\"7398\",\"type\":\"Circle\"},{\"attributes\":{\"callback\":null},\"id\":\"7379\",\"type\":\"DataRange1d\"},{\"attributes\":{},\"id\":\"7086\",\"type\":\"LinearScale\"},{\"attributes\":{},\"id\":\"7125\",\"type\":\"BasicTickFormatter\"},{\"attributes\":{\"below\":[{\"id\":\"7385\",\"type\":\"LinearAxis\"}],\"center\":[{\"id\":\"7389\",\"type\":\"Grid\"},{\"id\":\"7394\",\"type\":\"Grid\"},{\"id\":\"7114\",\"type\":\"Span\"}],\"left\":[{\"id\":\"7390\",\"type\":\"LinearAxis\"}],\"plot_height\":300,\"plot_width\":300,\"renderers\":[{\"id\":\"7399\",\"type\":\"GlyphRenderer\"},{\"id\":\"7405\",\"type\":\"GlyphRenderer\"}],\"title\":{\"id\":\"7375\",\"type\":\"Title\"},\"toolbar\":{\"id\":\"7395\",\"type\":\"Toolbar\"},\"x_range\":{\"id\":\"7377\",\"type\":\"DataRange1d\"},\"x_scale\":{\"id\":\"7381\",\"type\":\"LinearScale\"},\"y_range\":{\"id\":\"7379\",\"type\":\"DataRange1d\"},\"y_scale\":{\"id\":\"7383\",\"type\":\"LinearScale\"}},\"id\":\"7374\",\"subtype\":\"Figure\",\"type\":\"Plot\"},{\"attributes\":{\"callback\":null},\"id\":\"7377\",\"type\":\"DataRange1d\"},{\"attributes\":{},\"id\":\"7127\",\"type\":\"BasicTickFormatter\"},{\"attributes\":{},\"id\":\"7386\",\"type\":\"BasicTicker\"},{\"attributes\":{\"callback\":null,\"data\":{\"x\":{\"__ndarray__\":\"gRHJLCGSwL+QnXMjGuzFP4gIMYJgMcg/ZHRAoAca5D/gO0scX5XvP5qZmZmZmfE/ZmZmZmZm9j8AAAAAAAAQQDMzMzMzMxFAAAAAAAAAEkDNzMzMzMwSQA==\",\"dtype\":\"float64\",\"shape\":[11]},\"y\":{\"__ndarray__\":\"xAdpxUufuD9qm6YSdXzEP5bjlxTo98Q/8VjzIBV00D/b+tT3k1TVP3gwIqrT3dY/PvmJabPx2j+oYjHyTSTvP4aj8ugel/A//ETZiBlF8T9z5r8oFPPxPw==\",\"dtype\":\"float64\",\"shape\":[11]}},\"selected\":{\"id\":\"7134\",\"type\":\"Selection\"},\"selection_policy\":{\"id\":\"7133\",\"type\":\"UnionRenderers\"}},\"id\":\"7109\",\"type\":\"ColumnDataSource\"},{\"attributes\":{\"formatter\":{\"id\":\"7433\",\"type\":\"BasicTickFormatter\"},\"ticker\":{\"id\":\"7386\",\"type\":\"BasicTicker\"}},\"id\":\"7385\",\"type\":\"LinearAxis\"},{\"attributes\":{\"fill_color\":{\"value\":\"#1f77b4\"},\"line_color\":{\"value\":\"#1f77b4\"},\"x\":{\"field\":\"x\"},\"y\":{\"field\":\"y\"}},\"id\":\"7105\",\"type\":\"Circle\"},{\"attributes\":{\"callback\":null},\"id\":\"7082\",\"type\":\"DataRange1d\"},{\"attributes\":{},\"id\":\"7131\",\"type\":\"UnionRenderers\"},{\"attributes\":{},\"id\":\"7431\",\"type\":\"BasicTickFormatter\"},{\"attributes\":{\"source\":{\"id\":\"7402\",\"type\":\"ColumnDataSource\"}},\"id\":\"7406\",\"type\":\"CDSView\"},{\"attributes\":{\"ticker\":{\"id\":\"7386\",\"type\":\"BasicTicker\"}},\"id\":\"7389\",\"type\":\"Grid\"},{\"attributes\":{\"fill_alpha\":{\"value\":0.1},\"fill_color\":{\"value\":\"#1f77b4\"},\"line_alpha\":{\"value\":0.1},\"line_color\":{\"value\":\"#1f77b4\"},\"x\":{\"field\":\"x\"},\"y\":{\"field\":\"y\"}},\"id\":\"7106\",\"type\":\"Circle\"},{\"attributes\":{},\"id\":\"7442\",\"type\":\"Selection\"},{\"attributes\":{},\"id\":\"7132\",\"type\":\"Selection\"},{\"attributes\":{\"data_source\":{\"id\":\"7104\",\"type\":\"ColumnDataSource\"},\"glyph\":{\"id\":\"7105\",\"type\":\"Circle\"},\"hover_glyph\":null,\"muted_glyph\":null,\"nonselection_glyph\":{\"id\":\"7106\",\"type\":\"Circle\"},\"selection_glyph\":null,\"view\":{\"id\":\"7108\",\"type\":\"CDSView\"}},\"id\":\"7107\",\"type\":\"GlyphRenderer\"},{\"attributes\":{\"line_color\":\"red\",\"x\":{\"field\":\"x\"},\"y\":{\"field\":\"y\"}},\"id\":\"7403\",\"type\":\"Line\"},{\"attributes\":{},\"id\":\"7133\",\"type\":\"UnionRenderers\"},{\"attributes\":{},\"id\":\"7134\",\"type\":\"Selection\"},{\"attributes\":{\"source\":{\"id\":\"7104\",\"type\":\"ColumnDataSource\"}},\"id\":\"7108\",\"type\":\"CDSView\"},{\"attributes\":{\"formatter\":{\"id\":\"7127\",\"type\":\"BasicTickFormatter\"},\"ticker\":{\"id\":\"7089\",\"type\":\"BasicTicker\"}},\"id\":\"7088\",\"type\":\"LinearAxis\"},{\"attributes\":{},\"id\":\"7089\",\"type\":\"BasicTicker\"},{\"attributes\":{},\"id\":\"7439\",\"type\":\"UnionRenderers\"},{\"attributes\":{},\"id\":\"7441\",\"type\":\"UnionRenderers\"},{\"attributes\":{},\"id\":\"7084\",\"type\":\"LinearScale\"},{\"attributes\":{\"line_color\":{\"value\":\"green\"},\"line_dash\":[6],\"line_width\":{\"value\":3},\"location\":0.5},\"id\":\"7114\",\"type\":\"Span\"},{\"attributes\":{\"line_color\":\"red\",\"x\":{\"field\":\"x\"},\"y\":{\"field\":\"y\"}},\"id\":\"7110\",\"type\":\"Line\"},{\"attributes\":{\"dimension\":1,\"ticker\":{\"id\":\"7391\",\"type\":\"BasicTicker\"}},\"id\":\"7394\",\"type\":\"Grid\"},{\"attributes\":{\"callback\":null,\"data\":{\"x\":{\"__ndarray__\":\"gRHJLCGSwL+QnXMjGuzFP4gIMYJgMcg/ZHRAoAca5D/gO0scX5XvP5qZmZmZmfE/ZmZmZmZm9j8AAAAAAAAQQDMzMzMzMxFAAAAAAAAAEkDNzMzMzMwSQA==\",\"dtype\":\"float64\",\"shape\":[11]},\"y\":{\"__ndarray__\":\"AAAAAAAAAAAAAAAAAAAAAAAAAAAAAAAAAAAAAAAAAAAAAAAAAAAAAAAAAAAAAPA/AAAAAAAA8D8AAAAAAADwPwAAAAAAAPA/AAAAAAAA8D8AAAAAAADwPw==\",\"dtype\":\"float64\",\"shape\":[11]}},\"selected\":{\"id\":\"7440\",\"type\":\"Selection\"},\"selection_policy\":{\"id\":\"7439\",\"type\":\"UnionRenderers\"}},\"id\":\"7396\",\"type\":\"ColumnDataSource\"},{\"attributes\":{\"line_alpha\":0.1,\"line_color\":\"#1f77b4\",\"x\":{\"field\":\"x\"},\"y\":{\"field\":\"y\"}},\"id\":\"7111\",\"type\":\"Line\"},{\"attributes\":{\"ticker\":{\"id\":\"7089\",\"type\":\"BasicTicker\"}},\"id\":\"7092\",\"type\":\"Grid\"},{\"attributes\":{},\"id\":\"7391\",\"type\":\"BasicTicker\"},{\"attributes\":{\"formatter\":{\"id\":\"7431\",\"type\":\"BasicTickFormatter\"},\"ticker\":{\"id\":\"7391\",\"type\":\"BasicTicker\"}},\"id\":\"7390\",\"type\":\"LinearAxis\"},{\"attributes\":{\"data_source\":{\"id\":\"7109\",\"type\":\"ColumnDataSource\"},\"glyph\":{\"id\":\"7110\",\"type\":\"Line\"},\"hover_glyph\":null,\"muted_glyph\":null,\"nonselection_glyph\":{\"id\":\"7111\",\"type\":\"Line\"},\"selection_glyph\":null,\"view\":{\"id\":\"7113\",\"type\":\"CDSView\"}},\"id\":\"7112\",\"type\":\"GlyphRenderer\"},{\"attributes\":{\"callback\":null,\"data\":{\"x\":{\"__ndarray__\":\"gRHJLCGSwL+QnXMjGuzFP4gIMYJgMcg/ZHRAoAca5D/gO0scX5XvP5qZmZmZmfE/ZmZmZmZm9j8AAAAAAAAQQDMzMzMzMxFAAAAAAAAAEkDNzMzMzMwSQA==\",\"dtype\":\"float64\",\"shape\":[11]},\"y\":{\"__ndarray__\":\"AAAAAAAAAAAAAAAAAAAAAAAAAAAAAAAAAAAAAAAAAAAAAAAAAAAAAAAAAAAAAPA/AAAAAAAA8D8AAAAAAADwPwAAAAAAAPA/AAAAAAAA8D8AAAAAAADwPw==\",\"dtype\":\"float64\",\"shape\":[11]}},\"selected\":{\"id\":\"7132\",\"type\":\"Selection\"},\"selection_policy\":{\"id\":\"7131\",\"type\":\"UnionRenderers\"}},\"id\":\"7104\",\"type\":\"ColumnDataSource\"}],\"root_ids\":[\"7407\"]},\"title\":\"Bokeh Application\",\"version\":\"1.1.0\"}};\n",
       "  var render_items = [{\"docid\":\"ea23137f-a94e-46d2-b056-0e091b7fb9e9\",\"roots\":{\"7407\":\"a0d82f67-d978-4d67-840b-1efda6d29297\"}}];\n",
       "  root.Bokeh.embed.embed_items_notebook(docs_json, render_items);\n",
       "\n",
       "  }\n",
       "  if (root.Bokeh !== undefined) {\n",
       "    embed_document(root);\n",
       "  } else {\n",
       "    var attempts = 0;\n",
       "    var timer = setInterval(function(root) {\n",
       "      if (root.Bokeh !== undefined) {\n",
       "        embed_document(root);\n",
       "        clearInterval(timer);\n",
       "      }\n",
       "      attempts++;\n",
       "      if (attempts > 100) {\n",
       "        console.log(\"Bokeh: ERROR: Unable to run BokehJS code because BokehJS library is missing\");\n",
       "        clearInterval(timer);\n",
       "      }\n",
       "    }, 10, root)\n",
       "  }\n",
       "})(window);"
      ],
      "application/vnd.bokehjs_exec.v0+json": ""
     },
     "metadata": {
      "application/vnd.bokehjs_exec.v0+json": {
       "id": "7407"
      }
     },
     "output_type": "display_data"
    }
   ],
   "source": [
    "from sklearn.linear_model import LogisticRegression\n",
    "clf = LogisticRegression(solver='lbfgs')\n",
    "clf.fit(X, y)\n",
    "y_new = clf.predict(X)\n",
    "\n",
    "\n",
    "output_file(\"logit_01.html\")\n",
    "p3 = figure(plot_height = 300, plot_width = 300,\n",
    "            tools = \"\", title = \"scikit-learn\")\n",
    "p3.circle(x = x, y = y)\n",
    "p3.toolbar.logo = None\n",
    "p3.add_layout(hline)\n",
    "p3.line(x = x, y = y_new, color = \"red\")\n",
    "show(row(p2, p3))"
   ]
  },
  {
   "cell_type": "markdown",
   "metadata": {},
   "source": [
    "## Least Squares Cost Function"
   ]
  },
  {
   "cell_type": "code",
   "execution_count": 5,
   "metadata": {},
   "outputs": [],
   "source": [
    "def sigmoid(t):\n",
    "    return 1/(1 + np.exp(-t))\n",
    "def sigmoid_least_squares(w_0, w_1):\n",
    "    cost = 0\n",
    "    for i in range(y.size):\n",
    "        cost += (sigmoid(w_0 + w_1* x[i])- y[i])**2\n",
    "    return cost/y.size"
   ]
  },
  {
   "cell_type": "code",
   "execution_count": 84,
   "metadata": {},
   "outputs": [
    {
     "ename": "NameError",
     "evalue": "name 'sigmoid_least_squares' is not defined",
     "output_type": "error",
     "traceback": [
      "\u001b[0;31m---------------------------------------------------------------------------\u001b[0m",
      "\u001b[0;31mNameError\u001b[0m                                 Traceback (most recent call last)",
      "\u001b[0;32m<ipython-input-84-747b2a015295>\u001b[0m in \u001b[0;36m<module>\u001b[0;34m()\u001b[0m\n\u001b[1;32m      2\u001b[0m \u001b[0mw_1\u001b[0m \u001b[0;34m=\u001b[0m \u001b[0mnp\u001b[0m\u001b[0;34m.\u001b[0m\u001b[0mlinspace\u001b[0m\u001b[0;34m(\u001b[0m\u001b[0;34m-\u001b[0m\u001b[0;36m20\u001b[0m\u001b[0;34m,\u001b[0m \u001b[0;36m20\u001b[0m\u001b[0;34m,\u001b[0m \u001b[0;36m90\u001b[0m\u001b[0;34m)\u001b[0m\u001b[0;34m\u001b[0m\u001b[0;34m\u001b[0m\u001b[0m\n\u001b[1;32m      3\u001b[0m \u001b[0mw0\u001b[0m\u001b[0;34m,\u001b[0m \u001b[0mw1\u001b[0m \u001b[0;34m=\u001b[0m \u001b[0mnp\u001b[0m\u001b[0;34m.\u001b[0m\u001b[0mmeshgrid\u001b[0m\u001b[0;34m(\u001b[0m\u001b[0mw_0\u001b[0m\u001b[0;34m,\u001b[0m \u001b[0mw_1\u001b[0m\u001b[0;34m)\u001b[0m\u001b[0;34m\u001b[0m\u001b[0;34m\u001b[0m\u001b[0m\n\u001b[0;32m----> 4\u001b[0;31m \u001b[0mcost\u001b[0m \u001b[0;34m=\u001b[0m \u001b[0msigmoid_least_squares\u001b[0m\u001b[0;34m(\u001b[0m\u001b[0mw0\u001b[0m\u001b[0;34m,\u001b[0m \u001b[0mw1\u001b[0m\u001b[0;34m)\u001b[0m\u001b[0;34m\u001b[0m\u001b[0;34m\u001b[0m\u001b[0m\n\u001b[0m",
      "\u001b[0;31mNameError\u001b[0m: name 'sigmoid_least_squares' is not defined"
     ]
    }
   ],
   "source": [
    "w_0 = np.linspace(-20, 20, 90)\n",
    "w_1 = np.linspace(-20, 20, 90)\n",
    "w0, w1 = np.meshgrid(w_0, w_1)\n",
    "cost = sigmoid_least_squares(w0, w1)"
   ]
  },
  {
   "cell_type": "code",
   "execution_count": 173,
   "metadata": {},
   "outputs": [],
   "source": [
    "from mpl_toolkits import mplot3d\n",
    "import pylab as p\n",
    "import mpl_toolkits.mplot3d.axes3d as p3\n",
    "%matplotlib widget\n",
    "# %matplotlib inline\n",
    "import numpy as np\n",
    "import matplotlib.pyplot as plt\n"
   ]
  },
  {
   "cell_type": "code",
   "execution_count": 174,
   "metadata": {},
   "outputs": [
    {
     "data": {
      "application/vnd.jupyter.widget-view+json": {
       "model_id": "c3892528f2da4d8aa13932b1a59e5c99",
       "version_major": 2,
       "version_minor": 0
      },
      "text/plain": [
       "FigureCanvasNbAgg()"
      ]
     },
     "metadata": {},
     "output_type": "display_data"
    },
    {
     "name": "stderr",
     "output_type": "stream",
     "text": [
      "/Users/lin_deng/anaconda3/lib/python3.6/site-packages/matplotlib/figure.py:98: MatplotlibDeprecationWarning: \n",
      "Adding an axes using the same arguments as a previous axes currently reuses the earlier instance.  In a future version, a new instance will always be created and returned.  Meanwhile, this warning can be suppressed, and the future behavior ensured, by passing a unique label to each axes instance.\n",
      "  \"Adding an axes using the same arguments as a previous axes \"\n"
     ]
    }
   ],
   "source": [
    "fig = plt.figure()\n",
    "ax = p3.Axes3D(fig)\n",
    "\n",
    "\n",
    "ax.plot_surface(w0,w1,cost, cmap='binary')\n",
    "#     ax.contourf3D(w0,w1,cost)\n",
    "ax.set_xlabel('w_0')\n",
    "ax.set_ylabel('w_1')\n",
    "ax.set_zlabel('cost');\n",
    "\n",
    "ax.view_init(30, 121)\n",
    "fig.add_axes(ax)\n",
    "p.show()"
   ]
  },
  {
   "cell_type": "code",
   "execution_count": 29,
   "metadata": {},
   "outputs": [
    {
     "data": {
      "application/vnd.jupyter.widget-view+json": {
       "model_id": "",
       "version_major": 2,
       "version_minor": 0
      },
      "text/plain": [
       "FigureCanvasNbAgg()"
      ]
     },
     "metadata": {},
     "output_type": "display_data"
    },
    {
     "name": "stderr",
     "output_type": "stream",
     "text": [
      "/Users/lin_deng/anaconda3/lib/python3.6/site-packages/matplotlib/figure.py:98: MatplotlibDeprecationWarning: \n",
      "Adding an axes using the same arguments as a previous axes currently reuses the earlier instance.  In a future version, a new instance will always be created and returned.  Meanwhile, this warning can be suppressed, and the future behavior ensured, by passing a unique label to each axes instance.\n",
      "  \"Adding an axes using the same arguments as a previous axes \"\n"
     ]
    }
   ],
   "source": [
    "# fig = plt.figure()\n",
    "# ax = p3.Axes3D(fig)\n",
    "\n",
    "# for i in range(20, 180, 2):\n",
    "#     ax.plot_surface(w0,w1,cost, cmap='binary')\n",
    "#     # ax.contourf3D(w0,w1,cost)\n",
    "#     ax.set_xlabel('w_0')\n",
    "#     ax.set_ylabel('w_1')\n",
    "#     ax.set_zlabel('cost');\n",
    "\n",
    "#     ax.view_init(30, i)\n",
    "#     fig.add_axes(ax)\n",
    "#     filename='GIF/step'+str(i)+'.png'\n",
    "#     plt.savefig(filename, dpi=96)\n",
    "# #     p.show()"
   ]
  },
  {
   "cell_type": "code",
   "execution_count": 35,
   "metadata": {},
   "outputs": [
    {
     "data": {
      "text/html": [
       "\n",
       "        <iframe\n",
       "            width=\"600\"\n",
       "            height=\"500\"\n",
       "            src=\"GIF/LS_gif.gif\"\n",
       "            frameborder=\"0\"\n",
       "            allowfullscreen\n",
       "        ></iframe>\n",
       "        "
      ],
      "text/plain": [
       "<IPython.lib.display.IFrame at 0x1a30c7b6a0>"
      ]
     },
     "execution_count": 35,
     "metadata": {},
     "output_type": "execute_result"
    }
   ],
   "source": [
    "from IPython.display import IFrame\n",
    "IFrame('GIF/LS_gif.gif', width=600, height=500)"
   ]
  },
  {
   "cell_type": "markdown",
   "metadata": {},
   "source": [
    "### Least Squares"
   ]
  },
  {
   "cell_type": "code",
   "execution_count": 35,
   "metadata": {},
   "outputs": [],
   "source": [
    "def sigmoid(t):\n",
    "    return 1/(1 + np.exp(-t))\n",
    "\n",
    "def gradient(t, y):\n",
    "    outcome = (sigmoid(t)**2 - sigmoid(t)**3 - y*sigmoid(t) + y*sigmoid(t)**2)*t\n",
    "    return 2 * outcome"
   ]
  },
  {
   "cell_type": "code",
   "execution_count": 36,
   "metadata": {},
   "outputs": [
    {
     "name": "stdout",
     "output_type": "stream",
     "text": [
      "iter = 5000 | w = [-19.83051035  20.16948965] | gradient = 0.0\n"
     ]
    }
   ],
   "source": [
    "alpha = 0.0001\n",
    "g = 0\n",
    "w = np.array([-20, 20])\n",
    "iteration = 0\n",
    "for t in range(5000):\n",
    "    for i in range(x.size):\n",
    "        grad = gradient((np.dot(w.T, X[i])), y[i])\n",
    "        g += grad\n",
    "#         print(\"gradient = {} | g = {}\".format(grad, g))\n",
    "#     if abs(grad) <= 0.001:\n",
    "#         break\n",
    "        \n",
    "    w = w - alpha * g\n",
    "#     print(\"iter = {0} | w = {1} | gradient = {2}\".format(iteration, w, grad))\n",
    "    iteration += 1\n",
    "    \n",
    "print(\"iter = {0} | w = {1} | gradient = {2}\".format(iteration, w, grad))\n",
    "   "
   ]
  },
  {
   "cell_type": "code",
   "execution_count": 37,
   "metadata": {},
   "outputs": [
    {
     "data": {
      "text/html": [
       "\n",
       "\n",
       "\n",
       "\n",
       "\n",
       "\n",
       "  <div class=\"bk-root\" id=\"bf889a4c-5246-4b63-b56b-12b935f0163b\" data-root-id=\"7765\"></div>\n"
      ]
     },
     "metadata": {},
     "output_type": "display_data"
    },
    {
     "data": {
      "application/javascript": [
       "(function(root) {\n",
       "  function embed_document(root) {\n",
       "    \n",
       "  var docs_json = {\"bf04d8ce-d7e5-45f3-b1e8-c1382887d670\":{\"roots\":{\"references\":[{\"attributes\":{\"children\":[{\"id\":\"7374\",\"subtype\":\"Figure\",\"type\":\"Plot\"},{\"id\":\"7732\",\"subtype\":\"Figure\",\"type\":\"Plot\"}]},\"id\":\"7765\",\"type\":\"Row\"},{\"attributes\":{\"data_source\":{\"id\":\"7760\",\"type\":\"ColumnDataSource\"},\"glyph\":{\"id\":\"7761\",\"type\":\"Line\"},\"hover_glyph\":null,\"muted_glyph\":null,\"nonselection_glyph\":{\"id\":\"7762\",\"type\":\"Line\"},\"selection_glyph\":null,\"view\":{\"id\":\"7764\",\"type\":\"CDSView\"}},\"id\":\"7763\",\"type\":\"GlyphRenderer\"},{\"attributes\":{\"data_source\":{\"id\":\"7396\",\"type\":\"ColumnDataSource\"},\"glyph\":{\"id\":\"7397\",\"type\":\"Circle\"},\"hover_glyph\":null,\"muted_glyph\":null,\"nonselection_glyph\":{\"id\":\"7398\",\"type\":\"Circle\"},\"selection_glyph\":null,\"view\":{\"id\":\"7400\",\"type\":\"CDSView\"}},\"id\":\"7399\",\"type\":\"GlyphRenderer\"},{\"attributes\":{\"data_source\":{\"id\":\"7754\",\"type\":\"ColumnDataSource\"},\"glyph\":{\"id\":\"7755\",\"type\":\"Circle\"},\"hover_glyph\":null,\"muted_glyph\":null,\"nonselection_glyph\":{\"id\":\"7756\",\"type\":\"Circle\"},\"selection_glyph\":null,\"view\":{\"id\":\"7758\",\"type\":\"CDSView\"}},\"id\":\"7757\",\"type\":\"GlyphRenderer\"},{\"attributes\":{\"callback\":null,\"data\":{\"x\":{\"__ndarray__\":\"gRHJLCGSwL+QnXMjGuzFP4gIMYJgMcg/ZHRAoAca5D/gO0scX5XvP5qZmZmZmfE/ZmZmZmZm9j8AAAAAAAAQQDMzMzMzMxFAAAAAAAAAEkDNzMzMzMwSQA==\",\"dtype\":\"float64\",\"shape\":[11]},\"y\":{\"__ndarray__\":\"AAAAAAAAAAAAAAAAAAAAAAAAAAAAAAAAAAAAAAAAAAAAAAAAAAAAAAAAAAAAAAAAAAAAAAAA8D8AAAAAAADwPwAAAAAAAPA/AAAAAAAA8D8AAAAAAADwPw==\",\"dtype\":\"float64\",\"shape\":[11]}},\"selected\":{\"id\":\"7442\",\"type\":\"Selection\"},\"selection_policy\":{\"id\":\"7441\",\"type\":\"UnionRenderers\"}},\"id\":\"7402\",\"type\":\"ColumnDataSource\"},{\"attributes\":{\"source\":{\"id\":\"7396\",\"type\":\"ColumnDataSource\"}},\"id\":\"7400\",\"type\":\"CDSView\"},{\"attributes\":{\"source\":{\"id\":\"7760\",\"type\":\"ColumnDataSource\"}},\"id\":\"7764\",\"type\":\"CDSView\"},{\"attributes\":{},\"id\":\"7433\",\"type\":\"BasicTickFormatter\"},{\"attributes\":{\"line_alpha\":0.1,\"line_color\":\"#1f77b4\",\"x\":{\"field\":\"x\"},\"y\":{\"field\":\"y\"}},\"id\":\"7762\",\"type\":\"Line\"},{\"attributes\":{\"text\":\"scikit-learn\"},\"id\":\"7375\",\"type\":\"Title\"},{\"attributes\":{\"formatter\":{\"id\":\"7809\",\"type\":\"BasicTickFormatter\"},\"ticker\":{\"id\":\"7744\",\"type\":\"BasicTicker\"}},\"id\":\"7743\",\"type\":\"LinearAxis\"},{\"attributes\":{},\"id\":\"7809\",\"type\":\"BasicTickFormatter\"},{\"attributes\":{},\"id\":\"7818\",\"type\":\"Selection\"},{\"attributes\":{\"active_drag\":\"auto\",\"active_inspect\":\"auto\",\"active_multi\":null,\"active_scroll\":\"auto\",\"active_tap\":\"auto\",\"logo\":null},\"id\":\"7395\",\"type\":\"Toolbar\"},{\"attributes\":{\"fill_color\":{\"value\":\"#1f77b4\"},\"line_color\":{\"value\":\"#1f77b4\"},\"x\":{\"field\":\"x\"},\"y\":{\"field\":\"y\"}},\"id\":\"7397\",\"type\":\"Circle\"},{\"attributes\":{},\"id\":\"7383\",\"type\":\"LinearScale\"},{\"attributes\":{\"data_source\":{\"id\":\"7402\",\"type\":\"ColumnDataSource\"},\"glyph\":{\"id\":\"7403\",\"type\":\"Line\"},\"hover_glyph\":null,\"muted_glyph\":null,\"nonselection_glyph\":{\"id\":\"7404\",\"type\":\"Line\"},\"selection_glyph\":null,\"view\":{\"id\":\"7406\",\"type\":\"CDSView\"}},\"id\":\"7405\",\"type\":\"GlyphRenderer\"},{\"attributes\":{},\"id\":\"7440\",\"type\":\"Selection\"},{\"attributes\":{\"callback\":null},\"id\":\"7737\",\"type\":\"DataRange1d\"},{\"attributes\":{\"line_color\":\"red\",\"x\":{\"field\":\"x\"},\"y\":{\"field\":\"y\"}},\"id\":\"7761\",\"type\":\"Line\"},{\"attributes\":{\"line_alpha\":0.1,\"line_color\":\"#1f77b4\",\"x\":{\"field\":\"x\"},\"y\":{\"field\":\"y\"}},\"id\":\"7404\",\"type\":\"Line\"},{\"attributes\":{},\"id\":\"7744\",\"type\":\"BasicTicker\"},{\"attributes\":{},\"id\":\"7381\",\"type\":\"LinearScale\"},{\"attributes\":{},\"id\":\"7815\",\"type\":\"UnionRenderers\"},{\"attributes\":{},\"id\":\"7741\",\"type\":\"LinearScale\"},{\"attributes\":{\"callback\":null},\"id\":\"7379\",\"type\":\"DataRange1d\"},{\"attributes\":{\"active_drag\":\"auto\",\"active_inspect\":\"auto\",\"active_multi\":null,\"active_scroll\":\"auto\",\"active_tap\":\"auto\",\"logo\":null},\"id\":\"7753\",\"type\":\"Toolbar\"},{\"attributes\":{\"fill_alpha\":{\"value\":0.1},\"fill_color\":{\"value\":\"#1f77b4\"},\"line_alpha\":{\"value\":0.1},\"line_color\":{\"value\":\"#1f77b4\"},\"x\":{\"field\":\"x\"},\"y\":{\"field\":\"y\"}},\"id\":\"7398\",\"type\":\"Circle\"},{\"attributes\":{},\"id\":\"7816\",\"type\":\"Selection\"},{\"attributes\":{\"below\":[{\"id\":\"7385\",\"type\":\"LinearAxis\"}],\"center\":[{\"id\":\"7389\",\"type\":\"Grid\"},{\"id\":\"7394\",\"type\":\"Grid\"},{\"id\":\"7114\",\"type\":\"Span\"}],\"left\":[{\"id\":\"7390\",\"type\":\"LinearAxis\"}],\"plot_height\":300,\"plot_width\":300,\"renderers\":[{\"id\":\"7399\",\"type\":\"GlyphRenderer\"},{\"id\":\"7405\",\"type\":\"GlyphRenderer\"}],\"title\":{\"id\":\"7375\",\"type\":\"Title\"},\"toolbar\":{\"id\":\"7395\",\"type\":\"Toolbar\"},\"x_range\":{\"id\":\"7377\",\"type\":\"DataRange1d\"},\"x_scale\":{\"id\":\"7381\",\"type\":\"LinearScale\"},\"y_range\":{\"id\":\"7379\",\"type\":\"DataRange1d\"},\"y_scale\":{\"id\":\"7383\",\"type\":\"LinearScale\"}},\"id\":\"7374\",\"subtype\":\"Figure\",\"type\":\"Plot\"},{\"attributes\":{\"callback\":null},\"id\":\"7377\",\"type\":\"DataRange1d\"},{\"attributes\":{\"callback\":null,\"data\":{\"x\":{\"__ndarray__\":\"gRHJLCGSwL+QnXMjGuzFP4gIMYJgMcg/ZHRAoAca5D/gO0scX5XvP5qZmZmZmfE/ZmZmZmZm9j8AAAAAAAAQQDMzMzMzMxFAAAAAAAAAEkDNzMzMzMwSQA==\",\"dtype\":\"float64\",\"shape\":[11]},\"y\":{\"__ndarray__\":\"6tkWVJCm6D29oJJBEb10PmDTi0PVqH0+83khmCVuST8/IKMufpzgP3nVb5+bOu0/pL82tSv+7z8AAAAAAADwPwAAAAAAAPA/AAAAAAAA8D8AAAAAAADwPw==\",\"dtype\":\"float64\",\"shape\":[11]}},\"selected\":{\"id\":\"7818\",\"type\":\"Selection\"},\"selection_policy\":{\"id\":\"7817\",\"type\":\"UnionRenderers\"}},\"id\":\"7760\",\"type\":\"ColumnDataSource\"},{\"attributes\":{\"callback\":null,\"data\":{\"x\":{\"__ndarray__\":\"gRHJLCGSwL+QnXMjGuzFP4gIMYJgMcg/ZHRAoAca5D/gO0scX5XvP5qZmZmZmfE/ZmZmZmZm9j8AAAAAAAAQQDMzMzMzMxFAAAAAAAAAEkDNzMzMzMwSQA==\",\"dtype\":\"float64\",\"shape\":[11]},\"y\":{\"__ndarray__\":\"AAAAAAAAAAAAAAAAAAAAAAAAAAAAAAAAAAAAAAAAAAAAAAAAAAAAAAAAAAAAAPA/AAAAAAAA8D8AAAAAAADwPwAAAAAAAPA/AAAAAAAA8D8AAAAAAADwPw==\",\"dtype\":\"float64\",\"shape\":[11]}},\"selected\":{\"id\":\"7816\",\"type\":\"Selection\"},\"selection_policy\":{\"id\":\"7815\",\"type\":\"UnionRenderers\"}},\"id\":\"7754\",\"type\":\"ColumnDataSource\"},{\"attributes\":{},\"id\":\"7386\",\"type\":\"BasicTicker\"},{\"attributes\":{\"formatter\":{\"id\":\"7433\",\"type\":\"BasicTickFormatter\"},\"ticker\":{\"id\":\"7386\",\"type\":\"BasicTicker\"}},\"id\":\"7385\",\"type\":\"LinearAxis\"},{\"attributes\":{\"fill_color\":{\"value\":\"#1f77b4\"},\"line_color\":{\"value\":\"#1f77b4\"},\"x\":{\"field\":\"x\"},\"y\":{\"field\":\"y\"}},\"id\":\"7755\",\"type\":\"Circle\"},{\"attributes\":{},\"id\":\"7442\",\"type\":\"Selection\"},{\"attributes\":{},\"id\":\"7431\",\"type\":\"BasicTickFormatter\"},{\"attributes\":{\"source\":{\"id\":\"7402\",\"type\":\"ColumnDataSource\"}},\"id\":\"7406\",\"type\":\"CDSView\"},{\"attributes\":{\"ticker\":{\"id\":\"7386\",\"type\":\"BasicTicker\"}},\"id\":\"7389\",\"type\":\"Grid\"},{\"attributes\":{\"below\":[{\"id\":\"7743\",\"type\":\"LinearAxis\"}],\"center\":[{\"id\":\"7747\",\"type\":\"Grid\"},{\"id\":\"7752\",\"type\":\"Grid\"},{\"id\":\"7114\",\"type\":\"Span\"}],\"left\":[{\"id\":\"7748\",\"type\":\"LinearAxis\"}],\"plot_height\":300,\"plot_width\":300,\"renderers\":[{\"id\":\"7757\",\"type\":\"GlyphRenderer\"},{\"id\":\"7763\",\"type\":\"GlyphRenderer\"}],\"title\":{\"id\":\"7733\",\"type\":\"Title\"},\"toolbar\":{\"id\":\"7753\",\"type\":\"Toolbar\"},\"x_range\":{\"id\":\"7735\",\"type\":\"DataRange1d\"},\"x_scale\":{\"id\":\"7739\",\"type\":\"LinearScale\"},\"y_range\":{\"id\":\"7737\",\"type\":\"DataRange1d\"},\"y_scale\":{\"id\":\"7741\",\"type\":\"LinearScale\"}},\"id\":\"7732\",\"subtype\":\"Figure\",\"type\":\"Plot\"},{\"attributes\":{\"line_color\":\"red\",\"x\":{\"field\":\"x\"},\"y\":{\"field\":\"y\"}},\"id\":\"7403\",\"type\":\"Line\"},{\"attributes\":{},\"id\":\"7807\",\"type\":\"BasicTickFormatter\"},{\"attributes\":{\"text\":\"Mean Squared Error Cost\"},\"id\":\"7733\",\"type\":\"Title\"},{\"attributes\":{\"formatter\":{\"id\":\"7807\",\"type\":\"BasicTickFormatter\"},\"ticker\":{\"id\":\"7749\",\"type\":\"BasicTicker\"}},\"id\":\"7748\",\"type\":\"LinearAxis\"},{\"attributes\":{},\"id\":\"7739\",\"type\":\"LinearScale\"},{\"attributes\":{\"fill_alpha\":{\"value\":0.1},\"fill_color\":{\"value\":\"#1f77b4\"},\"line_alpha\":{\"value\":0.1},\"line_color\":{\"value\":\"#1f77b4\"},\"x\":{\"field\":\"x\"},\"y\":{\"field\":\"y\"}},\"id\":\"7756\",\"type\":\"Circle\"},{\"attributes\":{\"dimension\":1,\"ticker\":{\"id\":\"7749\",\"type\":\"BasicTicker\"}},\"id\":\"7752\",\"type\":\"Grid\"},{\"attributes\":{\"callback\":null},\"id\":\"7735\",\"type\":\"DataRange1d\"},{\"attributes\":{},\"id\":\"7439\",\"type\":\"UnionRenderers\"},{\"attributes\":{},\"id\":\"7441\",\"type\":\"UnionRenderers\"},{\"attributes\":{\"line_color\":{\"value\":\"green\"},\"line_dash\":[6],\"line_width\":{\"value\":3},\"location\":0.5},\"id\":\"7114\",\"type\":\"Span\"},{\"attributes\":{\"ticker\":{\"id\":\"7744\",\"type\":\"BasicTicker\"}},\"id\":\"7747\",\"type\":\"Grid\"},{\"attributes\":{},\"id\":\"7817\",\"type\":\"UnionRenderers\"},{\"attributes\":{\"source\":{\"id\":\"7754\",\"type\":\"ColumnDataSource\"}},\"id\":\"7758\",\"type\":\"CDSView\"},{\"attributes\":{\"dimension\":1,\"ticker\":{\"id\":\"7391\",\"type\":\"BasicTicker\"}},\"id\":\"7394\",\"type\":\"Grid\"},{\"attributes\":{},\"id\":\"7391\",\"type\":\"BasicTicker\"},{\"attributes\":{\"formatter\":{\"id\":\"7431\",\"type\":\"BasicTickFormatter\"},\"ticker\":{\"id\":\"7391\",\"type\":\"BasicTicker\"}},\"id\":\"7390\",\"type\":\"LinearAxis\"},{\"attributes\":{\"callback\":null,\"data\":{\"x\":{\"__ndarray__\":\"gRHJLCGSwL+QnXMjGuzFP4gIMYJgMcg/ZHRAoAca5D/gO0scX5XvP5qZmZmZmfE/ZmZmZmZm9j8AAAAAAAAQQDMzMzMzMxFAAAAAAAAAEkDNzMzMzMwSQA==\",\"dtype\":\"float64\",\"shape\":[11]},\"y\":{\"__ndarray__\":\"AAAAAAAAAAAAAAAAAAAAAAAAAAAAAAAAAAAAAAAAAAAAAAAAAAAAAAAAAAAAAPA/AAAAAAAA8D8AAAAAAADwPwAAAAAAAPA/AAAAAAAA8D8AAAAAAADwPw==\",\"dtype\":\"float64\",\"shape\":[11]}},\"selected\":{\"id\":\"7440\",\"type\":\"Selection\"},\"selection_policy\":{\"id\":\"7439\",\"type\":\"UnionRenderers\"}},\"id\":\"7396\",\"type\":\"ColumnDataSource\"},{\"attributes\":{},\"id\":\"7749\",\"type\":\"BasicTicker\"}],\"root_ids\":[\"7765\"]},\"title\":\"Bokeh Application\",\"version\":\"1.1.0\"}};\n",
       "  var render_items = [{\"docid\":\"bf04d8ce-d7e5-45f3-b1e8-c1382887d670\",\"roots\":{\"7765\":\"bf889a4c-5246-4b63-b56b-12b935f0163b\"}}];\n",
       "  root.Bokeh.embed.embed_items_notebook(docs_json, render_items);\n",
       "\n",
       "  }\n",
       "  if (root.Bokeh !== undefined) {\n",
       "    embed_document(root);\n",
       "  } else {\n",
       "    var attempts = 0;\n",
       "    var timer = setInterval(function(root) {\n",
       "      if (root.Bokeh !== undefined) {\n",
       "        embed_document(root);\n",
       "        clearInterval(timer);\n",
       "      }\n",
       "      attempts++;\n",
       "      if (attempts > 100) {\n",
       "        console.log(\"Bokeh: ERROR: Unable to run BokehJS code because BokehJS library is missing\");\n",
       "        clearInterval(timer);\n",
       "      }\n",
       "    }, 10, root)\n",
       "  }\n",
       "})(window);"
      ],
      "application/vnd.bokehjs_exec.v0+json": ""
     },
     "metadata": {
      "application/vnd.bokehjs_exec.v0+json": {
       "id": "7765"
      }
     },
     "output_type": "display_data"
    }
   ],
   "source": [
    "output_file(\"logit_03.html\")\n",
    "p4 = figure(plot_height = 300, plot_width = 300,\n",
    "            tools = \"\", title = \"Mean Squared Error Cost\")\n",
    "p4.circle(x = x, y = y)\n",
    "p4.toolbar.logo = None\n",
    "p4.add_layout(hline)\n",
    "y2 = sigmoid(np.dot(w.T, X.T))\n",
    "y3 = np.where(y2 > 0.5, 1, 0)\n",
    "p4.line(x = x, y = y2.flatten(), color = \"red\")\n",
    "show(row(p3, p4))"
   ]
  },
  {
   "cell_type": "markdown",
   "metadata": {},
   "source": [
    "## Cross Entropy (Penalty) Cost Function"
   ]
  },
  {
   "cell_type": "code",
   "execution_count": 44,
   "metadata": {},
   "outputs": [],
   "source": [
    "input_x = np.linspace(0.001, 1, 100)\n",
    "output_y = -np.log(sigmoid(input_x))\n",
    "output_y1 = -np.log(1 - sigmoid(input_x))"
   ]
  },
  {
   "cell_type": "code",
   "execution_count": 45,
   "metadata": {},
   "outputs": [
    {
     "data": {
      "text/html": [
       "\n",
       "\n",
       "\n",
       "\n",
       "\n",
       "\n",
       "  <div class=\"bk-root\" id=\"d54a98e6-e9ad-4292-ade2-3a09d57f44f5\" data-root-id=\"10417\"></div>\n"
      ]
     },
     "metadata": {},
     "output_type": "display_data"
    },
    {
     "data": {
      "application/javascript": [
       "(function(root) {\n",
       "  function embed_document(root) {\n",
       "    \n",
       "  var docs_json = {\"141270e3-c045-4a46-bce4-a76356d92603\":{\"roots\":{\"references\":[{\"attributes\":{\"children\":[{\"id\":\"10361\",\"subtype\":\"Figure\",\"type\":\"Plot\"},{\"id\":\"10389\",\"subtype\":\"Figure\",\"type\":\"Plot\"}]},\"id\":\"10417\",\"type\":\"Row\"},{\"attributes\":{\"callback\":null,\"data\":{\"x\":{\"__ndarray__\":\"/Knx0k1iUD8efaCe1LaGP35iccGvsJU/NkPJmfoCoD8u1dlSnS2lPyZn6gtAWKo/Hfn6xOKCrz+KxQW/wlayP4YOjhsU7LQ/glcWeGWBtz9+oJ7Utha6P3npJjEIrLw/dTKvjVlBvz+4vRt1VevAPzbiXyP+NcI/tAak0aaAwz8yK+h/T8vEP7BPLC74FcY/LnRw3KBgxz+smLSKSavIPyq9+Djy9ck/p+E855pAyz8lBoGVQ4vMP6MqxUPs1c0/IU8J8pQgzz/PuSbQnjXQPw7MSCfz2tA/Td5qfkeA0T+M8IzVmyXSP8sCryzwytI/ChXRg0Rw0z9JJ/PamBXUP4g5FTLtutQ/x0s3iUFg1T8GXlnglQXWP0VwezfqqtY/hIKdjj5Q1z/DlL/lkvXXPwKn4Tznmtg/QbkDlDtA2T+AyyXrj+XZP77dR0Lkito//e9pmTgw2z88AozwjNXbP3sUrkfhetw/uibQnjUg3T/5OPL1icXdPzhLFE3eat4/d102pDIQ3z+2b1j7hrXfP/pAPaltLeA/GkrO1BeA4D85U18AwtLgP1lc8CtsJeE/eGWBVxZ44T+YbhKDwMrhP7d3o65qHeI/14A02hRw4j/2icUFv8LiPxaTVjFpFeM/NZznXBNo4z9VpXiIvbrjP3SuCbRnDeQ/lLea3xFg5D+zwCsLvLLkP9LJvDZmBeU/8tJNYhBY5T8R3N6NuqrlPzHlb7lk/eU/UO4A5Q5Q5j9w95EQuaLmP48AIzxj9eY/rwm0Zw1I5z/OEkWTt5rnP+4b1r5h7ec/DSVn6gtA6D8tLvgVtpLoP0w3iUFg5eg/bEAabQo46T+LSauYtIrpP6tSPMRe3ek/ylvN7wgw6j/pZF4bs4LqPwlu70Zd1eo/KHeAcgco6z9IgBGesXrrP2eJoslbzes/h5Iz9QUg7D+mm8QgsHLsP8akVUxaxew/5a3mdwQY7T8Ft3ejrmrtPyTACM9Yve0/RMmZ+gIQ7j9j0iomrWLuP4Pbu1FXte4/ouRMfQEI7z/B7d2oq1rvP+H2btRVre8/AAAAAAAA8D8=\",\"dtype\":\"float64\",\"shape\":[100]},\"y\":{\"__ndarray__\":\"2Vuhrioq5j+MCKSU9QDmP+tTFt311+U/hWzbhiuv5T80dSSQloblP0OdcPY2XuU/0kGNtgw25T9zGJbMFw7lPxRj9TNY5uQ/CC1k582+5D9fkergeJfkP0UK4BlZcOQ/ksnrim5J5D9wGgUsuSLkP//Lc/Q4/OM/AqXQ2u3V4z+B4AXV16/jP0CzT9j2ieM/Gdo82Upk4z8YMa/L0z7jP1BT3KKRGeM/R0NOUYT04j8EHOTIq8/iP5jK0voHq+I/ANCl15iG4j98C0BPXmLiPweN3FBYPuI/DXAPy4Ya4j8pvsar6fbhP9lZS+CA0+E/IvFBVUyw4T/c96v2S43hP9ep6K9/auE/YRS2a+dH4T9jJzIUgyXhP8XN25JSA+E/CQ2U0FXh4D8aLJ+1jL/gP/ngpSn3neA/X4W2E5V84D8YUkZaZlvgP/KgMuNqOuA/PzXCk6IZ4D8mFU2hGvLfP8hT+vtVsd8/NQmi/vZw3z9Zqzdv/TDfPwwRjxJp8d4/MEtfrDmy3j/3iEX/bnPeP9oGyMwINd4/IAhZ1Qb33T+V2lnYaLndPyzkHZQufN0/ObrtxVc/3T8DQgoq5ALdP3Par3vTxtw/No4ZdSWL3D+tToTP2U/cP7A2MkPwFNw/P9Vth2ja2z+uf41SQqDbPxmr9ll9Zts/pkwhUhkt2z94QJvuFfTaP7y2C+Jyu9o/Dqc23i+D2j8MSQCUTEvaP8+ScLPIE9o/Dby266Pc2T8nxizr3aXZP8YIW192b9k/YcL79Gw52T/nrP5XwQPZP7CVjDNzztg/8fgKMoKZ2D/0nx/97WTYPxtCtD22MNg/Hyj6m9r81z+n0W2/WsnXP0Gc2k42ltc/TWxe8Gxj1z/KVm1J/jDXP1RM1f7p/tY/hsTBtC/N1j8Jar8Oz5vWP4LGv6/HatY/hu4cOhk61j/zLJ1PwwnWP8KtdpHF2dU/1SdToB+q1T98hVMc0XrVP6eLE6XZS9U/Q3+t2Tgd1T+9yL1Y7u7UPzKVZsD5wNQ/T3VTrlqT1D9f+by/EGbUP5RKbJEbOdQ/JMG+v3oM1D8=\",\"dtype\":\"float64\",\"shape\":[100]}},\"selected\":{\"id\":\"10581\",\"type\":\"Selection\"},\"selection_policy\":{\"id\":\"10580\",\"type\":\"UnionRenderers\"}},\"id\":\"10384\",\"type\":\"ColumnDataSource\"},{\"attributes\":{\"axis_label\":\"sigmoid\",\"formatter\":{\"id\":\"10578\",\"type\":\"BasicTickFormatter\"},\"ticker\":{\"id\":\"10401\",\"type\":\"BasicTicker\"}},\"id\":\"10400\",\"type\":\"LinearAxis\"},{\"attributes\":{\"text\":\"y = 0\"},\"id\":\"10390\",\"type\":\"Title\"},{\"attributes\":{\"axis_label\":\"cost\",\"formatter\":{\"id\":\"10572\",\"type\":\"BasicTickFormatter\"},\"ticker\":{\"id\":\"10378\",\"type\":\"BasicTicker\"},\"visible\":false},\"id\":\"10377\",\"type\":\"LinearAxis\"},{\"attributes\":{\"active_drag\":\"auto\",\"active_inspect\":\"auto\",\"active_multi\":null,\"active_scroll\":\"auto\",\"active_tap\":\"auto\",\"logo\":null},\"id\":\"10410\",\"type\":\"Toolbar\"},{\"attributes\":{},\"id\":\"10580\",\"type\":\"UnionRenderers\"},{\"attributes\":{},\"id\":\"10583\",\"type\":\"Selection\"},{\"attributes\":{\"x\":{\"field\":\"x\"},\"y\":{\"field\":\"y\"}},\"id\":\"10385\",\"type\":\"Line\"},{\"attributes\":{},\"id\":\"10582\",\"type\":\"UnionRenderers\"},{\"attributes\":{\"callback\":null},\"id\":\"10366\",\"type\":\"DataRange1d\"},{\"attributes\":{\"x\":{\"field\":\"x\"},\"y\":{\"field\":\"y\"}},\"id\":\"10413\",\"type\":\"Line\"},{\"attributes\":{},\"id\":\"10581\",\"type\":\"Selection\"},{\"attributes\":{\"line_alpha\":0.1,\"line_color\":\"#1f77b4\",\"x\":{\"field\":\"x\"},\"y\":{\"field\":\"y\"}},\"id\":\"10386\",\"type\":\"Line\"},{\"attributes\":{\"callback\":null},\"id\":\"10392\",\"type\":\"DataRange1d\"},{\"attributes\":{},\"id\":\"10576\",\"type\":\"BasicTickFormatter\"},{\"attributes\":{\"axis_label\":\"cost\",\"formatter\":{\"id\":\"10576\",\"type\":\"BasicTickFormatter\"},\"ticker\":{\"id\":\"10406\",\"type\":\"BasicTicker\"},\"visible\":false},\"id\":\"10405\",\"type\":\"LinearAxis\"},{\"attributes\":{},\"id\":\"10373\",\"type\":\"BasicTicker\"},{\"attributes\":{},\"id\":\"10401\",\"type\":\"BasicTicker\"},{\"attributes\":{},\"id\":\"10572\",\"type\":\"BasicTickFormatter\"},{\"attributes\":{\"line_alpha\":0.1,\"line_color\":\"#1f77b4\",\"x\":{\"field\":\"x\"},\"y\":{\"field\":\"y\"}},\"id\":\"10414\",\"type\":\"Line\"},{\"attributes\":{\"below\":[{\"id\":\"10400\",\"type\":\"LinearAxis\"}],\"center\":[{\"id\":\"10404\",\"type\":\"Grid\"},{\"id\":\"10409\",\"type\":\"Grid\"}],\"left\":[{\"id\":\"10405\",\"type\":\"LinearAxis\"}],\"plot_height\":200,\"plot_width\":300,\"renderers\":[{\"id\":\"10415\",\"type\":\"GlyphRenderer\"}],\"title\":{\"id\":\"10390\",\"type\":\"Title\"},\"toolbar\":{\"id\":\"10410\",\"type\":\"Toolbar\"},\"x_range\":{\"id\":\"10392\",\"type\":\"DataRange1d\"},\"x_scale\":{\"id\":\"10396\",\"type\":\"LinearScale\"},\"y_range\":{\"id\":\"10394\",\"type\":\"DataRange1d\"},\"y_scale\":{\"id\":\"10398\",\"type\":\"LinearScale\"}},\"id\":\"10389\",\"subtype\":\"Figure\",\"type\":\"Plot\"},{\"attributes\":{\"below\":[{\"id\":\"10372\",\"type\":\"LinearAxis\"}],\"center\":[{\"id\":\"10376\",\"type\":\"Grid\"},{\"id\":\"10381\",\"type\":\"Grid\"}],\"left\":[{\"id\":\"10377\",\"type\":\"LinearAxis\"}],\"plot_height\":200,\"plot_width\":300,\"renderers\":[{\"id\":\"10387\",\"type\":\"GlyphRenderer\"}],\"title\":{\"id\":\"10362\",\"type\":\"Title\"},\"toolbar\":{\"id\":\"10382\",\"type\":\"Toolbar\"},\"x_range\":{\"id\":\"10364\",\"type\":\"DataRange1d\"},\"x_scale\":{\"id\":\"10368\",\"type\":\"LinearScale\"},\"y_range\":{\"id\":\"10366\",\"type\":\"DataRange1d\"},\"y_scale\":{\"id\":\"10370\",\"type\":\"LinearScale\"}},\"id\":\"10361\",\"subtype\":\"Figure\",\"type\":\"Plot\"},{\"attributes\":{},\"id\":\"10396\",\"type\":\"LinearScale\"},{\"attributes\":{\"data_source\":{\"id\":\"10412\",\"type\":\"ColumnDataSource\"},\"glyph\":{\"id\":\"10413\",\"type\":\"Line\"},\"hover_glyph\":null,\"muted_glyph\":null,\"nonselection_glyph\":{\"id\":\"10414\",\"type\":\"Line\"},\"selection_glyph\":null,\"view\":{\"id\":\"10416\",\"type\":\"CDSView\"}},\"id\":\"10415\",\"type\":\"GlyphRenderer\"},{\"attributes\":{},\"id\":\"10578\",\"type\":\"BasicTickFormatter\"},{\"attributes\":{\"text\":\"y = 1\"},\"id\":\"10362\",\"type\":\"Title\"},{\"attributes\":{},\"id\":\"10574\",\"type\":\"BasicTickFormatter\"},{\"attributes\":{\"active_drag\":\"auto\",\"active_inspect\":\"auto\",\"active_multi\":null,\"active_scroll\":\"auto\",\"active_tap\":\"auto\",\"logo\":null},\"id\":\"10382\",\"type\":\"Toolbar\"},{\"attributes\":{},\"id\":\"10406\",\"type\":\"BasicTicker\"},{\"attributes\":{\"ticker\":{\"id\":\"10373\",\"type\":\"BasicTicker\"}},\"id\":\"10376\",\"type\":\"Grid\"},{\"attributes\":{\"axis_label\":\"sigmoid\",\"formatter\":{\"id\":\"10574\",\"type\":\"BasicTickFormatter\"},\"ticker\":{\"id\":\"10373\",\"type\":\"BasicTicker\"}},\"id\":\"10372\",\"type\":\"LinearAxis\"},{\"attributes\":{\"data_source\":{\"id\":\"10384\",\"type\":\"ColumnDataSource\"},\"glyph\":{\"id\":\"10385\",\"type\":\"Line\"},\"hover_glyph\":null,\"muted_glyph\":null,\"nonselection_glyph\":{\"id\":\"10386\",\"type\":\"Line\"},\"selection_glyph\":null,\"view\":{\"id\":\"10388\",\"type\":\"CDSView\"}},\"id\":\"10387\",\"type\":\"GlyphRenderer\"},{\"attributes\":{\"dimension\":1,\"ticker\":{\"id\":\"10378\",\"type\":\"BasicTicker\"}},\"id\":\"10381\",\"type\":\"Grid\"},{\"attributes\":{\"callback\":null},\"id\":\"10394\",\"type\":\"DataRange1d\"},{\"attributes\":{},\"id\":\"10368\",\"type\":\"LinearScale\"},{\"attributes\":{\"callback\":null,\"data\":{\"x\":{\"__ndarray__\":\"/Knx0k1iUD8efaCe1LaGP35iccGvsJU/NkPJmfoCoD8u1dlSnS2lPyZn6gtAWKo/Hfn6xOKCrz+KxQW/wlayP4YOjhsU7LQ/glcWeGWBtz9+oJ7Utha6P3npJjEIrLw/dTKvjVlBvz+4vRt1VevAPzbiXyP+NcI/tAak0aaAwz8yK+h/T8vEP7BPLC74FcY/LnRw3KBgxz+smLSKSavIPyq9+Djy9ck/p+E855pAyz8lBoGVQ4vMP6MqxUPs1c0/IU8J8pQgzz/PuSbQnjXQPw7MSCfz2tA/Td5qfkeA0T+M8IzVmyXSP8sCryzwytI/ChXRg0Rw0z9JJ/PamBXUP4g5FTLtutQ/x0s3iUFg1T8GXlnglQXWP0VwezfqqtY/hIKdjj5Q1z/DlL/lkvXXPwKn4Tznmtg/QbkDlDtA2T+AyyXrj+XZP77dR0Lkito//e9pmTgw2z88AozwjNXbP3sUrkfhetw/uibQnjUg3T/5OPL1icXdPzhLFE3eat4/d102pDIQ3z+2b1j7hrXfP/pAPaltLeA/GkrO1BeA4D85U18AwtLgP1lc8CtsJeE/eGWBVxZ44T+YbhKDwMrhP7d3o65qHeI/14A02hRw4j/2icUFv8LiPxaTVjFpFeM/NZznXBNo4z9VpXiIvbrjP3SuCbRnDeQ/lLea3xFg5D+zwCsLvLLkP9LJvDZmBeU/8tJNYhBY5T8R3N6NuqrlPzHlb7lk/eU/UO4A5Q5Q5j9w95EQuaLmP48AIzxj9eY/rwm0Zw1I5z/OEkWTt5rnP+4b1r5h7ec/DSVn6gtA6D8tLvgVtpLoP0w3iUFg5eg/bEAabQo46T+LSauYtIrpP6tSPMRe3ek/ylvN7wgw6j/pZF4bs4LqPwlu70Zd1eo/KHeAcgco6z9IgBGesXrrP2eJoslbzes/h5Iz9QUg7D+mm8QgsHLsP8akVUxaxew/5a3mdwQY7T8Ft3ejrmrtPyTACM9Yve0/RMmZ+gIQ7j9j0iomrWLuP4Pbu1FXte4/ouRMfQEI7z/B7d2oq1rvP+H2btRVre8/AAAAAAAA8D8=\",\"dtype\":\"float64\",\"shape\":[100]},\"y\":{\"__ndarray__\":\"rdSK1Vsy5j+Aih7n0FvmP//eIVt7heY/tgB4MFuv5j+FElJlcNnmP7dDL/e6A+c/ZfHc4jou5z8m0XYk8FjnP+QkZ7fag+c/+fdmlvqu5z9wZX67T9rnP3bnBCDaBeg/5K+hvJkx6D/gCUyJjl3oP4zES324ieg/sKY5jxe26D9N6/+0q+LoPyrH2uN0D+k/I/dYEHM86T9EV1wupmnpP5uCGjEOl+k/snsdC6vE6T+RXUSufPLpP0AVxAuDIOo/xyMoFL5O6j9haFO3LX3qPwzzgOTRq+o/NN9Eiqra6j9wNo2WtwnrP0Hbovb4OOs/pXsql25o6z+BiyVkGJjrP5tG80j2x+s/R7pRMAj46z9p1l4ETijsP+aFma7HWOw/TM7iF3WJ7D989n4oVrrsP3q0Fshq6+w/AmK43bIc7T/XN9lPLk7tP9KPVgTdf+0/Oi134L6x7T+xi+zI0+PtPyQ01KEbFu4/+Re5TpZI7j8s8pSyQ3vuPyOu0a8jru4/VtRKKDbh7j9Y/E79ehTvP2hEoQ/yR+8/Kc56P5t77z+DQIxsdq/vP2xO/3WD4+8/SCE8HeEL8D/NxwtMGSbwP3eyPTZqQPA/+aNgytNa8D+o2MP2VXXwPzjXd6nwj/A/aUNP0KOq8D+Ust9Yb8XwP/+BgjBT4PA/9K5VRE/78D92sDyBYxbxP5pS4dOPMfE/O5O0KNRM8T9NgO9rMGjxP04XlImkg/E/KyZubTCf8T9DLRQD1LrxP3hC6DWP1vE/cPUY8WHy8T+gNKIfTA7yP2MzTqxNKvI/w1C2gWZG8j8U/0OKlmLyPyusMbDdfvI/P6qL3Tub8j8uGTH8sLfyP2TQ1PU81PI/90j+s9/w8j8piAogmQ3zPxkKLSNpKvM/tqxwpk9H8z+lmriSTGTzP1U2wdBfgfM/5AQhSYme8z8PmUnkyLvzP9V9iIoe2fM/6SAIJIr28z/hvNCYCxT0P/tCydCiMfQ/ckS4s09P9D9g20QpEm30Pw+T9xjqivQ/pE87ateo9D84NV4E2sb0PxeOks7x5PQ/SbDvrx4D9T8=\",\"dtype\":\"float64\",\"shape\":[100]}},\"selected\":{\"id\":\"10583\",\"type\":\"Selection\"},\"selection_policy\":{\"id\":\"10582\",\"type\":\"UnionRenderers\"}},\"id\":\"10412\",\"type\":\"ColumnDataSource\"},{\"attributes\":{\"source\":{\"id\":\"10384\",\"type\":\"ColumnDataSource\"}},\"id\":\"10388\",\"type\":\"CDSView\"},{\"attributes\":{},\"id\":\"10370\",\"type\":\"LinearScale\"},{\"attributes\":{\"dimension\":1,\"ticker\":{\"id\":\"10406\",\"type\":\"BasicTicker\"}},\"id\":\"10409\",\"type\":\"Grid\"},{\"attributes\":{\"callback\":null},\"id\":\"10364\",\"type\":\"DataRange1d\"},{\"attributes\":{\"ticker\":{\"id\":\"10401\",\"type\":\"BasicTicker\"}},\"id\":\"10404\",\"type\":\"Grid\"},{\"attributes\":{\"source\":{\"id\":\"10412\",\"type\":\"ColumnDataSource\"}},\"id\":\"10416\",\"type\":\"CDSView\"},{\"attributes\":{},\"id\":\"10378\",\"type\":\"BasicTicker\"},{\"attributes\":{},\"id\":\"10398\",\"type\":\"LinearScale\"}],\"root_ids\":[\"10417\"]},\"title\":\"Bokeh Application\",\"version\":\"1.1.0\"}};\n",
       "  var render_items = [{\"docid\":\"141270e3-c045-4a46-bce4-a76356d92603\",\"roots\":{\"10417\":\"d54a98e6-e9ad-4292-ade2-3a09d57f44f5\"}}];\n",
       "  root.Bokeh.embed.embed_items_notebook(docs_json, render_items);\n",
       "\n",
       "  }\n",
       "  if (root.Bokeh !== undefined) {\n",
       "    embed_document(root);\n",
       "  } else {\n",
       "    var attempts = 0;\n",
       "    var timer = setInterval(function(root) {\n",
       "      if (root.Bokeh !== undefined) {\n",
       "        embed_document(root);\n",
       "        clearInterval(timer);\n",
       "      }\n",
       "      attempts++;\n",
       "      if (attempts > 100) {\n",
       "        console.log(\"Bokeh: ERROR: Unable to run BokehJS code because BokehJS library is missing\");\n",
       "        clearInterval(timer);\n",
       "      }\n",
       "    }, 10, root)\n",
       "  }\n",
       "})(window);"
      ],
      "application/vnd.bokehjs_exec.v0+json": ""
     },
     "metadata": {
      "application/vnd.bokehjs_exec.v0+json": {
       "id": "10417"
      }
     },
     "output_type": "display_data"
    }
   ],
   "source": [
    "output_file(\"logit_04.html\")\n",
    "fig0 = figure(plot_height = 200, plot_width = 300,\n",
    "            tools = \"\", title = \"y = 1\")\n",
    "fig0.yaxis.visible = False\n",
    "fig0.toolbar.logo = None\n",
    "fig0.line(x = input_x, y = output_y, color = 'black')\n",
    "\n",
    "fig1 = figure(plot_height = 200, plot_width = 300,\n",
    "           tools = \"\", title = \"y = 0\")\n",
    "fig1.yaxis.visible = False\n",
    "fig1.toolbar.logo = None\n",
    "fig1.line(x = input_x, y = output_y1, color = 'black')\n",
    "fig0.yaxis.axis_label = 'cost'\n",
    "fig0.xaxis.axis_label = 'sigmoid'\n",
    "fig1.yaxis.axis_label = 'cost'\n",
    "fig1.xaxis.axis_label = 'sigmoid'\n",
    "show(row(fig0, fig1))"
   ]
  },
  {
   "cell_type": "markdown",
   "metadata": {},
   "source": [
    "## Using Gradient Descent find optimal parameters"
   ]
  },
  {
   "cell_type": "code",
   "execution_count": 38,
   "metadata": {},
   "outputs": [
    {
     "data": {
      "text/plain": [
       "array([-36.43976765,  34.95182241])"
      ]
     },
     "execution_count": 38,
     "metadata": {},
     "output_type": "execute_result"
    }
   ],
   "source": [
    "def gradFunc(w, X, y, N):\n",
    "    grad = 0\n",
    "    for i in range(N):\n",
    "        grad += (y[i] - sigmoid(np.dot(w.T, X[i]))) * X[i]\n",
    "    return (-1/N) * grad\n",
    "\n",
    "# Initialization\n",
    "alpha = 5\n",
    "w = np.array([20.0, 20.0])\n",
    "N = y.size\n",
    "iteration = 0\n",
    "w_collect = [w]\n",
    "for i in range(5000):\n",
    "    gradient = gradFunc(w, X, y, N)\n",
    "    w -= alpha * gradient\n",
    "    w_collect.append(w)\n",
    "#     if abs(sum(w_collect[-1] - w_collect[-2])) < 0.00001:\n",
    "#         break\n",
    "    \n",
    "#     print(\"iter = {0} | w = {1} | gradient = {2}\".format(iteration, w, grad))\n",
    "    iteration += 1\n",
    "\n",
    "w"
   ]
  },
  {
   "cell_type": "code",
   "execution_count": 39,
   "metadata": {},
   "outputs": [
    {
     "data": {
      "text/html": [
       "\n",
       "\n",
       "\n",
       "\n",
       "\n",
       "\n",
       "  <div class=\"bk-root\" id=\"e9d1dcf5-08d5-434c-bac8-e5985e9ae89b\" data-root-id=\"8141\"></div>\n"
      ]
     },
     "metadata": {},
     "output_type": "display_data"
    },
    {
     "data": {
      "application/javascript": [
       "(function(root) {\n",
       "  function embed_document(root) {\n",
       "    \n",
       "  var docs_json = {\"7d30a2cb-ceaa-469a-aa79-bf89c85ee86c\":{\"roots\":{\"references\":[{\"attributes\":{\"children\":[{\"id\":\"7374\",\"subtype\":\"Figure\",\"type\":\"Plot\"},{\"id\":\"8108\",\"subtype\":\"Figure\",\"type\":\"Plot\"}]},\"id\":\"8141\",\"type\":\"Row\"},{\"attributes\":{\"data_source\":{\"id\":\"7396\",\"type\":\"ColumnDataSource\"},\"glyph\":{\"id\":\"7397\",\"type\":\"Circle\"},\"hover_glyph\":null,\"muted_glyph\":null,\"nonselection_glyph\":{\"id\":\"7398\",\"type\":\"Circle\"},\"selection_glyph\":null,\"view\":{\"id\":\"7400\",\"type\":\"CDSView\"}},\"id\":\"7399\",\"type\":\"GlyphRenderer\"},{\"attributes\":{\"callback\":null,\"data\":{\"x\":{\"__ndarray__\":\"gRHJLCGSwL+QnXMjGuzFP4gIMYJgMcg/ZHRAoAca5D/gO0scX5XvP5qZmZmZmfE/ZmZmZmZm9j8AAAAAAAAQQDMzMzMzMxFAAAAAAAAAEkDNzMzMzMwSQA==\",\"dtype\":\"float64\",\"shape\":[11]},\"y\":{\"__ndarray__\":\"AAAAAAAAAAAAAAAAAAAAAAAAAAAAAAAAAAAAAAAAAAAAAAAAAAAAAAAAAAAAAAAAAAAAAAAA8D8AAAAAAADwPwAAAAAAAPA/AAAAAAAA8D8AAAAAAADwPw==\",\"dtype\":\"float64\",\"shape\":[11]}},\"selected\":{\"id\":\"7442\",\"type\":\"Selection\"},\"selection_policy\":{\"id\":\"7441\",\"type\":\"UnionRenderers\"}},\"id\":\"7402\",\"type\":\"ColumnDataSource\"},{\"attributes\":{},\"id\":\"8201\",\"type\":\"BasicTickFormatter\"},{\"attributes\":{\"source\":{\"id\":\"7396\",\"type\":\"ColumnDataSource\"}},\"id\":\"7400\",\"type\":\"CDSView\"},{\"attributes\":{},\"id\":\"8209\",\"type\":\"UnionRenderers\"},{\"attributes\":{},\"id\":\"7433\",\"type\":\"BasicTickFormatter\"},{\"attributes\":{\"active_drag\":\"auto\",\"active_inspect\":\"auto\",\"active_multi\":null,\"active_scroll\":\"auto\",\"active_tap\":\"auto\",\"logo\":null},\"id\":\"8129\",\"type\":\"Toolbar\"},{\"attributes\":{\"text\":\"scikit-learn\"},\"id\":\"7375\",\"type\":\"Title\"},{\"attributes\":{\"data_source\":{\"id\":\"8130\",\"type\":\"ColumnDataSource\"},\"glyph\":{\"id\":\"8131\",\"type\":\"Circle\"},\"hover_glyph\":null,\"muted_glyph\":null,\"nonselection_glyph\":{\"id\":\"8132\",\"type\":\"Circle\"},\"selection_glyph\":null,\"view\":{\"id\":\"8134\",\"type\":\"CDSView\"}},\"id\":\"8133\",\"type\":\"GlyphRenderer\"},{\"attributes\":{\"active_drag\":\"auto\",\"active_inspect\":\"auto\",\"active_multi\":null,\"active_scroll\":\"auto\",\"active_tap\":\"auto\",\"logo\":null},\"id\":\"7395\",\"type\":\"Toolbar\"},{\"attributes\":{},\"id\":\"8117\",\"type\":\"LinearScale\"},{\"attributes\":{},\"id\":\"7383\",\"type\":\"LinearScale\"},{\"attributes\":{\"fill_color\":{\"value\":\"#1f77b4\"},\"line_color\":{\"value\":\"#1f77b4\"},\"x\":{\"field\":\"x\"},\"y\":{\"field\":\"y\"}},\"id\":\"7397\",\"type\":\"Circle\"},{\"attributes\":{\"data_source\":{\"id\":\"7402\",\"type\":\"ColumnDataSource\"},\"glyph\":{\"id\":\"7403\",\"type\":\"Line\"},\"hover_glyph\":null,\"muted_glyph\":null,\"nonselection_glyph\":{\"id\":\"7404\",\"type\":\"Line\"},\"selection_glyph\":null,\"view\":{\"id\":\"7406\",\"type\":\"CDSView\"}},\"id\":\"7405\",\"type\":\"GlyphRenderer\"},{\"attributes\":{\"formatter\":{\"id\":\"8203\",\"type\":\"BasicTickFormatter\"},\"ticker\":{\"id\":\"8120\",\"type\":\"BasicTicker\"}},\"id\":\"8119\",\"type\":\"LinearAxis\"},{\"attributes\":{\"dimension\":1,\"ticker\":{\"id\":\"8125\",\"type\":\"BasicTicker\"}},\"id\":\"8128\",\"type\":\"Grid\"},{\"attributes\":{},\"id\":\"7440\",\"type\":\"Selection\"},{\"attributes\":{},\"id\":\"8125\",\"type\":\"BasicTicker\"},{\"attributes\":{\"callback\":null,\"data\":{\"x\":{\"__ndarray__\":\"gRHJLCGSwL+QnXMjGuzFP4gIMYJgMcg/ZHRAoAca5D/gO0scX5XvP5qZmZmZmfE/ZmZmZmZm9j8AAAAAAAAQQDMzMzMzMxFAAAAAAAAAEkDNzMzMzMwSQA==\",\"dtype\":\"float64\",\"shape\":[11]},\"y\":{\"__ndarray__\":\"AAAAAAAAAAAAAAAAAAAAAAAAAAAAAAAAAAAAAAAAAAAAAAAAAAAAAAAAAAAAAPA/AAAAAAAA8D8AAAAAAADwPwAAAAAAAPA/AAAAAAAA8D8AAAAAAADwPw==\",\"dtype\":\"float64\",\"shape\":[11]}},\"selected\":{\"id\":\"8210\",\"type\":\"Selection\"},\"selection_policy\":{\"id\":\"8209\",\"type\":\"UnionRenderers\"}},\"id\":\"8130\",\"type\":\"ColumnDataSource\"},{\"attributes\":{\"line_alpha\":0.1,\"line_color\":\"#1f77b4\",\"x\":{\"field\":\"x\"},\"y\":{\"field\":\"y\"}},\"id\":\"7404\",\"type\":\"Line\"},{\"attributes\":{},\"id\":\"7381\",\"type\":\"LinearScale\"},{\"attributes\":{\"fill_alpha\":{\"value\":0.1},\"fill_color\":{\"value\":\"#1f77b4\"},\"line_alpha\":{\"value\":0.1},\"line_color\":{\"value\":\"#1f77b4\"},\"x\":{\"field\":\"x\"},\"y\":{\"field\":\"y\"}},\"id\":\"7398\",\"type\":\"Circle\"},{\"attributes\":{\"callback\":null},\"id\":\"7379\",\"type\":\"DataRange1d\"},{\"attributes\":{\"callback\":null},\"id\":\"8113\",\"type\":\"DataRange1d\"},{\"attributes\":{\"fill_alpha\":{\"value\":0.1},\"fill_color\":{\"value\":\"#1f77b4\"},\"line_alpha\":{\"value\":0.1},\"line_color\":{\"value\":\"#1f77b4\"},\"x\":{\"field\":\"x\"},\"y\":{\"field\":\"y\"}},\"id\":\"8132\",\"type\":\"Circle\"},{\"attributes\":{\"source\":{\"id\":\"8136\",\"type\":\"ColumnDataSource\"}},\"id\":\"8140\",\"type\":\"CDSView\"},{\"attributes\":{\"text\":\"Gradient Descent\"},\"id\":\"8109\",\"type\":\"Title\"},{\"attributes\":{\"below\":[{\"id\":\"7385\",\"type\":\"LinearAxis\"}],\"center\":[{\"id\":\"7389\",\"type\":\"Grid\"},{\"id\":\"7394\",\"type\":\"Grid\"},{\"id\":\"7114\",\"type\":\"Span\"}],\"left\":[{\"id\":\"7390\",\"type\":\"LinearAxis\"}],\"plot_height\":300,\"plot_width\":300,\"renderers\":[{\"id\":\"7399\",\"type\":\"GlyphRenderer\"},{\"id\":\"7405\",\"type\":\"GlyphRenderer\"}],\"title\":{\"id\":\"7375\",\"type\":\"Title\"},\"toolbar\":{\"id\":\"7395\",\"type\":\"Toolbar\"},\"x_range\":{\"id\":\"7377\",\"type\":\"DataRange1d\"},\"x_scale\":{\"id\":\"7381\",\"type\":\"LinearScale\"},\"y_range\":{\"id\":\"7379\",\"type\":\"DataRange1d\"},\"y_scale\":{\"id\":\"7383\",\"type\":\"LinearScale\"}},\"id\":\"7374\",\"subtype\":\"Figure\",\"type\":\"Plot\"},{\"attributes\":{\"callback\":null},\"id\":\"7377\",\"type\":\"DataRange1d\"},{\"attributes\":{\"below\":[{\"id\":\"8119\",\"type\":\"LinearAxis\"}],\"center\":[{\"id\":\"8123\",\"type\":\"Grid\"},{\"id\":\"8128\",\"type\":\"Grid\"},{\"id\":\"7114\",\"type\":\"Span\"}],\"left\":[{\"id\":\"8124\",\"type\":\"LinearAxis\"}],\"plot_height\":300,\"plot_width\":300,\"renderers\":[{\"id\":\"8133\",\"type\":\"GlyphRenderer\"},{\"id\":\"8139\",\"type\":\"GlyphRenderer\"}],\"title\":{\"id\":\"8109\",\"type\":\"Title\"},\"toolbar\":{\"id\":\"8129\",\"type\":\"Toolbar\"},\"x_range\":{\"id\":\"8111\",\"type\":\"DataRange1d\"},\"x_scale\":{\"id\":\"8115\",\"type\":\"LinearScale\"},\"y_range\":{\"id\":\"8113\",\"type\":\"DataRange1d\"},\"y_scale\":{\"id\":\"8117\",\"type\":\"LinearScale\"}},\"id\":\"8108\",\"subtype\":\"Figure\",\"type\":\"Plot\"},{\"attributes\":{\"source\":{\"id\":\"8130\",\"type\":\"ColumnDataSource\"}},\"id\":\"8134\",\"type\":\"CDSView\"},{\"attributes\":{},\"id\":\"7386\",\"type\":\"BasicTicker\"},{\"attributes\":{\"line_alpha\":0.1,\"line_color\":\"#1f77b4\",\"x\":{\"field\":\"x\"},\"y\":{\"field\":\"y\"}},\"id\":\"8138\",\"type\":\"Line\"},{\"attributes\":{\"formatter\":{\"id\":\"7433\",\"type\":\"BasicTickFormatter\"},\"ticker\":{\"id\":\"7386\",\"type\":\"BasicTicker\"}},\"id\":\"7385\",\"type\":\"LinearAxis\"},{\"attributes\":{},\"id\":\"8210\",\"type\":\"Selection\"},{\"attributes\":{\"callback\":null},\"id\":\"8111\",\"type\":\"DataRange1d\"},{\"attributes\":{},\"id\":\"7442\",\"type\":\"Selection\"},{\"attributes\":{},\"id\":\"7431\",\"type\":\"BasicTickFormatter\"},{\"attributes\":{\"source\":{\"id\":\"7402\",\"type\":\"ColumnDataSource\"}},\"id\":\"7406\",\"type\":\"CDSView\"},{\"attributes\":{\"ticker\":{\"id\":\"7386\",\"type\":\"BasicTicker\"}},\"id\":\"7389\",\"type\":\"Grid\"},{\"attributes\":{\"data_source\":{\"id\":\"8136\",\"type\":\"ColumnDataSource\"},\"glyph\":{\"id\":\"8137\",\"type\":\"Line\"},\"hover_glyph\":null,\"muted_glyph\":null,\"nonselection_glyph\":{\"id\":\"8138\",\"type\":\"Line\"},\"selection_glyph\":null,\"view\":{\"id\":\"8140\",\"type\":\"CDSView\"}},\"id\":\"8139\",\"type\":\"GlyphRenderer\"},{\"attributes\":{\"ticker\":{\"id\":\"8120\",\"type\":\"BasicTicker\"}},\"id\":\"8123\",\"type\":\"Grid\"},{\"attributes\":{\"line_color\":\"red\",\"x\":{\"field\":\"x\"},\"y\":{\"field\":\"y\"}},\"id\":\"7403\",\"type\":\"Line\"},{\"attributes\":{},\"id\":\"8211\",\"type\":\"UnionRenderers\"},{\"attributes\":{\"formatter\":{\"id\":\"8201\",\"type\":\"BasicTickFormatter\"},\"ticker\":{\"id\":\"8125\",\"type\":\"BasicTicker\"}},\"id\":\"8124\",\"type\":\"LinearAxis\"},{\"attributes\":{},\"id\":\"8120\",\"type\":\"BasicTicker\"},{\"attributes\":{},\"id\":\"8115\",\"type\":\"LinearScale\"},{\"attributes\":{\"fill_color\":{\"value\":\"#1f77b4\"},\"line_color\":{\"value\":\"#1f77b4\"},\"x\":{\"field\":\"x\"},\"y\":{\"field\":\"y\"}},\"id\":\"8131\",\"type\":\"Circle\"},{\"attributes\":{},\"id\":\"8212\",\"type\":\"Selection\"},{\"attributes\":{},\"id\":\"7439\",\"type\":\"UnionRenderers\"},{\"attributes\":{},\"id\":\"7441\",\"type\":\"UnionRenderers\"},{\"attributes\":{\"line_color\":{\"value\":\"green\"},\"line_dash\":[6],\"line_width\":{\"value\":3},\"location\":0.5},\"id\":\"7114\",\"type\":\"Span\"},{\"attributes\":{},\"id\":\"8203\",\"type\":\"BasicTickFormatter\"},{\"attributes\":{\"dimension\":1,\"ticker\":{\"id\":\"7391\",\"type\":\"BasicTicker\"}},\"id\":\"7394\",\"type\":\"Grid\"},{\"attributes\":{\"line_color\":\"red\",\"x\":{\"field\":\"x\"},\"y\":{\"field\":\"y\"}},\"id\":\"8137\",\"type\":\"Line\"},{\"attributes\":{},\"id\":\"7391\",\"type\":\"BasicTicker\"},{\"attributes\":{\"formatter\":{\"id\":\"7431\",\"type\":\"BasicTickFormatter\"},\"ticker\":{\"id\":\"7391\",\"type\":\"BasicTicker\"}},\"id\":\"7390\",\"type\":\"LinearAxis\"},{\"attributes\":{\"callback\":null,\"data\":{\"x\":{\"__ndarray__\":\"gRHJLCGSwL+QnXMjGuzFP4gIMYJgMcg/ZHRAoAca5D/gO0scX5XvP5qZmZmZmfE/ZmZmZmZm9j8AAAAAAAAQQDMzMzMzMxFAAAAAAAAAEkDNzMzMzMwSQA==\",\"dtype\":\"float64\",\"shape\":[11]},\"y\":{\"__ndarray__\":\"AAAAAAAAAAAAAAAAAAAAAAAAAAAAAAAAAAAAAAAAAAAAAAAAAAAAAAAAAAAAAPA/AAAAAAAA8D8AAAAAAADwPwAAAAAAAPA/AAAAAAAA8D8AAAAAAADwPw==\",\"dtype\":\"float64\",\"shape\":[11]}},\"selected\":{\"id\":\"7440\",\"type\":\"Selection\"},\"selection_policy\":{\"id\":\"7439\",\"type\":\"UnionRenderers\"}},\"id\":\"7396\",\"type\":\"ColumnDataSource\"},{\"attributes\":{\"callback\":null,\"data\":{\"x\":{\"__ndarray__\":\"gRHJLCGSwL+QnXMjGuzFP4gIMYJgMcg/ZHRAoAca5D/gO0scX5XvP5qZmZmZmfE/ZmZmZmZm9j8AAAAAAAAQQDMzMzMzMxFAAAAAAAAAEkDNzMzMzMwSQA==\",\"dtype\":\"float64\",\"shape\":[11]},\"y\":{\"__ndarray__\":\"vmjhjFjePTy0AlPry7swPcN7hWdhGz89chrc3/kyoT69fL6E2wrAP2KDp3ayNew/LSvJIPj/7z8AAAAAAADwPwAAAAAAAPA/AAAAAAAA8D8AAAAAAADwPw==\",\"dtype\":\"float64\",\"shape\":[11]}},\"selected\":{\"id\":\"8212\",\"type\":\"Selection\"},\"selection_policy\":{\"id\":\"8211\",\"type\":\"UnionRenderers\"}},\"id\":\"8136\",\"type\":\"ColumnDataSource\"}],\"root_ids\":[\"8141\"]},\"title\":\"Bokeh Application\",\"version\":\"1.1.0\"}};\n",
       "  var render_items = [{\"docid\":\"7d30a2cb-ceaa-469a-aa79-bf89c85ee86c\",\"roots\":{\"8141\":\"e9d1dcf5-08d5-434c-bac8-e5985e9ae89b\"}}];\n",
       "  root.Bokeh.embed.embed_items_notebook(docs_json, render_items);\n",
       "\n",
       "  }\n",
       "  if (root.Bokeh !== undefined) {\n",
       "    embed_document(root);\n",
       "  } else {\n",
       "    var attempts = 0;\n",
       "    var timer = setInterval(function(root) {\n",
       "      if (root.Bokeh !== undefined) {\n",
       "        embed_document(root);\n",
       "        clearInterval(timer);\n",
       "      }\n",
       "      attempts++;\n",
       "      if (attempts > 100) {\n",
       "        console.log(\"Bokeh: ERROR: Unable to run BokehJS code because BokehJS library is missing\");\n",
       "        clearInterval(timer);\n",
       "      }\n",
       "    }, 10, root)\n",
       "  }\n",
       "})(window);"
      ],
      "application/vnd.bokehjs_exec.v0+json": ""
     },
     "metadata": {
      "application/vnd.bokehjs_exec.v0+json": {
       "id": "8141"
      }
     },
     "output_type": "display_data"
    }
   ],
   "source": [
    "output_file(\"logit_04.html\")\n",
    "p5 = figure(plot_height = 300, plot_width = 300,\n",
    "            tools = \"\", title = \"Gradient Descent\")\n",
    "p5.circle(x = x, y = y)\n",
    "p5.toolbar.logo = None\n",
    "p5.add_layout(hline)\n",
    "y2 = sigmoid(np.dot(w.T, X.T))\n",
    "# y3 = np.where(y2 > 0.5, 1, 0)\n",
    "p5.line(x = x, y = y2.flatten(), color = \"red\")\n",
    "show(row(p3, p5))"
   ]
  },
  {
   "cell_type": "markdown",
   "metadata": {},
   "source": [
    "## Using Newton's Method"
   ]
  },
  {
   "cell_type": "code",
   "execution_count": 64,
   "metadata": {},
   "outputs": [
    {
     "data": {
      "text/plain": [
       "array([-93.16567685,  89.30983868])"
      ]
     },
     "execution_count": 64,
     "metadata": {},
     "output_type": "execute_result"
    }
   ],
   "source": [
    "def newton(N, X, w):\n",
    "    secGrad = 0\n",
    "    for i in range(N):\n",
    "        secGrad += (sigmoid(np.dot(w.T, X[i])) * (1 - sigmoid(np.dot(w.T, X[i]))) * \n",
    "                        np.dot(X[i].T, X[i]))\n",
    "    return 1/N * secGrad\n",
    "\n",
    "# Initialization\n",
    "w = np.array([-20.0, 20.0])\n",
    "N = y.size\n",
    "iteration = 0\n",
    "w_collect = [w]\n",
    "for i in range(5000):\n",
    "    w = w - gradFunc(w, X, y, N)/newton(N, X, w)\n",
    "    \n",
    "    w_collect.append(w)\n",
    "#     if abs(sum(w_collect[-1] - w_collect[-2])) < 0.00001:\n",
    "#         break\n",
    "    \n",
    "#     print(\"iter = {0} | w = {1} | gradient = {2}\".format(iteration, w, grad))\n",
    "    iteration += 1\n",
    "w"
   ]
  },
  {
   "cell_type": "code",
   "execution_count": 74,
   "metadata": {},
   "outputs": [
    {
     "data": {
      "text/plain": [
       "[array([-93.04326026,  89.19252547]),\n",
       " array([-93.05686236,  89.20556052]),\n",
       " array([-93.0704644,  89.2185955]),\n",
       " array([-93.08406637,  89.23163043]),\n",
       " array([-93.09766828,  89.24466529]),\n",
       " array([-93.11127012,  89.25770009]),\n",
       " array([-93.1248719 ,  89.27073483]),\n",
       " array([-93.13847361,  89.28376951]),\n",
       " array([-93.15207526,  89.29680412]),\n",
       " array([-93.16567685,  89.30983868])]"
      ]
     },
     "execution_count": 74,
     "metadata": {},
     "output_type": "execute_result"
    }
   ],
   "source": [
    "w_collect[-10:]"
   ]
  },
  {
   "cell_type": "code",
   "execution_count": 28,
   "metadata": {},
   "outputs": [],
   "source": [
    "reset_output()"
   ]
  },
  {
   "cell_type": "code",
   "execution_count": 43,
   "metadata": {},
   "outputs": [
    {
     "data": {
      "text/html": [
       "\n",
       "\n",
       "\n",
       "\n",
       "\n",
       "\n",
       "  <div class=\"bk-root\" id=\"440d5c16-2a9f-428b-91d9-36af4a823d9e\" data-root-id=\"9919\"></div>\n"
      ]
     },
     "metadata": {},
     "output_type": "display_data"
    },
    {
     "data": {
      "application/javascript": [
       "(function(root) {\n",
       "  function embed_document(root) {\n",
       "    \n",
       "  var docs_json = {\"0d56ceb5-7b6a-4f0b-89f5-d18ca434259c\":{\"roots\":{\"references\":[{\"attributes\":{\"children\":[{\"id\":\"8108\",\"subtype\":\"Figure\",\"type\":\"Plot\"},{\"id\":\"9885\",\"subtype\":\"Figure\",\"type\":\"Plot\"}]},\"id\":\"9919\",\"type\":\"Row\"},{\"attributes\":{},\"id\":\"10071\",\"type\":\"Selection\"},{\"attributes\":{},\"id\":\"8201\",\"type\":\"BasicTickFormatter\"},{\"attributes\":{},\"id\":\"8209\",\"type\":\"UnionRenderers\"},{\"attributes\":{\"callback\":null},\"id\":\"9888\",\"type\":\"DataRange1d\"},{\"attributes\":{},\"id\":\"9897\",\"type\":\"BasicTicker\"},{\"attributes\":{\"active_drag\":\"auto\",\"active_inspect\":\"auto\",\"active_multi\":null,\"active_scroll\":\"auto\",\"active_tap\":\"auto\",\"logo\":null},\"id\":\"8129\",\"type\":\"Toolbar\"},{\"attributes\":{},\"id\":\"10060\",\"type\":\"BasicTickFormatter\"},{\"attributes\":{},\"id\":\"10069\",\"type\":\"Selection\"},{\"attributes\":{\"data_source\":{\"id\":\"8130\",\"type\":\"ColumnDataSource\"},\"glyph\":{\"id\":\"8131\",\"type\":\"Circle\"},\"hover_glyph\":null,\"muted_glyph\":null,\"nonselection_glyph\":{\"id\":\"8132\",\"type\":\"Circle\"},\"selection_glyph\":null,\"view\":{\"id\":\"8134\",\"type\":\"CDSView\"}},\"id\":\"8133\",\"type\":\"GlyphRenderer\"},{\"attributes\":{\"callback\":null},\"id\":\"9890\",\"type\":\"DataRange1d\"},{\"attributes\":{},\"id\":\"8117\",\"type\":\"LinearScale\"},{\"attributes\":{\"formatter\":{\"id\":\"8203\",\"type\":\"BasicTickFormatter\"},\"ticker\":{\"id\":\"8120\",\"type\":\"BasicTicker\"}},\"id\":\"8119\",\"type\":\"LinearAxis\"},{\"attributes\":{\"dimension\":1,\"ticker\":{\"id\":\"8125\",\"type\":\"BasicTicker\"}},\"id\":\"8128\",\"type\":\"Grid\"},{\"attributes\":{\"line_color\":\"red\",\"x\":{\"field\":\"x\"},\"y\":{\"field\":\"y\"}},\"id\":\"9914\",\"type\":\"Line\"},{\"attributes\":{\"below\":[{\"id\":\"9896\",\"type\":\"LinearAxis\"}],\"center\":[{\"id\":\"9900\",\"type\":\"Grid\"},{\"id\":\"9905\",\"type\":\"Grid\"},{\"id\":\"7114\",\"type\":\"Span\"}],\"left\":[{\"id\":\"9901\",\"type\":\"LinearAxis\"}],\"plot_height\":300,\"plot_width\":300,\"renderers\":[{\"id\":\"9910\",\"type\":\"GlyphRenderer\"},{\"id\":\"9916\",\"type\":\"GlyphRenderer\"}],\"title\":{\"id\":\"9886\",\"type\":\"Title\"},\"toolbar\":{\"id\":\"9906\",\"type\":\"Toolbar\"},\"x_range\":{\"id\":\"9888\",\"type\":\"DataRange1d\"},\"x_scale\":{\"id\":\"9892\",\"type\":\"LinearScale\"},\"y_range\":{\"id\":\"9890\",\"type\":\"DataRange1d\"},\"y_scale\":{\"id\":\"9894\",\"type\":\"LinearScale\"}},\"id\":\"9885\",\"subtype\":\"Figure\",\"type\":\"Plot\"},{\"attributes\":{\"dimension\":1,\"ticker\":{\"id\":\"9902\",\"type\":\"BasicTicker\"}},\"id\":\"9905\",\"type\":\"Grid\"},{\"attributes\":{},\"id\":\"8125\",\"type\":\"BasicTicker\"},{\"attributes\":{\"callback\":null,\"data\":{\"x\":{\"__ndarray__\":\"gRHJLCGSwL+QnXMjGuzFP4gIMYJgMcg/ZHRAoAca5D/gO0scX5XvP5qZmZmZmfE/ZmZmZmZm9j8AAAAAAAAQQDMzMzMzMxFAAAAAAAAAEkDNzMzMzMwSQA==\",\"dtype\":\"float64\",\"shape\":[11]},\"y\":{\"__ndarray__\":\"AAAAAAAAAAAAAAAAAAAAAAAAAAAAAAAAAAAAAAAAAAAAAAAAAAAAAAAAAAAAAPA/AAAAAAAA8D8AAAAAAADwPwAAAAAAAPA/AAAAAAAA8D8AAAAAAADwPw==\",\"dtype\":\"float64\",\"shape\":[11]}},\"selected\":{\"id\":\"8210\",\"type\":\"Selection\"},\"selection_policy\":{\"id\":\"8209\",\"type\":\"UnionRenderers\"}},\"id\":\"8130\",\"type\":\"ColumnDataSource\"},{\"attributes\":{\"callback\":null,\"data\":{\"x\":{\"__ndarray__\":\"gRHJLCGSwL+QnXMjGuzFP4gIMYJgMcg/ZHRAoAca5D/gO0scX5XvP5qZmZmZmfE/ZmZmZmZm9j8AAAAAAAAQQDMzMzMzMxFAAAAAAAAAEkDNzMzMzMwSQA==\",\"dtype\":\"float64\",\"shape\":[11]},\"y\":{\"__ndarray__\":\"ZXjtwvcPfjZ6cSuYgD3pOOwT+KYvxA45bqDryGAWlzwo6ljDd+t6P1wc3tgdze8/fv//////7z8AAAAAAADwPwAAAAAAAPA/AAAAAAAA8D8AAAAAAADwPw==\",\"dtype\":\"float64\",\"shape\":[11]}},\"selected\":{\"id\":\"10071\",\"type\":\"Selection\"},\"selection_policy\":{\"id\":\"10070\",\"type\":\"UnionRenderers\"}},\"id\":\"9913\",\"type\":\"ColumnDataSource\"},{\"attributes\":{\"source\":{\"id\":\"9913\",\"type\":\"ColumnDataSource\"}},\"id\":\"9917\",\"type\":\"CDSView\"},{\"attributes\":{},\"id\":\"10068\",\"type\":\"UnionRenderers\"},{\"attributes\":{\"callback\":null},\"id\":\"8113\",\"type\":\"DataRange1d\"},{\"attributes\":{\"fill_alpha\":{\"value\":0.1},\"fill_color\":{\"value\":\"#1f77b4\"},\"line_alpha\":{\"value\":0.1},\"line_color\":{\"value\":\"#1f77b4\"},\"x\":{\"field\":\"x\"},\"y\":{\"field\":\"y\"}},\"id\":\"8132\",\"type\":\"Circle\"},{\"attributes\":{\"source\":{\"id\":\"8136\",\"type\":\"ColumnDataSource\"}},\"id\":\"8140\",\"type\":\"CDSView\"},{\"attributes\":{\"text\":\"Gradient Descent\"},\"id\":\"8109\",\"type\":\"Title\"},{\"attributes\":{\"fill_alpha\":{\"value\":0.1},\"fill_color\":{\"value\":\"#1f77b4\"},\"line_alpha\":{\"value\":0.1},\"line_color\":{\"value\":\"#1f77b4\"},\"x\":{\"field\":\"x\"},\"y\":{\"field\":\"y\"}},\"id\":\"9909\",\"type\":\"Circle\"},{\"attributes\":{\"below\":[{\"id\":\"8119\",\"type\":\"LinearAxis\"}],\"center\":[{\"id\":\"8123\",\"type\":\"Grid\"},{\"id\":\"8128\",\"type\":\"Grid\"},{\"id\":\"7114\",\"type\":\"Span\"}],\"left\":[{\"id\":\"8124\",\"type\":\"LinearAxis\"}],\"plot_height\":300,\"plot_width\":300,\"renderers\":[{\"id\":\"8133\",\"type\":\"GlyphRenderer\"},{\"id\":\"8139\",\"type\":\"GlyphRenderer\"}],\"title\":{\"id\":\"8109\",\"type\":\"Title\"},\"toolbar\":{\"id\":\"8129\",\"type\":\"Toolbar\"},\"toolbar_location\":null,\"x_range\":{\"id\":\"8111\",\"type\":\"DataRange1d\"},\"x_scale\":{\"id\":\"8115\",\"type\":\"LinearScale\"},\"y_range\":{\"id\":\"8113\",\"type\":\"DataRange1d\"},\"y_scale\":{\"id\":\"8117\",\"type\":\"LinearScale\"}},\"id\":\"8108\",\"subtype\":\"Figure\",\"type\":\"Plot\"},{\"attributes\":{\"source\":{\"id\":\"8130\",\"type\":\"ColumnDataSource\"}},\"id\":\"8134\",\"type\":\"CDSView\"},{\"attributes\":{\"line_alpha\":0.1,\"line_color\":\"#1f77b4\",\"x\":{\"field\":\"x\"},\"y\":{\"field\":\"y\"}},\"id\":\"9915\",\"type\":\"Line\"},{\"attributes\":{\"line_alpha\":0.1,\"line_color\":\"#1f77b4\",\"x\":{\"field\":\"x\"},\"y\":{\"field\":\"y\"}},\"id\":\"8138\",\"type\":\"Line\"},{\"attributes\":{},\"id\":\"8210\",\"type\":\"Selection\"},{\"attributes\":{\"callback\":null},\"id\":\"8111\",\"type\":\"DataRange1d\"},{\"attributes\":{\"data_source\":{\"id\":\"9913\",\"type\":\"ColumnDataSource\"},\"glyph\":{\"id\":\"9914\",\"type\":\"Line\"},\"hover_glyph\":null,\"muted_glyph\":null,\"nonselection_glyph\":{\"id\":\"9915\",\"type\":\"Line\"},\"selection_glyph\":null,\"view\":{\"id\":\"9917\",\"type\":\"CDSView\"}},\"id\":\"9916\",\"type\":\"GlyphRenderer\"},{\"attributes\":{\"data_source\":{\"id\":\"8136\",\"type\":\"ColumnDataSource\"},\"glyph\":{\"id\":\"8137\",\"type\":\"Line\"},\"hover_glyph\":null,\"muted_glyph\":null,\"nonselection_glyph\":{\"id\":\"8138\",\"type\":\"Line\"},\"selection_glyph\":null,\"view\":{\"id\":\"8140\",\"type\":\"CDSView\"}},\"id\":\"8139\",\"type\":\"GlyphRenderer\"},{\"attributes\":{\"ticker\":{\"id\":\"8120\",\"type\":\"BasicTicker\"}},\"id\":\"8123\",\"type\":\"Grid\"},{\"attributes\":{\"fill_color\":{\"value\":\"#1f77b4\"},\"line_color\":{\"value\":\"#1f77b4\"},\"x\":{\"field\":\"x\"},\"y\":{\"field\":\"y\"}},\"id\":\"9908\",\"type\":\"Circle\"},{\"attributes\":{\"formatter\":{\"id\":\"10062\",\"type\":\"BasicTickFormatter\"},\"ticker\":{\"id\":\"9897\",\"type\":\"BasicTicker\"}},\"id\":\"9896\",\"type\":\"LinearAxis\"},{\"attributes\":{},\"id\":\"8211\",\"type\":\"UnionRenderers\"},{\"attributes\":{\"formatter\":{\"id\":\"8201\",\"type\":\"BasicTickFormatter\"},\"ticker\":{\"id\":\"8125\",\"type\":\"BasicTicker\"}},\"id\":\"8124\",\"type\":\"LinearAxis\"},{\"attributes\":{},\"id\":\"8120\",\"type\":\"BasicTicker\"},{\"attributes\":{},\"id\":\"10070\",\"type\":\"UnionRenderers\"},{\"attributes\":{},\"id\":\"10062\",\"type\":\"BasicTickFormatter\"},{\"attributes\":{\"callback\":null,\"data\":{\"x\":{\"__ndarray__\":\"gRHJLCGSwL+QnXMjGuzFP4gIMYJgMcg/ZHRAoAca5D/gO0scX5XvP5qZmZmZmfE/ZmZmZmZm9j8AAAAAAAAQQDMzMzMzMxFAAAAAAAAAEkDNzMzMzMwSQA==\",\"dtype\":\"float64\",\"shape\":[11]},\"y\":{\"__ndarray__\":\"AAAAAAAAAAAAAAAAAAAAAAAAAAAAAAAAAAAAAAAAAAAAAAAAAAAAAAAAAAAAAPA/AAAAAAAA8D8AAAAAAADwPwAAAAAAAPA/AAAAAAAA8D8AAAAAAADwPw==\",\"dtype\":\"float64\",\"shape\":[11]}},\"selected\":{\"id\":\"10069\",\"type\":\"Selection\"},\"selection_policy\":{\"id\":\"10068\",\"type\":\"UnionRenderers\"}},\"id\":\"9907\",\"type\":\"ColumnDataSource\"},{\"attributes\":{\"ticker\":{\"id\":\"9897\",\"type\":\"BasicTicker\"}},\"id\":\"9900\",\"type\":\"Grid\"},{\"attributes\":{},\"id\":\"8115\",\"type\":\"LinearScale\"},{\"attributes\":{\"source\":{\"id\":\"9907\",\"type\":\"ColumnDataSource\"}},\"id\":\"9911\",\"type\":\"CDSView\"},{\"attributes\":{\"data_source\":{\"id\":\"9907\",\"type\":\"ColumnDataSource\"},\"glyph\":{\"id\":\"9908\",\"type\":\"Circle\"},\"hover_glyph\":null,\"muted_glyph\":null,\"nonselection_glyph\":{\"id\":\"9909\",\"type\":\"Circle\"},\"selection_glyph\":null,\"view\":{\"id\":\"9911\",\"type\":\"CDSView\"}},\"id\":\"9910\",\"type\":\"GlyphRenderer\"},{\"attributes\":{\"fill_color\":{\"value\":\"#1f77b4\"},\"line_color\":{\"value\":\"#1f77b4\"},\"x\":{\"field\":\"x\"},\"y\":{\"field\":\"y\"}},\"id\":\"8131\",\"type\":\"Circle\"},{\"attributes\":{},\"id\":\"8212\",\"type\":\"Selection\"},{\"attributes\":{\"line_color\":{\"value\":\"green\"},\"line_dash\":[6],\"line_width\":{\"value\":3},\"location\":0.5},\"id\":\"7114\",\"type\":\"Span\"},{\"attributes\":{},\"id\":\"8203\",\"type\":\"BasicTickFormatter\"},{\"attributes\":{\"text\":\"Newton's Method\"},\"id\":\"9886\",\"type\":\"Title\"},{\"attributes\":{\"active_drag\":\"auto\",\"active_inspect\":\"auto\",\"active_multi\":null,\"active_scroll\":\"auto\",\"active_tap\":\"auto\",\"logo\":null},\"id\":\"9906\",\"type\":\"Toolbar\"},{\"attributes\":{},\"id\":\"9902\",\"type\":\"BasicTicker\"},{\"attributes\":{\"line_color\":\"red\",\"x\":{\"field\":\"x\"},\"y\":{\"field\":\"y\"}},\"id\":\"8137\",\"type\":\"Line\"},{\"attributes\":{},\"id\":\"9892\",\"type\":\"LinearScale\"},{\"attributes\":{},\"id\":\"9894\",\"type\":\"LinearScale\"},{\"attributes\":{\"formatter\":{\"id\":\"10060\",\"type\":\"BasicTickFormatter\"},\"ticker\":{\"id\":\"9902\",\"type\":\"BasicTicker\"}},\"id\":\"9901\",\"type\":\"LinearAxis\"},{\"attributes\":{\"callback\":null,\"data\":{\"x\":{\"__ndarray__\":\"gRHJLCGSwL+QnXMjGuzFP4gIMYJgMcg/ZHRAoAca5D/gO0scX5XvP5qZmZmZmfE/ZmZmZmZm9j8AAAAAAAAQQDMzMzMzMxFAAAAAAAAAEkDNzMzMzMwSQA==\",\"dtype\":\"float64\",\"shape\":[11]},\"y\":{\"__ndarray__\":\"vmjhjFjePTy0AlPry7swPcN7hWdhGz89chrc3/kyoT69fL6E2wrAP2KDp3ayNew/LSvJIPj/7z8AAAAAAADwPwAAAAAAAPA/AAAAAAAA8D8AAAAAAADwPw==\",\"dtype\":\"float64\",\"shape\":[11]}},\"selected\":{\"id\":\"8212\",\"type\":\"Selection\"},\"selection_policy\":{\"id\":\"8211\",\"type\":\"UnionRenderers\"}},\"id\":\"8136\",\"type\":\"ColumnDataSource\"}],\"root_ids\":[\"9919\"]},\"title\":\"Bokeh Application\",\"version\":\"1.1.0\"}};\n",
       "  var render_items = [{\"docid\":\"0d56ceb5-7b6a-4f0b-89f5-d18ca434259c\",\"roots\":{\"9919\":\"440d5c16-2a9f-428b-91d9-36af4a823d9e\"}}];\n",
       "  root.Bokeh.embed.embed_items_notebook(docs_json, render_items);\n",
       "\n",
       "  }\n",
       "  if (root.Bokeh !== undefined) {\n",
       "    embed_document(root);\n",
       "  } else {\n",
       "    var attempts = 0;\n",
       "    var timer = setInterval(function(root) {\n",
       "      if (root.Bokeh !== undefined) {\n",
       "        embed_document(root);\n",
       "        clearInterval(timer);\n",
       "      }\n",
       "      attempts++;\n",
       "      if (attempts > 100) {\n",
       "        console.log(\"Bokeh: ERROR: Unable to run BokehJS code because BokehJS library is missing\");\n",
       "        clearInterval(timer);\n",
       "      }\n",
       "    }, 10, root)\n",
       "  }\n",
       "})(window);"
      ],
      "application/vnd.bokehjs_exec.v0+json": ""
     },
     "metadata": {
      "application/vnd.bokehjs_exec.v0+json": {
       "id": "9919"
      }
     },
     "output_type": "display_data"
    }
   ],
   "source": [
    "output_file(\"logit_05.html\")\n",
    "p6 = figure(plot_height = 300, plot_width = 300,\n",
    "            tools = \"\", title = \"Newton's Method\")\n",
    "p6.circle(x = x, y = y)\n",
    "p6.toolbar.logo = None\n",
    "p6.add_layout(hline)\n",
    "y2 = sigmoid(np.dot(w.T, X.T))\n",
    "# y3 = np.where(y2 > 0.5, 1, 0)\n",
    "p6.line(x = x, y = y2.flatten(), color = \"red\")\n",
    "p6.toolbar.logo = None\n",
    "# grid = gridplot([[p2,None], [p3, p4], [p5, p6]], toolbar_options=dict(logo=None))\n",
    "show(row(p5, p6))"
   ]
  },
  {
   "cell_type": "code",
   "execution_count": null,
   "metadata": {},
   "outputs": [],
   "source": []
  }
 ],
 "metadata": {
  "kernelspec": {
   "display_name": "Python 3",
   "language": "python",
   "name": "python3"
  },
  "language_info": {
   "codemirror_mode": {
    "name": "ipython",
    "version": 3
   },
   "file_extension": ".py",
   "mimetype": "text/x-python",
   "name": "python",
   "nbconvert_exporter": "python",
   "pygments_lexer": "ipython3",
   "version": "3.6.8"
  }
 },
 "nbformat": 4,
 "nbformat_minor": 2
}

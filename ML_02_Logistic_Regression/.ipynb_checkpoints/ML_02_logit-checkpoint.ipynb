{
 "cells": [
  {
   "cell_type": "code",
   "execution_count": 1,
   "metadata": {},
   "outputs": [
    {
     "data": {
      "text/html": [
       "\n",
       "    <div class=\"bk-root\">\n",
       "        <a href=\"https://bokeh.pydata.org\" target=\"_blank\" class=\"bk-logo bk-logo-small bk-logo-notebook\"></a>\n",
       "        <span id=\"1001\">Loading BokehJS ...</span>\n",
       "    </div>"
      ]
     },
     "metadata": {},
     "output_type": "display_data"
    },
    {
     "data": {
      "application/javascript": [
       "\n",
       "(function(root) {\n",
       "  function now() {\n",
       "    return new Date();\n",
       "  }\n",
       "\n",
       "  var force = true;\n",
       "\n",
       "  if (typeof root._bokeh_onload_callbacks === \"undefined\" || force === true) {\n",
       "    root._bokeh_onload_callbacks = [];\n",
       "    root._bokeh_is_loading = undefined;\n",
       "  }\n",
       "\n",
       "  var JS_MIME_TYPE = 'application/javascript';\n",
       "  var HTML_MIME_TYPE = 'text/html';\n",
       "  var EXEC_MIME_TYPE = 'application/vnd.bokehjs_exec.v0+json';\n",
       "  var CLASS_NAME = 'output_bokeh rendered_html';\n",
       "\n",
       "  /**\n",
       "   * Render data to the DOM node\n",
       "   */\n",
       "  function render(props, node) {\n",
       "    var script = document.createElement(\"script\");\n",
       "    node.appendChild(script);\n",
       "  }\n",
       "\n",
       "  /**\n",
       "   * Handle when an output is cleared or removed\n",
       "   */\n",
       "  function handleClearOutput(event, handle) {\n",
       "    var cell = handle.cell;\n",
       "\n",
       "    var id = cell.output_area._bokeh_element_id;\n",
       "    var server_id = cell.output_area._bokeh_server_id;\n",
       "    // Clean up Bokeh references\n",
       "    if (id != null && id in Bokeh.index) {\n",
       "      Bokeh.index[id].model.document.clear();\n",
       "      delete Bokeh.index[id];\n",
       "    }\n",
       "\n",
       "    if (server_id !== undefined) {\n",
       "      // Clean up Bokeh references\n",
       "      var cmd = \"from bokeh.io.state import curstate; print(curstate().uuid_to_server['\" + server_id + \"'].get_sessions()[0].document.roots[0]._id)\";\n",
       "      cell.notebook.kernel.execute(cmd, {\n",
       "        iopub: {\n",
       "          output: function(msg) {\n",
       "            var id = msg.content.text.trim();\n",
       "            if (id in Bokeh.index) {\n",
       "              Bokeh.index[id].model.document.clear();\n",
       "              delete Bokeh.index[id];\n",
       "            }\n",
       "          }\n",
       "        }\n",
       "      });\n",
       "      // Destroy server and session\n",
       "      var cmd = \"import bokeh.io.notebook as ion; ion.destroy_server('\" + server_id + \"')\";\n",
       "      cell.notebook.kernel.execute(cmd);\n",
       "    }\n",
       "  }\n",
       "\n",
       "  /**\n",
       "   * Handle when a new output is added\n",
       "   */\n",
       "  function handleAddOutput(event, handle) {\n",
       "    var output_area = handle.output_area;\n",
       "    var output = handle.output;\n",
       "\n",
       "    // limit handleAddOutput to display_data with EXEC_MIME_TYPE content only\n",
       "    if ((output.output_type != \"display_data\") || (!output.data.hasOwnProperty(EXEC_MIME_TYPE))) {\n",
       "      return\n",
       "    }\n",
       "\n",
       "    var toinsert = output_area.element.find(\".\" + CLASS_NAME.split(' ')[0]);\n",
       "\n",
       "    if (output.metadata[EXEC_MIME_TYPE][\"id\"] !== undefined) {\n",
       "      toinsert[toinsert.length - 1].firstChild.textContent = output.data[JS_MIME_TYPE];\n",
       "      // store reference to embed id on output_area\n",
       "      output_area._bokeh_element_id = output.metadata[EXEC_MIME_TYPE][\"id\"];\n",
       "    }\n",
       "    if (output.metadata[EXEC_MIME_TYPE][\"server_id\"] !== undefined) {\n",
       "      var bk_div = document.createElement(\"div\");\n",
       "      bk_div.innerHTML = output.data[HTML_MIME_TYPE];\n",
       "      var script_attrs = bk_div.children[0].attributes;\n",
       "      for (var i = 0; i < script_attrs.length; i++) {\n",
       "        toinsert[toinsert.length - 1].firstChild.setAttribute(script_attrs[i].name, script_attrs[i].value);\n",
       "      }\n",
       "      // store reference to server id on output_area\n",
       "      output_area._bokeh_server_id = output.metadata[EXEC_MIME_TYPE][\"server_id\"];\n",
       "    }\n",
       "  }\n",
       "\n",
       "  function register_renderer(events, OutputArea) {\n",
       "\n",
       "    function append_mime(data, metadata, element) {\n",
       "      // create a DOM node to render to\n",
       "      var toinsert = this.create_output_subarea(\n",
       "        metadata,\n",
       "        CLASS_NAME,\n",
       "        EXEC_MIME_TYPE\n",
       "      );\n",
       "      this.keyboard_manager.register_events(toinsert);\n",
       "      // Render to node\n",
       "      var props = {data: data, metadata: metadata[EXEC_MIME_TYPE]};\n",
       "      render(props, toinsert[toinsert.length - 1]);\n",
       "      element.append(toinsert);\n",
       "      return toinsert\n",
       "    }\n",
       "\n",
       "    /* Handle when an output is cleared or removed */\n",
       "    events.on('clear_output.CodeCell', handleClearOutput);\n",
       "    events.on('delete.Cell', handleClearOutput);\n",
       "\n",
       "    /* Handle when a new output is added */\n",
       "    events.on('output_added.OutputArea', handleAddOutput);\n",
       "\n",
       "    /**\n",
       "     * Register the mime type and append_mime function with output_area\n",
       "     */\n",
       "    OutputArea.prototype.register_mime_type(EXEC_MIME_TYPE, append_mime, {\n",
       "      /* Is output safe? */\n",
       "      safe: true,\n",
       "      /* Index of renderer in `output_area.display_order` */\n",
       "      index: 0\n",
       "    });\n",
       "  }\n",
       "\n",
       "  // register the mime type if in Jupyter Notebook environment and previously unregistered\n",
       "  if (root.Jupyter !== undefined) {\n",
       "    var events = require('base/js/events');\n",
       "    var OutputArea = require('notebook/js/outputarea').OutputArea;\n",
       "\n",
       "    if (OutputArea.prototype.mime_types().indexOf(EXEC_MIME_TYPE) == -1) {\n",
       "      register_renderer(events, OutputArea);\n",
       "    }\n",
       "  }\n",
       "\n",
       "  \n",
       "  if (typeof (root._bokeh_timeout) === \"undefined\" || force === true) {\n",
       "    root._bokeh_timeout = Date.now() + 5000;\n",
       "    root._bokeh_failed_load = false;\n",
       "  }\n",
       "\n",
       "  var NB_LOAD_WARNING = {'data': {'text/html':\n",
       "     \"<div style='background-color: #fdd'>\\n\"+\n",
       "     \"<p>\\n\"+\n",
       "     \"BokehJS does not appear to have successfully loaded. If loading BokehJS from CDN, this \\n\"+\n",
       "     \"may be due to a slow or bad network connection. Possible fixes:\\n\"+\n",
       "     \"</p>\\n\"+\n",
       "     \"<ul>\\n\"+\n",
       "     \"<li>re-rerun `output_notebook()` to attempt to load from CDN again, or</li>\\n\"+\n",
       "     \"<li>use INLINE resources instead, as so:</li>\\n\"+\n",
       "     \"</ul>\\n\"+\n",
       "     \"<code>\\n\"+\n",
       "     \"from bokeh.resources import INLINE\\n\"+\n",
       "     \"output_notebook(resources=INLINE)\\n\"+\n",
       "     \"</code>\\n\"+\n",
       "     \"</div>\"}};\n",
       "\n",
       "  function display_loaded() {\n",
       "    var el = document.getElementById(\"1001\");\n",
       "    if (el != null) {\n",
       "      el.textContent = \"BokehJS is loading...\";\n",
       "    }\n",
       "    if (root.Bokeh !== undefined) {\n",
       "      if (el != null) {\n",
       "        el.textContent = \"BokehJS \" + root.Bokeh.version + \" successfully loaded.\";\n",
       "      }\n",
       "    } else if (Date.now() < root._bokeh_timeout) {\n",
       "      setTimeout(display_loaded, 100)\n",
       "    }\n",
       "  }\n",
       "\n",
       "\n",
       "  function run_callbacks() {\n",
       "    try {\n",
       "      root._bokeh_onload_callbacks.forEach(function(callback) {\n",
       "        if (callback != null)\n",
       "          callback();\n",
       "      });\n",
       "    } finally {\n",
       "      delete root._bokeh_onload_callbacks\n",
       "    }\n",
       "    console.debug(\"Bokeh: all callbacks have finished\");\n",
       "  }\n",
       "\n",
       "  function load_libs(css_urls, js_urls, callback) {\n",
       "    if (css_urls == null) css_urls = [];\n",
       "    if (js_urls == null) js_urls = [];\n",
       "\n",
       "    root._bokeh_onload_callbacks.push(callback);\n",
       "    if (root._bokeh_is_loading > 0) {\n",
       "      console.debug(\"Bokeh: BokehJS is being loaded, scheduling callback at\", now());\n",
       "      return null;\n",
       "    }\n",
       "    if (js_urls == null || js_urls.length === 0) {\n",
       "      run_callbacks();\n",
       "      return null;\n",
       "    }\n",
       "    console.debug(\"Bokeh: BokehJS not loaded, scheduling load and callback at\", now());\n",
       "    root._bokeh_is_loading = css_urls.length + js_urls.length;\n",
       "\n",
       "    function on_load() {\n",
       "      root._bokeh_is_loading--;\n",
       "      if (root._bokeh_is_loading === 0) {\n",
       "        console.debug(\"Bokeh: all BokehJS libraries/stylesheets loaded\");\n",
       "        run_callbacks()\n",
       "      }\n",
       "    }\n",
       "\n",
       "    function on_error() {\n",
       "      console.error(\"failed to load \" + url);\n",
       "    }\n",
       "\n",
       "    for (var i = 0; i < css_urls.length; i++) {\n",
       "      var url = css_urls[i];\n",
       "      const element = document.createElement(\"link\");\n",
       "      element.onload = on_load;\n",
       "      element.onerror = on_error;\n",
       "      element.rel = \"stylesheet\";\n",
       "      element.type = \"text/css\";\n",
       "      element.href = url;\n",
       "      console.debug(\"Bokeh: injecting link tag for BokehJS stylesheet: \", url);\n",
       "      document.body.appendChild(element);\n",
       "    }\n",
       "\n",
       "    for (var i = 0; i < js_urls.length; i++) {\n",
       "      var url = js_urls[i];\n",
       "      var element = document.createElement('script');\n",
       "      element.onload = on_load;\n",
       "      element.onerror = on_error;\n",
       "      element.async = false;\n",
       "      element.src = url;\n",
       "      console.debug(\"Bokeh: injecting script tag for BokehJS library: \", url);\n",
       "      document.head.appendChild(element);\n",
       "    }\n",
       "  };var element = document.getElementById(\"1001\");\n",
       "  if (element == null) {\n",
       "    console.error(\"Bokeh: ERROR: autoload.js configured with elementid '1001' but no matching script tag was found. \")\n",
       "    return false;\n",
       "  }\n",
       "\n",
       "  function inject_raw_css(css) {\n",
       "    const element = document.createElement(\"style\");\n",
       "    element.appendChild(document.createTextNode(css));\n",
       "    document.body.appendChild(element);\n",
       "  }\n",
       "\n",
       "  var js_urls = [\"https://cdn.pydata.org/bokeh/release/bokeh-1.1.0.min.js\", \"https://cdn.pydata.org/bokeh/release/bokeh-widgets-1.1.0.min.js\", \"https://cdn.pydata.org/bokeh/release/bokeh-tables-1.1.0.min.js\", \"https://cdn.pydata.org/bokeh/release/bokeh-gl-1.1.0.min.js\"];\n",
       "  var css_urls = [\"https://cdn.pydata.org/bokeh/release/bokeh-1.1.0.min.css\", \"https://cdn.pydata.org/bokeh/release/bokeh-widgets-1.1.0.min.css\", \"https://cdn.pydata.org/bokeh/release/bokeh-tables-1.1.0.min.css\"];\n",
       "\n",
       "  var inline_js = [\n",
       "    function(Bokeh) {\n",
       "      Bokeh.set_log_level(\"info\");\n",
       "    },\n",
       "    \n",
       "    function(Bokeh) {\n",
       "      \n",
       "    },\n",
       "    function(Bokeh) {} // ensure no trailing comma for IE\n",
       "  ];\n",
       "\n",
       "  function run_inline_js() {\n",
       "    \n",
       "    if ((root.Bokeh !== undefined) || (force === true)) {\n",
       "      for (var i = 0; i < inline_js.length; i++) {\n",
       "        inline_js[i].call(root, root.Bokeh);\n",
       "      }if (force === true) {\n",
       "        display_loaded();\n",
       "      }} else if (Date.now() < root._bokeh_timeout) {\n",
       "      setTimeout(run_inline_js, 100);\n",
       "    } else if (!root._bokeh_failed_load) {\n",
       "      console.log(\"Bokeh: BokehJS failed to load within specified timeout.\");\n",
       "      root._bokeh_failed_load = true;\n",
       "    } else if (force !== true) {\n",
       "      var cell = $(document.getElementById(\"1001\")).parents('.cell').data().cell;\n",
       "      cell.output_area.append_execute_result(NB_LOAD_WARNING)\n",
       "    }\n",
       "\n",
       "  }\n",
       "\n",
       "  if (root._bokeh_is_loading === 0) {\n",
       "    console.debug(\"Bokeh: BokehJS loaded, going straight to plotting\");\n",
       "    run_inline_js();\n",
       "  } else {\n",
       "    load_libs(css_urls, js_urls, function() {\n",
       "      console.debug(\"Bokeh: BokehJS plotting callback run at\", now());\n",
       "      run_inline_js();\n",
       "    });\n",
       "  }\n",
       "}(window));"
      ],
      "application/vnd.bokehjs_load.v0+json": "\n(function(root) {\n  function now() {\n    return new Date();\n  }\n\n  var force = true;\n\n  if (typeof root._bokeh_onload_callbacks === \"undefined\" || force === true) {\n    root._bokeh_onload_callbacks = [];\n    root._bokeh_is_loading = undefined;\n  }\n\n  \n\n  \n  if (typeof (root._bokeh_timeout) === \"undefined\" || force === true) {\n    root._bokeh_timeout = Date.now() + 5000;\n    root._bokeh_failed_load = false;\n  }\n\n  var NB_LOAD_WARNING = {'data': {'text/html':\n     \"<div style='background-color: #fdd'>\\n\"+\n     \"<p>\\n\"+\n     \"BokehJS does not appear to have successfully loaded. If loading BokehJS from CDN, this \\n\"+\n     \"may be due to a slow or bad network connection. Possible fixes:\\n\"+\n     \"</p>\\n\"+\n     \"<ul>\\n\"+\n     \"<li>re-rerun `output_notebook()` to attempt to load from CDN again, or</li>\\n\"+\n     \"<li>use INLINE resources instead, as so:</li>\\n\"+\n     \"</ul>\\n\"+\n     \"<code>\\n\"+\n     \"from bokeh.resources import INLINE\\n\"+\n     \"output_notebook(resources=INLINE)\\n\"+\n     \"</code>\\n\"+\n     \"</div>\"}};\n\n  function display_loaded() {\n    var el = document.getElementById(\"1001\");\n    if (el != null) {\n      el.textContent = \"BokehJS is loading...\";\n    }\n    if (root.Bokeh !== undefined) {\n      if (el != null) {\n        el.textContent = \"BokehJS \" + root.Bokeh.version + \" successfully loaded.\";\n      }\n    } else if (Date.now() < root._bokeh_timeout) {\n      setTimeout(display_loaded, 100)\n    }\n  }\n\n\n  function run_callbacks() {\n    try {\n      root._bokeh_onload_callbacks.forEach(function(callback) {\n        if (callback != null)\n          callback();\n      });\n    } finally {\n      delete root._bokeh_onload_callbacks\n    }\n    console.debug(\"Bokeh: all callbacks have finished\");\n  }\n\n  function load_libs(css_urls, js_urls, callback) {\n    if (css_urls == null) css_urls = [];\n    if (js_urls == null) js_urls = [];\n\n    root._bokeh_onload_callbacks.push(callback);\n    if (root._bokeh_is_loading > 0) {\n      console.debug(\"Bokeh: BokehJS is being loaded, scheduling callback at\", now());\n      return null;\n    }\n    if (js_urls == null || js_urls.length === 0) {\n      run_callbacks();\n      return null;\n    }\n    console.debug(\"Bokeh: BokehJS not loaded, scheduling load and callback at\", now());\n    root._bokeh_is_loading = css_urls.length + js_urls.length;\n\n    function on_load() {\n      root._bokeh_is_loading--;\n      if (root._bokeh_is_loading === 0) {\n        console.debug(\"Bokeh: all BokehJS libraries/stylesheets loaded\");\n        run_callbacks()\n      }\n    }\n\n    function on_error() {\n      console.error(\"failed to load \" + url);\n    }\n\n    for (var i = 0; i < css_urls.length; i++) {\n      var url = css_urls[i];\n      const element = document.createElement(\"link\");\n      element.onload = on_load;\n      element.onerror = on_error;\n      element.rel = \"stylesheet\";\n      element.type = \"text/css\";\n      element.href = url;\n      console.debug(\"Bokeh: injecting link tag for BokehJS stylesheet: \", url);\n      document.body.appendChild(element);\n    }\n\n    for (var i = 0; i < js_urls.length; i++) {\n      var url = js_urls[i];\n      var element = document.createElement('script');\n      element.onload = on_load;\n      element.onerror = on_error;\n      element.async = false;\n      element.src = url;\n      console.debug(\"Bokeh: injecting script tag for BokehJS library: \", url);\n      document.head.appendChild(element);\n    }\n  };var element = document.getElementById(\"1001\");\n  if (element == null) {\n    console.error(\"Bokeh: ERROR: autoload.js configured with elementid '1001' but no matching script tag was found. \")\n    return false;\n  }\n\n  function inject_raw_css(css) {\n    const element = document.createElement(\"style\");\n    element.appendChild(document.createTextNode(css));\n    document.body.appendChild(element);\n  }\n\n  var js_urls = [\"https://cdn.pydata.org/bokeh/release/bokeh-1.1.0.min.js\", \"https://cdn.pydata.org/bokeh/release/bokeh-widgets-1.1.0.min.js\", \"https://cdn.pydata.org/bokeh/release/bokeh-tables-1.1.0.min.js\", \"https://cdn.pydata.org/bokeh/release/bokeh-gl-1.1.0.min.js\"];\n  var css_urls = [\"https://cdn.pydata.org/bokeh/release/bokeh-1.1.0.min.css\", \"https://cdn.pydata.org/bokeh/release/bokeh-widgets-1.1.0.min.css\", \"https://cdn.pydata.org/bokeh/release/bokeh-tables-1.1.0.min.css\"];\n\n  var inline_js = [\n    function(Bokeh) {\n      Bokeh.set_log_level(\"info\");\n    },\n    \n    function(Bokeh) {\n      \n    },\n    function(Bokeh) {} // ensure no trailing comma for IE\n  ];\n\n  function run_inline_js() {\n    \n    if ((root.Bokeh !== undefined) || (force === true)) {\n      for (var i = 0; i < inline_js.length; i++) {\n        inline_js[i].call(root, root.Bokeh);\n      }if (force === true) {\n        display_loaded();\n      }} else if (Date.now() < root._bokeh_timeout) {\n      setTimeout(run_inline_js, 100);\n    } else if (!root._bokeh_failed_load) {\n      console.log(\"Bokeh: BokehJS failed to load within specified timeout.\");\n      root._bokeh_failed_load = true;\n    } else if (force !== true) {\n      var cell = $(document.getElementById(\"1001\")).parents('.cell').data().cell;\n      cell.output_area.append_execute_result(NB_LOAD_WARNING)\n    }\n\n  }\n\n  if (root._bokeh_is_loading === 0) {\n    console.debug(\"Bokeh: BokehJS loaded, going straight to plotting\");\n    run_inline_js();\n  } else {\n    load_libs(css_urls, js_urls, function() {\n      console.debug(\"Bokeh: BokehJS plotting callback run at\", now());\n      run_inline_js();\n    });\n  }\n}(window));"
     },
     "metadata": {},
     "output_type": "display_data"
    }
   ],
   "source": [
    "import numpy as np\n",
    "import pandas as pd\n",
    "from bokeh.io import output_file, output_notebook\n",
    "from bokeh.layouts import row\n",
    "from bokeh.plotting import figure, show\n",
    "from bokeh.models import HoverTool, Label, WheelZoomTool, PanTool, Span\n",
    "output_notebook()"
   ]
  },
  {
   "cell_type": "markdown",
   "metadata": {},
   "source": [
    "## Linear regression fit classification"
   ]
  },
  {
   "cell_type": "code",
   "execution_count": 2,
   "metadata": {},
   "outputs": [],
   "source": [
    "# df = pd.read_csv(\"df2.csv\", sep=\" \", header = None)\n",
    "\n",
    "df = pd.read_csv(\"df2.csv\", header = None).T\n",
    "x = np.array(df[[0]])\n",
    "y = np.array(df[[1]])"
   ]
  },
  {
   "cell_type": "code",
   "execution_count": 3,
   "metadata": {},
   "outputs": [
    {
     "data": {
      "text/html": [
       "\n",
       "\n",
       "\n",
       "\n",
       "\n",
       "\n",
       "  <div class=\"bk-root\" id=\"7d3e82ce-3cd9-48b2-b214-6f5a4b19f1d1\" data-root-id=\"1060\"></div>\n"
      ]
     },
     "metadata": {},
     "output_type": "display_data"
    },
    {
     "data": {
      "application/javascript": [
       "(function(root) {\n",
       "  function embed_document(root) {\n",
       "    \n",
       "  var docs_json = {\"ae14df17-a1ce-4d17-af71-7299333e9152\":{\"roots\":{\"references\":[{\"attributes\":{\"children\":[{\"id\":\"1002\",\"subtype\":\"Figure\",\"type\":\"Plot\"},{\"id\":\"1022\",\"subtype\":\"Figure\",\"type\":\"Plot\"}]},\"id\":\"1060\",\"type\":\"Row\"},{\"attributes\":{},\"id\":\"1017\",\"type\":\"BasicTicker\"},{\"attributes\":{},\"id\":\"1069\",\"type\":\"BasicTickFormatter\"},{\"attributes\":{\"source\":{\"id\":\"1042\",\"type\":\"ColumnDataSource\"}},\"id\":\"1046\",\"type\":\"CDSView\"},{\"attributes\":{\"dimension\":1,\"ticker\":{\"id\":\"1017\",\"type\":\"BasicTicker\"}},\"id\":\"1020\",\"type\":\"Grid\"},{\"attributes\":{},\"id\":\"1071\",\"type\":\"BasicTickFormatter\"},{\"attributes\":{\"callback\":null,\"data\":{\"x\":{\"__ndarray__\":\"gRHJLCGSwL+QnXMjGuzFP4gIMYJgMcg/ZHRAoAca5D/gO0scX5XvP5qZmZmZmfE/ZmZmZmZm9j8AAAAAAAAQQDMzMzMzMxFAAAAAAAAAEkDNzMzMzMwSQA==\",\"dtype\":\"float64\",\"shape\":[11]},\"y\":{\"__ndarray__\":\"xAdpxUufuD9qm6YSdXzEP5bjlxTo98Q/8VjzIBV00D/b+tT3k1TVP3gwIqrT3dY/PvmJabPx2j+oYjHyTSTvP4aj8ugel/A//ETZiBlF8T9z5r8oFPPxPw==\",\"dtype\":\"float64\",\"shape\":[11]}},\"selected\":{\"id\":\"1078\",\"type\":\"Selection\"},\"selection_policy\":{\"id\":\"1077\",\"type\":\"UnionRenderers\"}},\"id\":\"1052\",\"type\":\"ColumnDataSource\"},{\"attributes\":{\"callback\":null},\"id\":\"1023\",\"type\":\"DataRange1d\"},{\"attributes\":{},\"id\":\"1073\",\"type\":\"UnionRenderers\"},{\"attributes\":{\"fill_color\":{\"value\":\"#1f77b4\"},\"line_color\":{\"value\":\"#1f77b4\"},\"x\":{\"field\":\"x\"},\"y\":{\"field\":\"y\"}},\"id\":\"1048\",\"type\":\"Circle\"},{\"attributes\":{},\"id\":\"1074\",\"type\":\"Selection\"},{\"attributes\":{\"fill_alpha\":{\"value\":0.1},\"fill_color\":{\"value\":\"#1f77b4\"},\"line_alpha\":{\"value\":0.1},\"line_color\":{\"value\":\"#1f77b4\"},\"x\":{\"field\":\"x\"},\"y\":{\"field\":\"y\"}},\"id\":\"1049\",\"type\":\"Circle\"},{\"attributes\":{\"active_drag\":\"auto\",\"active_inspect\":\"auto\",\"active_multi\":null,\"active_scroll\":\"auto\",\"active_tap\":\"auto\",\"logo\":null},\"id\":\"1021\",\"type\":\"Toolbar\"},{\"attributes\":{},\"id\":\"1075\",\"type\":\"UnionRenderers\"},{\"attributes\":{\"data_source\":{\"id\":\"1047\",\"type\":\"ColumnDataSource\"},\"glyph\":{\"id\":\"1048\",\"type\":\"Circle\"},\"hover_glyph\":null,\"muted_glyph\":null,\"nonselection_glyph\":{\"id\":\"1049\",\"type\":\"Circle\"},\"selection_glyph\":null,\"view\":{\"id\":\"1051\",\"type\":\"CDSView\"}},\"id\":\"1050\",\"type\":\"GlyphRenderer\"},{\"attributes\":{\"callback\":null},\"id\":\"1025\",\"type\":\"DataRange1d\"},{\"attributes\":{},\"id\":\"1076\",\"type\":\"Selection\"},{\"attributes\":{\"source\":{\"id\":\"1047\",\"type\":\"ColumnDataSource\"}},\"id\":\"1051\",\"type\":\"CDSView\"},{\"attributes\":{},\"id\":\"1027\",\"type\":\"LinearScale\"},{\"attributes\":{},\"id\":\"1077\",\"type\":\"UnionRenderers\"},{\"attributes\":{\"fill_color\":{\"value\":\"#1f77b4\"},\"line_color\":{\"value\":\"#1f77b4\"},\"x\":{\"field\":\"x\"},\"y\":{\"field\":\"y\"}},\"id\":\"1043\",\"type\":\"Circle\"},{\"attributes\":{\"line_color\":{\"value\":\"green\"},\"line_dash\":[6],\"line_width\":{\"value\":3},\"location\":0.5},\"id\":\"1057\",\"type\":\"Span\"},{\"attributes\":{},\"id\":\"1029\",\"type\":\"LinearScale\"},{\"attributes\":{},\"id\":\"1078\",\"type\":\"Selection\"},{\"attributes\":{\"below\":[{\"id\":\"1011\",\"type\":\"LinearAxis\"}],\"center\":[{\"id\":\"1015\",\"type\":\"Grid\"},{\"id\":\"1020\",\"type\":\"Grid\"},{\"id\":\"1057\",\"type\":\"Span\"}],\"left\":[{\"id\":\"1016\",\"type\":\"LinearAxis\"}],\"plot_height\":300,\"plot_width\":300,\"renderers\":[{\"id\":\"1045\",\"type\":\"GlyphRenderer\"}],\"title\":{\"id\":\"1061\",\"type\":\"Title\"},\"toolbar\":{\"id\":\"1021\",\"type\":\"Toolbar\"},\"x_range\":{\"id\":\"1003\",\"type\":\"DataRange1d\"},\"x_scale\":{\"id\":\"1007\",\"type\":\"LinearScale\"},\"y_range\":{\"id\":\"1005\",\"type\":\"DataRange1d\"},\"y_scale\":{\"id\":\"1009\",\"type\":\"LinearScale\"}},\"id\":\"1002\",\"subtype\":\"Figure\",\"type\":\"Plot\"},{\"attributes\":{\"line_color\":\"red\",\"x\":{\"field\":\"x\"},\"y\":{\"field\":\"y\"}},\"id\":\"1053\",\"type\":\"Line\"},{\"attributes\":{\"formatter\":{\"id\":\"1069\",\"type\":\"BasicTickFormatter\"},\"ticker\":{\"id\":\"1032\",\"type\":\"BasicTicker\"}},\"id\":\"1031\",\"type\":\"LinearAxis\"},{\"attributes\":{\"line_alpha\":0.1,\"line_color\":\"#1f77b4\",\"x\":{\"field\":\"x\"},\"y\":{\"field\":\"y\"}},\"id\":\"1054\",\"type\":\"Line\"},{\"attributes\":{\"below\":[{\"id\":\"1031\",\"type\":\"LinearAxis\"}],\"center\":[{\"id\":\"1035\",\"type\":\"Grid\"},{\"id\":\"1040\",\"type\":\"Grid\"},{\"id\":\"1057\",\"type\":\"Span\"}],\"left\":[{\"id\":\"1036\",\"type\":\"LinearAxis\"}],\"plot_height\":300,\"plot_width\":300,\"renderers\":[{\"id\":\"1050\",\"type\":\"GlyphRenderer\"},{\"id\":\"1055\",\"type\":\"GlyphRenderer\"}],\"title\":{\"id\":\"1063\",\"type\":\"Title\"},\"toolbar\":{\"id\":\"1041\",\"type\":\"Toolbar\"},\"x_range\":{\"id\":\"1023\",\"type\":\"DataRange1d\"},\"x_scale\":{\"id\":\"1027\",\"type\":\"LinearScale\"},\"y_range\":{\"id\":\"1025\",\"type\":\"DataRange1d\"},\"y_scale\":{\"id\":\"1029\",\"type\":\"LinearScale\"}},\"id\":\"1022\",\"subtype\":\"Figure\",\"type\":\"Plot\"},{\"attributes\":{},\"id\":\"1032\",\"type\":\"BasicTicker\"},{\"attributes\":{\"data_source\":{\"id\":\"1052\",\"type\":\"ColumnDataSource\"},\"glyph\":{\"id\":\"1053\",\"type\":\"Line\"},\"hover_glyph\":null,\"muted_glyph\":null,\"nonselection_glyph\":{\"id\":\"1054\",\"type\":\"Line\"},\"selection_glyph\":null,\"view\":{\"id\":\"1056\",\"type\":\"CDSView\"}},\"id\":\"1055\",\"type\":\"GlyphRenderer\"},{\"attributes\":{\"callback\":null,\"data\":{\"x\":{\"__ndarray__\":\"gRHJLCGSwL+QnXMjGuzFP4gIMYJgMcg/ZHRAoAca5D/gO0scX5XvP5qZmZmZmfE/ZmZmZmZm9j8AAAAAAAAQQDMzMzMzMxFAAAAAAAAAEkDNzMzMzMwSQA==\",\"dtype\":\"float64\",\"shape\":[11]},\"y\":{\"__ndarray__\":\"AAAAAAAAAAAAAAAAAAAAAAAAAAAAAAAAAAAAAAAAAAAAAAAAAAAAAAAAAAAAAPA/AAAAAAAA8D8AAAAAAADwPwAAAAAAAPA/AAAAAAAA8D8AAAAAAADwPw==\",\"dtype\":\"float64\",\"shape\":[11]}},\"selected\":{\"id\":\"1074\",\"type\":\"Selection\"},\"selection_policy\":{\"id\":\"1073\",\"type\":\"UnionRenderers\"}},\"id\":\"1042\",\"type\":\"ColumnDataSource\"},{\"attributes\":{\"callback\":null},\"id\":\"1003\",\"type\":\"DataRange1d\"},{\"attributes\":{\"ticker\":{\"id\":\"1032\",\"type\":\"BasicTicker\"}},\"id\":\"1035\",\"type\":\"Grid\"},{\"attributes\":{\"source\":{\"id\":\"1052\",\"type\":\"ColumnDataSource\"}},\"id\":\"1056\",\"type\":\"CDSView\"},{\"attributes\":{\"callback\":null},\"id\":\"1005\",\"type\":\"DataRange1d\"},{\"attributes\":{\"formatter\":{\"id\":\"1071\",\"type\":\"BasicTickFormatter\"},\"ticker\":{\"id\":\"1037\",\"type\":\"BasicTicker\"}},\"id\":\"1036\",\"type\":\"LinearAxis\"},{\"attributes\":{},\"id\":\"1007\",\"type\":\"LinearScale\"},{\"attributes\":{},\"id\":\"1037\",\"type\":\"BasicTicker\"},{\"attributes\":{},\"id\":\"1009\",\"type\":\"LinearScale\"},{\"attributes\":{\"dimension\":1,\"ticker\":{\"id\":\"1037\",\"type\":\"BasicTicker\"}},\"id\":\"1040\",\"type\":\"Grid\"},{\"attributes\":{\"text\":\"\"},\"id\":\"1061\",\"type\":\"Title\"},{\"attributes\":{\"formatter\":{\"id\":\"1065\",\"type\":\"BasicTickFormatter\"},\"ticker\":{\"id\":\"1012\",\"type\":\"BasicTicker\"}},\"id\":\"1011\",\"type\":\"LinearAxis\"},{\"attributes\":{\"active_drag\":\"auto\",\"active_inspect\":\"auto\",\"active_multi\":null,\"active_scroll\":\"auto\",\"active_tap\":\"auto\",\"logo\":null},\"id\":\"1041\",\"type\":\"Toolbar\"},{\"attributes\":{\"text\":\"\"},\"id\":\"1063\",\"type\":\"Title\"},{\"attributes\":{},\"id\":\"1012\",\"type\":\"BasicTicker\"},{\"attributes\":{},\"id\":\"1067\",\"type\":\"BasicTickFormatter\"},{\"attributes\":{\"callback\":null,\"data\":{\"x\":{\"__ndarray__\":\"gRHJLCGSwL+QnXMjGuzFP4gIMYJgMcg/ZHRAoAca5D/gO0scX5XvP5qZmZmZmfE/ZmZmZmZm9j8AAAAAAAAQQDMzMzMzMxFAAAAAAAAAEkDNzMzMzMwSQA==\",\"dtype\":\"float64\",\"shape\":[11]},\"y\":{\"__ndarray__\":\"AAAAAAAAAAAAAAAAAAAAAAAAAAAAAAAAAAAAAAAAAAAAAAAAAAAAAAAAAAAAAPA/AAAAAAAA8D8AAAAAAADwPwAAAAAAAPA/AAAAAAAA8D8AAAAAAADwPw==\",\"dtype\":\"float64\",\"shape\":[11]}},\"selected\":{\"id\":\"1076\",\"type\":\"Selection\"},\"selection_policy\":{\"id\":\"1075\",\"type\":\"UnionRenderers\"}},\"id\":\"1047\",\"type\":\"ColumnDataSource\"},{\"attributes\":{\"ticker\":{\"id\":\"1012\",\"type\":\"BasicTicker\"}},\"id\":\"1015\",\"type\":\"Grid\"},{\"attributes\":{},\"id\":\"1065\",\"type\":\"BasicTickFormatter\"},{\"attributes\":{\"fill_alpha\":{\"value\":0.1},\"fill_color\":{\"value\":\"#1f77b4\"},\"line_alpha\":{\"value\":0.1},\"line_color\":{\"value\":\"#1f77b4\"},\"x\":{\"field\":\"x\"},\"y\":{\"field\":\"y\"}},\"id\":\"1044\",\"type\":\"Circle\"},{\"attributes\":{\"formatter\":{\"id\":\"1067\",\"type\":\"BasicTickFormatter\"},\"ticker\":{\"id\":\"1017\",\"type\":\"BasicTicker\"}},\"id\":\"1016\",\"type\":\"LinearAxis\"},{\"attributes\":{\"data_source\":{\"id\":\"1042\",\"type\":\"ColumnDataSource\"},\"glyph\":{\"id\":\"1043\",\"type\":\"Circle\"},\"hover_glyph\":null,\"muted_glyph\":null,\"nonselection_glyph\":{\"id\":\"1044\",\"type\":\"Circle\"},\"selection_glyph\":null,\"view\":{\"id\":\"1046\",\"type\":\"CDSView\"}},\"id\":\"1045\",\"type\":\"GlyphRenderer\"}],\"root_ids\":[\"1060\"]},\"title\":\"Bokeh Application\",\"version\":\"1.1.0\"}};\n",
       "  var render_items = [{\"docid\":\"ae14df17-a1ce-4d17-af71-7299333e9152\",\"roots\":{\"1060\":\"7d3e82ce-3cd9-48b2-b214-6f5a4b19f1d1\"}}];\n",
       "  root.Bokeh.embed.embed_items_notebook(docs_json, render_items);\n",
       "\n",
       "  }\n",
       "  if (root.Bokeh !== undefined) {\n",
       "    embed_document(root);\n",
       "  } else {\n",
       "    var attempts = 0;\n",
       "    var timer = setInterval(function(root) {\n",
       "      if (root.Bokeh !== undefined) {\n",
       "        embed_document(root);\n",
       "        clearInterval(timer);\n",
       "      }\n",
       "      attempts++;\n",
       "      if (attempts > 100) {\n",
       "        console.log(\"Bokeh: ERROR: Unable to run BokehJS code because BokehJS library is missing\");\n",
       "        clearInterval(timer);\n",
       "      }\n",
       "    }, 10, root)\n",
       "  }\n",
       "})(window);"
      ],
      "application/vnd.bokehjs_exec.v0+json": ""
     },
     "metadata": {
      "application/vnd.bokehjs_exec.v0+json": {
       "id": "1060"
      }
     },
     "output_type": "display_data"
    }
   ],
   "source": [
    "ones = np.ones(x.size)\n",
    "X = np.column_stack((ones, x))\n",
    "w = np.dot(np.linalg.inv(np.dot(X.T, X)), np.dot(X.T, y))\n",
    "y_hat = w[0] + w[1] * x\n",
    "x = x.flatten()\n",
    "y = y.flatten()\n",
    "y_hat = y_hat.flatten()\n",
    "\n",
    "###\n",
    "\n",
    "output_file(\"logit_00.html\")\n",
    "p1 = figure(plot_height = 300, plot_width = 300,\n",
    "            tools = \"\")\n",
    "p2 = figure(plot_height = 300, plot_width = 300,\n",
    "            tools = \"\")\n",
    "p1.circle(x = x, y = y)\n",
    "p2.circle(x = x, y = y)\n",
    "p2.line(x = x, y = y_hat, color = 'red')\n",
    "hline = Span(location=0.5,  dimension='width', line_color='green', \n",
    "             line_dash='dashed', line_width=3)\n",
    "p1.add_layout(hline)\n",
    "p2.add_layout(hline)\n",
    "p1.toolbar.logo = None\n",
    "p2.toolbar.logo = None\n",
    "show(row(p1, p2))\n"
   ]
  },
  {
   "cell_type": "markdown",
   "metadata": {},
   "source": [
    "## Logistic Sigmoid"
   ]
  },
  {
   "cell_type": "code",
   "execution_count": 62,
   "metadata": {},
   "outputs": [
    {
     "data": {
      "text/html": [
       "\n",
       "\n",
       "\n",
       "\n",
       "\n",
       "\n",
       "  <div class=\"bk-root\" id=\"a9850b6d-3588-47eb-9569-de340f23c555\" data-root-id=\"11488\"></div>\n"
      ]
     },
     "metadata": {},
     "output_type": "display_data"
    },
    {
     "data": {
      "application/javascript": [
       "(function(root) {\n",
       "  function embed_document(root) {\n",
       "    \n",
       "  var docs_json = {\"389e11ce-556d-4fd8-a243-5e76d501174d\":{\"roots\":{\"references\":[{\"attributes\":{\"children\":[{\"id\":\"1022\",\"subtype\":\"Figure\",\"type\":\"Plot\"},{\"id\":\"11457\",\"subtype\":\"Figure\",\"type\":\"Plot\"}]},\"id\":\"11488\",\"type\":\"Row\"},{\"attributes\":{},\"id\":\"1069\",\"type\":\"BasicTickFormatter\"},{\"attributes\":{\"callback\":null,\"data\":{\"x\":{\"__ndarray__\":\"gRHJLCGSwL+QnXMjGuzFP4gIMYJgMcg/ZHRAoAca5D/gO0scX5XvP5qZmZmZmfE/ZmZmZmZm9j8AAAAAAAAQQDMzMzMzMxFAAAAAAAAAEkDNzMzMzMwSQA==\",\"dtype\":\"float64\",\"shape\":[11]},\"y\":{\"__ndarray__\":\"AAAAAAAAAAAAAAAAAAAAAAAAAAAAAAAAAAAAAAAAAAAAAAAAAAAAAAAAAAAAAAAAAAAAAAAA8D8AAAAAAADwPwAAAAAAAPA/AAAAAAAA8D8AAAAAAADwPw==\",\"dtype\":\"float64\",\"shape\":[11]}},\"selected\":{\"id\":\"11886\",\"type\":\"Selection\"},\"selection_policy\":{\"id\":\"11885\",\"type\":\"UnionRenderers\"}},\"id\":\"11483\",\"type\":\"ColumnDataSource\"},{\"attributes\":{},\"id\":\"11875\",\"type\":\"BasicTickFormatter\"},{\"attributes\":{\"callback\":null},\"id\":\"11458\",\"type\":\"DataRange1d\"},{\"attributes\":{},\"id\":\"1071\",\"type\":\"BasicTickFormatter\"},{\"attributes\":{},\"id\":\"11472\",\"type\":\"BasicTicker\"},{\"attributes\":{},\"id\":\"11884\",\"type\":\"Selection\"},{\"attributes\":{},\"id\":\"11462\",\"type\":\"LinearScale\"},{\"attributes\":{\"callback\":null,\"data\":{\"x\":{\"__ndarray__\":\"gRHJLCGSwL+QnXMjGuzFP4gIMYJgMcg/ZHRAoAca5D/gO0scX5XvP5qZmZmZmfE/ZmZmZmZm9j8AAAAAAAAQQDMzMzMzMxFAAAAAAAAAEkDNzMzMzMwSQA==\",\"dtype\":\"float64\",\"shape\":[11]},\"y\":{\"__ndarray__\":\"xAdpxUufuD9qm6YSdXzEP5bjlxTo98Q/8VjzIBV00D/b+tT3k1TVP3gwIqrT3dY/PvmJabPx2j+oYjHyTSTvP4aj8ugel/A//ETZiBlF8T9z5r8oFPPxPw==\",\"dtype\":\"float64\",\"shape\":[11]}},\"selected\":{\"id\":\"1078\",\"type\":\"Selection\"},\"selection_policy\":{\"id\":\"1077\",\"type\":\"UnionRenderers\"}},\"id\":\"1052\",\"type\":\"ColumnDataSource\"},{\"attributes\":{\"callback\":null},\"id\":\"1023\",\"type\":\"DataRange1d\"},{\"attributes\":{\"formatter\":{\"id\":\"11877\",\"type\":\"BasicTickFormatter\"},\"ticker\":{\"id\":\"11472\",\"type\":\"BasicTicker\"}},\"id\":\"11471\",\"type\":\"LinearAxis\"},{\"attributes\":{\"fill_color\":{\"value\":\"#1f77b4\"},\"line_color\":{\"value\":\"#1f77b4\"},\"x\":{\"field\":\"x\"},\"y\":{\"field\":\"y\"}},\"id\":\"1048\",\"type\":\"Circle\"},{\"attributes\":{},\"id\":\"11883\",\"type\":\"UnionRenderers\"},{\"attributes\":{\"fill_color\":{\"value\":\"#1f77b4\"},\"line_color\":{\"value\":\"#1f77b4\"},\"x\":{\"field\":\"x\"},\"y\":{\"field\":\"y\"}},\"id\":\"11478\",\"type\":\"Circle\"},{\"attributes\":{\"fill_alpha\":{\"value\":0.1},\"fill_color\":{\"value\":\"#1f77b4\"},\"line_alpha\":{\"value\":0.1},\"line_color\":{\"value\":\"#1f77b4\"},\"x\":{\"field\":\"x\"},\"y\":{\"field\":\"y\"}},\"id\":\"1049\",\"type\":\"Circle\"},{\"attributes\":{},\"id\":\"11885\",\"type\":\"UnionRenderers\"},{\"attributes\":{},\"id\":\"1075\",\"type\":\"UnionRenderers\"},{\"attributes\":{\"data_source\":{\"id\":\"1047\",\"type\":\"ColumnDataSource\"},\"glyph\":{\"id\":\"1048\",\"type\":\"Circle\"},\"hover_glyph\":null,\"muted_glyph\":null,\"nonselection_glyph\":{\"id\":\"1049\",\"type\":\"Circle\"},\"selection_glyph\":null,\"view\":{\"id\":\"1051\",\"type\":\"CDSView\"}},\"id\":\"1050\",\"type\":\"GlyphRenderer\"},{\"attributes\":{\"callback\":null,\"data\":{\"x\":{\"__ndarray__\":\"gRHJLCGSwL+QnXMjGuzFP4gIMYJgMcg/ZHRAoAca5D/gO0scX5XvP5qZmZmZmfE/ZmZmZmZm9j8AAAAAAAAQQDMzMzMzMxFAAAAAAAAAEkDNzMzMzMwSQA==\",\"dtype\":\"float64\",\"shape\":[11]},\"y\":{\"__ndarray__\":\"AAAAAAAAAAAAAAAAAAAAAAAAAAAAAAAAAAAAAAAAAAAAAAAAAAAAAAAAAAAAAPA/AAAAAAAA8D8AAAAAAADwPwAAAAAAAPA/AAAAAAAA8D8AAAAAAADwPw==\",\"dtype\":\"float64\",\"shape\":[11]}},\"selected\":{\"id\":\"11884\",\"type\":\"Selection\"},\"selection_policy\":{\"id\":\"11883\",\"type\":\"UnionRenderers\"}},\"id\":\"11477\",\"type\":\"ColumnDataSource\"},{\"attributes\":{\"active_drag\":\"auto\",\"active_inspect\":\"auto\",\"active_multi\":null,\"active_scroll\":\"auto\",\"active_tap\":\"auto\",\"logo\":null},\"id\":\"11476\",\"type\":\"Toolbar\"},{\"attributes\":{\"callback\":null},\"id\":\"1025\",\"type\":\"DataRange1d\"},{\"attributes\":{},\"id\":\"1076\",\"type\":\"Selection\"},{\"attributes\":{\"source\":{\"id\":\"1047\",\"type\":\"ColumnDataSource\"}},\"id\":\"1051\",\"type\":\"CDSView\"},{\"attributes\":{\"dimension\":1,\"ticker\":{\"id\":\"11472\",\"type\":\"BasicTicker\"}},\"id\":\"11475\",\"type\":\"Grid\"},{\"attributes\":{},\"id\":\"1027\",\"type\":\"LinearScale\"},{\"attributes\":{\"fill_alpha\":{\"value\":0.1},\"fill_color\":{\"value\":\"#1f77b4\"},\"line_alpha\":{\"value\":0.1},\"line_color\":{\"value\":\"#1f77b4\"},\"x\":{\"field\":\"x\"},\"y\":{\"field\":\"y\"}},\"id\":\"11479\",\"type\":\"Circle\"},{\"attributes\":{},\"id\":\"1077\",\"type\":\"UnionRenderers\"},{\"attributes\":{\"line_color\":{\"value\":\"green\"},\"line_dash\":[6],\"line_width\":{\"value\":3},\"location\":0.5},\"id\":\"1057\",\"type\":\"Span\"},{\"attributes\":{},\"id\":\"1029\",\"type\":\"LinearScale\"},{\"attributes\":{},\"id\":\"1078\",\"type\":\"Selection\"},{\"attributes\":{\"line_color\":\"red\",\"x\":{\"field\":\"x\"},\"y\":{\"field\":\"y\"}},\"id\":\"1053\",\"type\":\"Line\"},{\"attributes\":{\"data_source\":{\"id\":\"11477\",\"type\":\"ColumnDataSource\"},\"glyph\":{\"id\":\"11478\",\"type\":\"Circle\"},\"hover_glyph\":null,\"muted_glyph\":null,\"nonselection_glyph\":{\"id\":\"11479\",\"type\":\"Circle\"},\"selection_glyph\":null,\"view\":{\"id\":\"11481\",\"type\":\"CDSView\"}},\"id\":\"11480\",\"type\":\"GlyphRenderer\"},{\"attributes\":{\"formatter\":{\"id\":\"1069\",\"type\":\"BasicTickFormatter\"},\"ticker\":{\"id\":\"1032\",\"type\":\"BasicTicker\"}},\"id\":\"1031\",\"type\":\"LinearAxis\"},{\"attributes\":{\"text\":\"\"},\"id\":\"11869\",\"type\":\"Title\"},{\"attributes\":{\"line_alpha\":0.1,\"line_color\":\"#1f77b4\",\"x\":{\"field\":\"x\"},\"y\":{\"field\":\"y\"}},\"id\":\"1054\",\"type\":\"Line\"},{\"attributes\":{\"below\":[{\"id\":\"1031\",\"type\":\"LinearAxis\"}],\"center\":[{\"id\":\"1035\",\"type\":\"Grid\"},{\"id\":\"1040\",\"type\":\"Grid\"},{\"id\":\"1057\",\"type\":\"Span\"}],\"left\":[{\"id\":\"1036\",\"type\":\"LinearAxis\"}],\"plot_height\":300,\"plot_width\":300,\"renderers\":[{\"id\":\"1050\",\"type\":\"GlyphRenderer\"},{\"id\":\"1055\",\"type\":\"GlyphRenderer\"}],\"title\":{\"id\":\"1063\",\"type\":\"Title\"},\"toolbar\":{\"id\":\"1041\",\"type\":\"Toolbar\"},\"x_range\":{\"id\":\"1023\",\"type\":\"DataRange1d\"},\"x_scale\":{\"id\":\"1027\",\"type\":\"LinearScale\"},\"y_range\":{\"id\":\"1025\",\"type\":\"DataRange1d\"},\"y_scale\":{\"id\":\"1029\",\"type\":\"LinearScale\"}},\"id\":\"1022\",\"subtype\":\"Figure\",\"type\":\"Plot\"},{\"attributes\":{},\"id\":\"1032\",\"type\":\"BasicTicker\"},{\"attributes\":{\"line_alpha\":0.1,\"line_color\":\"#1f77b4\",\"x\":{\"field\":\"x\"},\"y\":{\"field\":\"y\"}},\"id\":\"11485\",\"type\":\"Line\"},{\"attributes\":{\"data_source\":{\"id\":\"1052\",\"type\":\"ColumnDataSource\"},\"glyph\":{\"id\":\"1053\",\"type\":\"Line\"},\"hover_glyph\":null,\"muted_glyph\":null,\"nonselection_glyph\":{\"id\":\"1054\",\"type\":\"Line\"},\"selection_glyph\":null,\"view\":{\"id\":\"1056\",\"type\":\"CDSView\"}},\"id\":\"1055\",\"type\":\"GlyphRenderer\"},{\"attributes\":{},\"id\":\"11464\",\"type\":\"LinearScale\"},{\"attributes\":{\"source\":{\"id\":\"11477\",\"type\":\"ColumnDataSource\"}},\"id\":\"11481\",\"type\":\"CDSView\"},{\"attributes\":{\"ticker\":{\"id\":\"1032\",\"type\":\"BasicTicker\"}},\"id\":\"1035\",\"type\":\"Grid\"},{\"attributes\":{\"data_source\":{\"id\":\"11483\",\"type\":\"ColumnDataSource\"},\"glyph\":{\"id\":\"11484\",\"type\":\"Line\"},\"hover_glyph\":null,\"muted_glyph\":null,\"nonselection_glyph\":{\"id\":\"11485\",\"type\":\"Line\"},\"selection_glyph\":null,\"view\":{\"id\":\"11487\",\"type\":\"CDSView\"}},\"id\":\"11486\",\"type\":\"GlyphRenderer\"},{\"attributes\":{\"source\":{\"id\":\"1052\",\"type\":\"ColumnDataSource\"}},\"id\":\"1056\",\"type\":\"CDSView\"},{\"attributes\":{\"callback\":null},\"id\":\"11460\",\"type\":\"DataRange1d\"},{\"attributes\":{\"formatter\":{\"id\":\"1071\",\"type\":\"BasicTickFormatter\"},\"ticker\":{\"id\":\"1037\",\"type\":\"BasicTicker\"}},\"id\":\"1036\",\"type\":\"LinearAxis\"},{\"attributes\":{\"source\":{\"id\":\"11483\",\"type\":\"ColumnDataSource\"}},\"id\":\"11487\",\"type\":\"CDSView\"},{\"attributes\":{},\"id\":\"1037\",\"type\":\"BasicTicker\"},{\"attributes\":{\"line_color\":\"red\",\"x\":{\"field\":\"x\"},\"y\":{\"field\":\"y\"}},\"id\":\"11484\",\"type\":\"Line\"},{\"attributes\":{\"dimension\":1,\"ticker\":{\"id\":\"1037\",\"type\":\"BasicTicker\"}},\"id\":\"1040\",\"type\":\"Grid\"},{\"attributes\":{\"active_drag\":\"auto\",\"active_inspect\":\"auto\",\"active_multi\":null,\"active_scroll\":\"auto\",\"active_tap\":\"auto\",\"logo\":null},\"id\":\"1041\",\"type\":\"Toolbar\"},{\"attributes\":{},\"id\":\"11886\",\"type\":\"Selection\"},{\"attributes\":{\"text\":\"\"},\"id\":\"1063\",\"type\":\"Title\"},{\"attributes\":{\"ticker\":{\"id\":\"11467\",\"type\":\"BasicTicker\"}},\"id\":\"11470\",\"type\":\"Grid\"},{\"attributes\":{\"callback\":null,\"data\":{\"x\":{\"__ndarray__\":\"gRHJLCGSwL+QnXMjGuzFP4gIMYJgMcg/ZHRAoAca5D/gO0scX5XvP5qZmZmZmfE/ZmZmZmZm9j8AAAAAAAAQQDMzMzMzMxFAAAAAAAAAEkDNzMzMzMwSQA==\",\"dtype\":\"float64\",\"shape\":[11]},\"y\":{\"__ndarray__\":\"AAAAAAAAAAAAAAAAAAAAAAAAAAAAAAAAAAAAAAAAAAAAAAAAAAAAAAAAAAAAAPA/AAAAAAAA8D8AAAAAAADwPwAAAAAAAPA/AAAAAAAA8D8AAAAAAADwPw==\",\"dtype\":\"float64\",\"shape\":[11]}},\"selected\":{\"id\":\"1076\",\"type\":\"Selection\"},\"selection_policy\":{\"id\":\"1075\",\"type\":\"UnionRenderers\"}},\"id\":\"1047\",\"type\":\"ColumnDataSource\"},{\"attributes\":{\"below\":[{\"id\":\"11466\",\"type\":\"LinearAxis\"}],\"center\":[{\"id\":\"11470\",\"type\":\"Grid\"},{\"id\":\"11475\",\"type\":\"Grid\"},{\"id\":\"1057\",\"type\":\"Span\"}],\"left\":[{\"id\":\"11471\",\"type\":\"LinearAxis\"}],\"plot_height\":300,\"plot_width\":300,\"renderers\":[{\"id\":\"11480\",\"type\":\"GlyphRenderer\"},{\"id\":\"11486\",\"type\":\"GlyphRenderer\"}],\"title\":{\"id\":\"11869\",\"type\":\"Title\"},\"toolbar\":{\"id\":\"11476\",\"type\":\"Toolbar\"},\"x_range\":{\"id\":\"11458\",\"type\":\"DataRange1d\"},\"x_scale\":{\"id\":\"11462\",\"type\":\"LinearScale\"},\"y_range\":{\"id\":\"11460\",\"type\":\"DataRange1d\"},\"y_scale\":{\"id\":\"11464\",\"type\":\"LinearScale\"}},\"id\":\"11457\",\"subtype\":\"Figure\",\"type\":\"Plot\"},{\"attributes\":{},\"id\":\"11467\",\"type\":\"BasicTicker\"},{\"attributes\":{\"formatter\":{\"id\":\"11875\",\"type\":\"BasicTickFormatter\"},\"ticker\":{\"id\":\"11467\",\"type\":\"BasicTicker\"}},\"id\":\"11466\",\"type\":\"LinearAxis\"},{\"attributes\":{},\"id\":\"11877\",\"type\":\"BasicTickFormatter\"}],\"root_ids\":[\"11488\"]},\"title\":\"Bokeh Application\",\"version\":\"1.1.0\"}};\n",
       "  var render_items = [{\"docid\":\"389e11ce-556d-4fd8-a243-5e76d501174d\",\"roots\":{\"11488\":\"a9850b6d-3588-47eb-9569-de340f23c555\"}}];\n",
       "  root.Bokeh.embed.embed_items_notebook(docs_json, render_items);\n",
       "\n",
       "  }\n",
       "  if (root.Bokeh !== undefined) {\n",
       "    embed_document(root);\n",
       "  } else {\n",
       "    var attempts = 0;\n",
       "    var timer = setInterval(function(root) {\n",
       "      if (root.Bokeh !== undefined) {\n",
       "        embed_document(root);\n",
       "        clearInterval(timer);\n",
       "      }\n",
       "      attempts++;\n",
       "      if (attempts > 100) {\n",
       "        console.log(\"Bokeh: ERROR: Unable to run BokehJS code because BokehJS library is missing\");\n",
       "        clearInterval(timer);\n",
       "      }\n",
       "    }, 10, root)\n",
       "  }\n",
       "})(window);"
      ],
      "application/vnd.bokehjs_exec.v0+json": ""
     },
     "metadata": {
      "application/vnd.bokehjs_exec.v0+json": {
       "id": "11488"
      }
     },
     "output_type": "display_data"
    }
   ],
   "source": [
    "from sklearn.linear_model import LogisticRegression\n",
    "clf = LogisticRegression(solver='lbfgs')\n",
    "clf.fit(X, y)\n",
    "y_new = clf.predict(X)\n",
    "\n",
    "\n",
    "output_file(\"logit_01.html\")\n",
    "p3 = figure(plot_height = 300, plot_width = 300,\n",
    "            tools = \"\")\n",
    "p3.circle(x = x, y = y)\n",
    "p3.toolbar.logo = None\n",
    "p3.add_layout(hline)\n",
    "p3.line(x = x, y = y_new, color = \"red\")\n",
    "show(row(p2, p3))"
   ]
  },
  {
   "cell_type": "markdown",
   "metadata": {},
   "source": [
    "## Least Squares Cost Function"
   ]
  },
  {
   "cell_type": "code",
   "execution_count": 4,
   "metadata": {},
   "outputs": [],
   "source": [
    "def sigmoid(t):\n",
    "    return 1/(1 + np.exp(-t))\n",
    "def sigmoid_least_squares(w_0, w_1):\n",
    "    cost = 0\n",
    "    for i in range(y.size):\n",
    "        cost += (sigmoid(w_0 + w_1* x[i])- y[i])**2\n",
    "    return cost/y.size"
   ]
  },
  {
   "cell_type": "code",
   "execution_count": 84,
   "metadata": {},
   "outputs": [
    {
     "ename": "NameError",
     "evalue": "name 'sigmoid_least_squares' is not defined",
     "output_type": "error",
     "traceback": [
      "\u001b[0;31m---------------------------------------------------------------------------\u001b[0m",
      "\u001b[0;31mNameError\u001b[0m                                 Traceback (most recent call last)",
      "\u001b[0;32m<ipython-input-84-747b2a015295>\u001b[0m in \u001b[0;36m<module>\u001b[0;34m()\u001b[0m\n\u001b[1;32m      2\u001b[0m \u001b[0mw_1\u001b[0m \u001b[0;34m=\u001b[0m \u001b[0mnp\u001b[0m\u001b[0;34m.\u001b[0m\u001b[0mlinspace\u001b[0m\u001b[0;34m(\u001b[0m\u001b[0;34m-\u001b[0m\u001b[0;36m20\u001b[0m\u001b[0;34m,\u001b[0m \u001b[0;36m20\u001b[0m\u001b[0;34m,\u001b[0m \u001b[0;36m90\u001b[0m\u001b[0;34m)\u001b[0m\u001b[0;34m\u001b[0m\u001b[0;34m\u001b[0m\u001b[0m\n\u001b[1;32m      3\u001b[0m \u001b[0mw0\u001b[0m\u001b[0;34m,\u001b[0m \u001b[0mw1\u001b[0m \u001b[0;34m=\u001b[0m \u001b[0mnp\u001b[0m\u001b[0;34m.\u001b[0m\u001b[0mmeshgrid\u001b[0m\u001b[0;34m(\u001b[0m\u001b[0mw_0\u001b[0m\u001b[0;34m,\u001b[0m \u001b[0mw_1\u001b[0m\u001b[0;34m)\u001b[0m\u001b[0;34m\u001b[0m\u001b[0;34m\u001b[0m\u001b[0m\n\u001b[0;32m----> 4\u001b[0;31m \u001b[0mcost\u001b[0m \u001b[0;34m=\u001b[0m \u001b[0msigmoid_least_squares\u001b[0m\u001b[0;34m(\u001b[0m\u001b[0mw0\u001b[0m\u001b[0;34m,\u001b[0m \u001b[0mw1\u001b[0m\u001b[0;34m)\u001b[0m\u001b[0;34m\u001b[0m\u001b[0;34m\u001b[0m\u001b[0m\n\u001b[0m",
      "\u001b[0;31mNameError\u001b[0m: name 'sigmoid_least_squares' is not defined"
     ]
    }
   ],
   "source": [
    "w_0 = np.linspace(-20, 20, 90)\n",
    "w_1 = np.linspace(-20, 20, 90)\n",
    "w0, w1 = np.meshgrid(w_0, w_1)\n",
    "cost = sigmoid_least_squares(w0, w1)"
   ]
  },
  {
   "cell_type": "code",
   "execution_count": 173,
   "metadata": {},
   "outputs": [],
   "source": [
    "from mpl_toolkits import mplot3d\n",
    "import pylab as p\n",
    "import mpl_toolkits.mplot3d.axes3d as p3\n",
    "%matplotlib widget\n",
    "# %matplotlib inline\n",
    "import numpy as np\n",
    "import matplotlib.pyplot as plt\n"
   ]
  },
  {
   "cell_type": "code",
   "execution_count": 174,
   "metadata": {},
   "outputs": [
    {
     "data": {
      "application/vnd.jupyter.widget-view+json": {
       "model_id": "c3892528f2da4d8aa13932b1a59e5c99",
       "version_major": 2,
       "version_minor": 0
      },
      "text/plain": [
       "FigureCanvasNbAgg()"
      ]
     },
     "metadata": {},
     "output_type": "display_data"
    },
    {
     "name": "stderr",
     "output_type": "stream",
     "text": [
      "/Users/lin_deng/anaconda3/lib/python3.6/site-packages/matplotlib/figure.py:98: MatplotlibDeprecationWarning: \n",
      "Adding an axes using the same arguments as a previous axes currently reuses the earlier instance.  In a future version, a new instance will always be created and returned.  Meanwhile, this warning can be suppressed, and the future behavior ensured, by passing a unique label to each axes instance.\n",
      "  \"Adding an axes using the same arguments as a previous axes \"\n"
     ]
    }
   ],
   "source": [
    "fig = plt.figure()\n",
    "ax = p3.Axes3D(fig)\n",
    "\n",
    "\n",
    "ax.plot_surface(w0,w1,cost, cmap='binary')\n",
    "#     ax.contourf3D(w0,w1,cost)\n",
    "ax.set_xlabel('w_0')\n",
    "ax.set_ylabel('w_1')\n",
    "ax.set_zlabel('cost');\n",
    "\n",
    "ax.view_init(30, 121)\n",
    "fig.add_axes(ax)\n",
    "p.show()"
   ]
  },
  {
   "cell_type": "code",
   "execution_count": 29,
   "metadata": {},
   "outputs": [
    {
     "data": {
      "application/vnd.jupyter.widget-view+json": {
       "model_id": "",
       "version_major": 2,
       "version_minor": 0
      },
      "text/plain": [
       "FigureCanvasNbAgg()"
      ]
     },
     "metadata": {},
     "output_type": "display_data"
    },
    {
     "name": "stderr",
     "output_type": "stream",
     "text": [
      "/Users/lin_deng/anaconda3/lib/python3.6/site-packages/matplotlib/figure.py:98: MatplotlibDeprecationWarning: \n",
      "Adding an axes using the same arguments as a previous axes currently reuses the earlier instance.  In a future version, a new instance will always be created and returned.  Meanwhile, this warning can be suppressed, and the future behavior ensured, by passing a unique label to each axes instance.\n",
      "  \"Adding an axes using the same arguments as a previous axes \"\n"
     ]
    }
   ],
   "source": [
    "# fig = plt.figure()\n",
    "# ax = p3.Axes3D(fig)\n",
    "\n",
    "# for i in range(20, 180, 2):\n",
    "#     ax.plot_surface(w0,w1,cost, cmap='binary')\n",
    "#     # ax.contourf3D(w0,w1,cost)\n",
    "#     ax.set_xlabel('w_0')\n",
    "#     ax.set_ylabel('w_1')\n",
    "#     ax.set_zlabel('cost');\n",
    "\n",
    "#     ax.view_init(30, i)\n",
    "#     fig.add_axes(ax)\n",
    "#     filename='GIF/step'+str(i)+'.png'\n",
    "#     plt.savefig(filename, dpi=96)\n",
    "# #     p.show()"
   ]
  },
  {
   "cell_type": "code",
   "execution_count": 35,
   "metadata": {},
   "outputs": [
    {
     "data": {
      "text/html": [
       "\n",
       "        <iframe\n",
       "            width=\"600\"\n",
       "            height=\"500\"\n",
       "            src=\"GIF/LS_gif.gif\"\n",
       "            frameborder=\"0\"\n",
       "            allowfullscreen\n",
       "        ></iframe>\n",
       "        "
      ],
      "text/plain": [
       "<IPython.lib.display.IFrame at 0x1a30c7b6a0>"
      ]
     },
     "execution_count": 35,
     "metadata": {},
     "output_type": "execute_result"
    }
   ],
   "source": [
    "from IPython.display import IFrame\n",
    "IFrame('GIF/LS_gif.gif', width=600, height=500)"
   ]
  },
  {
   "cell_type": "markdown",
   "metadata": {},
   "source": [
    "### Least Squares"
   ]
  },
  {
   "cell_type": "code",
   "execution_count": 75,
   "metadata": {},
   "outputs": [],
   "source": [
    "def sigmoid(t):\n",
    "    return 1/(1 + np.exp(-t))\n",
    "\n",
    "def gradient(t, y):\n",
    "    outcome = (sigmoid(t)**2 - sigmoid(t)**3 - y*sigmoid(t) + y*sigmoid(t)**2)*t\n",
    "    return 2 * outcome"
   ]
  },
  {
   "cell_type": "code",
   "execution_count": 82,
   "metadata": {},
   "outputs": [
    {
     "name": "stdout",
     "output_type": "stream",
     "text": [
      "iter = 20000 | w = [-19.99634777  20.00365223] | gradient = 0.0\n"
     ]
    }
   ],
   "source": [
    "alpha = 0.0001\n",
    "g = 0\n",
    "w = np.array([-20, 20])\n",
    "iteration = 0\n",
    "for t in range(20000):\n",
    "    for i in range(x.size):\n",
    "        grad = gradient((np.dot(w.T, X[i])), y[i])\n",
    "        g += grad\n",
    "#         print(\"gradient = {} | g = {}\".format(grad, g))\n",
    "#     if abs(grad) <= 0.001:\n",
    "#         break\n",
    "        \n",
    "    w = w - alpha * g\n",
    "#     print(\"iter = {0} | w = {1} | gradient = {2}\".format(iteration, w, grad))\n",
    "    iteration += 1\n",
    "    \n",
    "print(\"iter = {0} | w = {1} | gradient = {2}\".format(iteration, w, grad))\n",
    "   "
   ]
  },
  {
   "cell_type": "code",
   "execution_count": 88,
   "metadata": {},
   "outputs": [
    {
     "data": {
      "text/html": [
       "\n",
       "\n",
       "\n",
       "\n",
       "\n",
       "\n",
       "  <div class=\"bk-root\" id=\"4ebb284c-919a-4e18-bbac-07171742db79\" data-root-id=\"23822\"></div>\n"
      ]
     },
     "metadata": {},
     "output_type": "display_data"
    },
    {
     "data": {
      "application/javascript": [
       "(function(root) {\n",
       "  function embed_document(root) {\n",
       "    \n",
       "  var docs_json = {\"1945276b-266c-44da-957a-d9fc0e168868\":{\"roots\":{\"references\":[{\"attributes\":{\"children\":[{\"id\":\"11457\",\"subtype\":\"Figure\",\"type\":\"Plot\"},{\"id\":\"23791\",\"subtype\":\"Figure\",\"type\":\"Plot\"}]},\"id\":\"23822\",\"type\":\"Row\"},{\"attributes\":{\"fill_color\":{\"value\":\"#1f77b4\"},\"line_color\":{\"value\":\"#1f77b4\"},\"x\":{\"field\":\"x\"},\"y\":{\"field\":\"y\"}},\"id\":\"23812\",\"type\":\"Circle\"},{\"attributes\":{\"active_drag\":\"auto\",\"active_inspect\":\"auto\",\"active_multi\":null,\"active_scroll\":\"auto\",\"active_tap\":\"auto\",\"logo\":null},\"id\":\"23810\",\"type\":\"Toolbar\"},{\"attributes\":{\"callback\":null,\"data\":{\"x\":{\"__ndarray__\":\"gRHJLCGSwL+QnXMjGuzFP4gIMYJgMcg/ZHRAoAca5D/gO0scX5XvP5qZmZmZmfE/ZmZmZmZm9j8AAAAAAAAQQDMzMzMzMxFAAAAAAAAAEkDNzMzMzMwSQA==\",\"dtype\":\"float64\",\"shape\":[11]},\"y\":{\"__ndarray__\":\"AAAAAAAAAAAAAAAAAAAAAAAAAAAAAAAAAAAAAAAAAAAAAAAAAAAAAAAAAAAAAAAAAAAAAAAA8D8AAAAAAADwPwAAAAAAAPA/AAAAAAAA8D8AAAAAAADwPw==\",\"dtype\":\"float64\",\"shape\":[11]}},\"selected\":{\"id\":\"11886\",\"type\":\"Selection\"},\"selection_policy\":{\"id\":\"11885\",\"type\":\"UnionRenderers\"}},\"id\":\"11483\",\"type\":\"ColumnDataSource\"},{\"attributes\":{},\"id\":\"11875\",\"type\":\"BasicTickFormatter\"},{\"attributes\":{\"callback\":null},\"id\":\"11458\",\"type\":\"DataRange1d\"},{\"attributes\":{},\"id\":\"11472\",\"type\":\"BasicTicker\"},{\"attributes\":{\"callback\":null},\"id\":\"23792\",\"type\":\"DataRange1d\"},{\"attributes\":{},\"id\":\"11884\",\"type\":\"Selection\"},{\"attributes\":{},\"id\":\"11462\",\"type\":\"LinearScale\"},{\"attributes\":{\"text\":\"\"},\"id\":\"24483\",\"type\":\"Title\"},{\"attributes\":{\"formatter\":{\"id\":\"11877\",\"type\":\"BasicTickFormatter\"},\"ticker\":{\"id\":\"11472\",\"type\":\"BasicTicker\"}},\"id\":\"11471\",\"type\":\"LinearAxis\"},{\"attributes\":{\"source\":{\"id\":\"23811\",\"type\":\"ColumnDataSource\"}},\"id\":\"23815\",\"type\":\"CDSView\"},{\"attributes\":{},\"id\":\"11883\",\"type\":\"UnionRenderers\"},{\"attributes\":{\"fill_color\":{\"value\":\"#1f77b4\"},\"line_color\":{\"value\":\"#1f77b4\"},\"x\":{\"field\":\"x\"},\"y\":{\"field\":\"y\"}},\"id\":\"11478\",\"type\":\"Circle\"},{\"attributes\":{},\"id\":\"24500\",\"type\":\"Selection\"},{\"attributes\":{},\"id\":\"11885\",\"type\":\"UnionRenderers\"},{\"attributes\":{\"data_source\":{\"id\":\"23817\",\"type\":\"ColumnDataSource\"},\"glyph\":{\"id\":\"23818\",\"type\":\"Line\"},\"hover_glyph\":null,\"muted_glyph\":null,\"nonselection_glyph\":{\"id\":\"23819\",\"type\":\"Line\"},\"selection_glyph\":null,\"view\":{\"id\":\"23821\",\"type\":\"CDSView\"}},\"id\":\"23820\",\"type\":\"GlyphRenderer\"},{\"attributes\":{\"callback\":null,\"data\":{\"x\":{\"__ndarray__\":\"gRHJLCGSwL+QnXMjGuzFP4gIMYJgMcg/ZHRAoAca5D/gO0scX5XvP5qZmZmZmfE/ZmZmZmZm9j8AAAAAAAAQQDMzMzMzMxFAAAAAAAAAEkDNzMzMzMwSQA==\",\"dtype\":\"float64\",\"shape\":[11]},\"y\":{\"__ndarray__\":\"AAAAAAAAAAAAAAAAAAAAAAAAAAAAAAAAAAAAAAAAAAAAAAAAAAAAAAAAAAAAAPA/AAAAAAAA8D8AAAAAAADwPwAAAAAAAPA/AAAAAAAA8D8AAAAAAADwPw==\",\"dtype\":\"float64\",\"shape\":[11]}},\"selected\":{\"id\":\"11884\",\"type\":\"Selection\"},\"selection_policy\":{\"id\":\"11883\",\"type\":\"UnionRenderers\"}},\"id\":\"11477\",\"type\":\"ColumnDataSource\"},{\"attributes\":{\"active_drag\":\"auto\",\"active_inspect\":\"auto\",\"active_multi\":null,\"active_scroll\":\"auto\",\"active_tap\":\"auto\",\"logo\":null},\"id\":\"11476\",\"type\":\"Toolbar\"},{\"attributes\":{},\"id\":\"23798\",\"type\":\"LinearScale\"},{\"attributes\":{\"source\":{\"id\":\"23817\",\"type\":\"ColumnDataSource\"}},\"id\":\"23821\",\"type\":\"CDSView\"},{\"attributes\":{},\"id\":\"24497\",\"type\":\"UnionRenderers\"},{\"attributes\":{\"formatter\":{\"id\":\"24491\",\"type\":\"BasicTickFormatter\"},\"ticker\":{\"id\":\"23806\",\"type\":\"BasicTicker\"}},\"id\":\"23805\",\"type\":\"LinearAxis\"},{\"attributes\":{\"dimension\":1,\"ticker\":{\"id\":\"11472\",\"type\":\"BasicTicker\"}},\"id\":\"11475\",\"type\":\"Grid\"},{\"attributes\":{\"callback\":null,\"data\":{\"x\":{\"__ndarray__\":\"gRHJLCGSwL+QnXMjGuzFP4gIMYJgMcg/ZHRAoAca5D/gO0scX5XvP5qZmZmZmfE/ZmZmZmZm9j8AAAAAAAAQQDMzMzMzMxFAAAAAAAAAEkDNzMzMzMwSQA==\",\"dtype\":\"float64\",\"shape\":[11]},\"y\":{\"__ndarray__\":\"eyeVdjpW5T2LnF1RzhNxPtgurKUHWng+2iih4o9qQz+kW6e27/jbPx3LsTERNuw/ZQP22kb97z8AAAAAAADwPwAAAAAAAPA/AAAAAAAA8D8AAAAAAADwPw==\",\"dtype\":\"float64\",\"shape\":[11]}},\"selected\":{\"id\":\"24500\",\"type\":\"Selection\"},\"selection_policy\":{\"id\":\"24499\",\"type\":\"UnionRenderers\"}},\"id\":\"23817\",\"type\":\"ColumnDataSource\"},{\"attributes\":{},\"id\":\"23796\",\"type\":\"LinearScale\"},{\"attributes\":{\"fill_alpha\":{\"value\":0.1},\"fill_color\":{\"value\":\"#1f77b4\"},\"line_alpha\":{\"value\":0.1},\"line_color\":{\"value\":\"#1f77b4\"},\"x\":{\"field\":\"x\"},\"y\":{\"field\":\"y\"}},\"id\":\"11479\",\"type\":\"Circle\"},{\"attributes\":{\"line_color\":{\"value\":\"green\"},\"line_dash\":[6],\"line_width\":{\"value\":3},\"location\":0.5},\"id\":\"1057\",\"type\":\"Span\"},{\"attributes\":{\"ticker\":{\"id\":\"23801\",\"type\":\"BasicTicker\"}},\"id\":\"23804\",\"type\":\"Grid\"},{\"attributes\":{},\"id\":\"23801\",\"type\":\"BasicTicker\"},{\"attributes\":{\"data_source\":{\"id\":\"11477\",\"type\":\"ColumnDataSource\"},\"glyph\":{\"id\":\"11478\",\"type\":\"Circle\"},\"hover_glyph\":null,\"muted_glyph\":null,\"nonselection_glyph\":{\"id\":\"11479\",\"type\":\"Circle\"},\"selection_glyph\":null,\"view\":{\"id\":\"11481\",\"type\":\"CDSView\"}},\"id\":\"11480\",\"type\":\"GlyphRenderer\"},{\"attributes\":{\"text\":\"\"},\"id\":\"11869\",\"type\":\"Title\"},{\"attributes\":{},\"id\":\"24491\",\"type\":\"BasicTickFormatter\"},{\"attributes\":{\"callback\":null,\"data\":{\"x\":{\"__ndarray__\":\"gRHJLCGSwL+QnXMjGuzFP4gIMYJgMcg/ZHRAoAca5D/gO0scX5XvP5qZmZmZmfE/ZmZmZmZm9j8AAAAAAAAQQDMzMzMzMxFAAAAAAAAAEkDNzMzMzMwSQA==\",\"dtype\":\"float64\",\"shape\":[11]},\"y\":{\"__ndarray__\":\"AAAAAAAAAAAAAAAAAAAAAAAAAAAAAAAAAAAAAAAAAAAAAAAAAAAAAAAAAAAAAPA/AAAAAAAA8D8AAAAAAADwPwAAAAAAAPA/AAAAAAAA8D8AAAAAAADwPw==\",\"dtype\":\"float64\",\"shape\":[11]}},\"selected\":{\"id\":\"24498\",\"type\":\"Selection\"},\"selection_policy\":{\"id\":\"24497\",\"type\":\"UnionRenderers\"}},\"id\":\"23811\",\"type\":\"ColumnDataSource\"},{\"attributes\":{\"line_color\":\"red\",\"x\":{\"field\":\"x\"},\"y\":{\"field\":\"y\"}},\"id\":\"23818\",\"type\":\"Line\"},{\"attributes\":{\"line_alpha\":0.1,\"line_color\":\"#1f77b4\",\"x\":{\"field\":\"x\"},\"y\":{\"field\":\"y\"}},\"id\":\"11485\",\"type\":\"Line\"},{\"attributes\":{},\"id\":\"24499\",\"type\":\"UnionRenderers\"},{\"attributes\":{},\"id\":\"11464\",\"type\":\"LinearScale\"},{\"attributes\":{\"source\":{\"id\":\"11477\",\"type\":\"ColumnDataSource\"}},\"id\":\"11481\",\"type\":\"CDSView\"},{\"attributes\":{\"line_alpha\":0.1,\"line_color\":\"#1f77b4\",\"x\":{\"field\":\"x\"},\"y\":{\"field\":\"y\"}},\"id\":\"23819\",\"type\":\"Line\"},{\"attributes\":{\"data_source\":{\"id\":\"11483\",\"type\":\"ColumnDataSource\"},\"glyph\":{\"id\":\"11484\",\"type\":\"Line\"},\"hover_glyph\":null,\"muted_glyph\":null,\"nonselection_glyph\":{\"id\":\"11485\",\"type\":\"Line\"},\"selection_glyph\":null,\"view\":{\"id\":\"11487\",\"type\":\"CDSView\"}},\"id\":\"11486\",\"type\":\"GlyphRenderer\"},{\"attributes\":{\"callback\":null},\"id\":\"11460\",\"type\":\"DataRange1d\"},{\"attributes\":{},\"id\":\"24489\",\"type\":\"BasicTickFormatter\"},{\"attributes\":{\"source\":{\"id\":\"11483\",\"type\":\"ColumnDataSource\"}},\"id\":\"11487\",\"type\":\"CDSView\"},{\"attributes\":{\"line_color\":\"red\",\"x\":{\"field\":\"x\"},\"y\":{\"field\":\"y\"}},\"id\":\"11484\",\"type\":\"Line\"},{\"attributes\":{},\"id\":\"23806\",\"type\":\"BasicTicker\"},{\"attributes\":{},\"id\":\"24498\",\"type\":\"Selection\"},{\"attributes\":{},\"id\":\"11886\",\"type\":\"Selection\"},{\"attributes\":{\"ticker\":{\"id\":\"11467\",\"type\":\"BasicTicker\"}},\"id\":\"11470\",\"type\":\"Grid\"},{\"attributes\":{\"fill_alpha\":{\"value\":0.1},\"fill_color\":{\"value\":\"#1f77b4\"},\"line_alpha\":{\"value\":0.1},\"line_color\":{\"value\":\"#1f77b4\"},\"x\":{\"field\":\"x\"},\"y\":{\"field\":\"y\"}},\"id\":\"23813\",\"type\":\"Circle\"},{\"attributes\":{\"below\":[{\"id\":\"11466\",\"type\":\"LinearAxis\"}],\"center\":[{\"id\":\"11470\",\"type\":\"Grid\"},{\"id\":\"11475\",\"type\":\"Grid\"},{\"id\":\"1057\",\"type\":\"Span\"}],\"left\":[{\"id\":\"11471\",\"type\":\"LinearAxis\"}],\"plot_height\":300,\"plot_width\":300,\"renderers\":[{\"id\":\"11480\",\"type\":\"GlyphRenderer\"},{\"id\":\"11486\",\"type\":\"GlyphRenderer\"}],\"title\":{\"id\":\"11869\",\"type\":\"Title\"},\"toolbar\":{\"id\":\"11476\",\"type\":\"Toolbar\"},\"x_range\":{\"id\":\"11458\",\"type\":\"DataRange1d\"},\"x_scale\":{\"id\":\"11462\",\"type\":\"LinearScale\"},\"y_range\":{\"id\":\"11460\",\"type\":\"DataRange1d\"},\"y_scale\":{\"id\":\"11464\",\"type\":\"LinearScale\"}},\"id\":\"11457\",\"subtype\":\"Figure\",\"type\":\"Plot\"},{\"attributes\":{},\"id\":\"11467\",\"type\":\"BasicTicker\"},{\"attributes\":{\"formatter\":{\"id\":\"24489\",\"type\":\"BasicTickFormatter\"},\"ticker\":{\"id\":\"23801\",\"type\":\"BasicTicker\"}},\"id\":\"23800\",\"type\":\"LinearAxis\"},{\"attributes\":{\"formatter\":{\"id\":\"11875\",\"type\":\"BasicTickFormatter\"},\"ticker\":{\"id\":\"11467\",\"type\":\"BasicTicker\"}},\"id\":\"11466\",\"type\":\"LinearAxis\"},{\"attributes\":{\"dimension\":1,\"ticker\":{\"id\":\"23806\",\"type\":\"BasicTicker\"}},\"id\":\"23809\",\"type\":\"Grid\"},{\"attributes\":{\"below\":[{\"id\":\"23800\",\"type\":\"LinearAxis\"}],\"center\":[{\"id\":\"23804\",\"type\":\"Grid\"},{\"id\":\"23809\",\"type\":\"Grid\"},{\"id\":\"1057\",\"type\":\"Span\"}],\"left\":[{\"id\":\"23805\",\"type\":\"LinearAxis\"}],\"plot_height\":300,\"plot_width\":300,\"renderers\":[{\"id\":\"23814\",\"type\":\"GlyphRenderer\"},{\"id\":\"23820\",\"type\":\"GlyphRenderer\"}],\"title\":{\"id\":\"24483\",\"type\":\"Title\"},\"toolbar\":{\"id\":\"23810\",\"type\":\"Toolbar\"},\"x_range\":{\"id\":\"23792\",\"type\":\"DataRange1d\"},\"x_scale\":{\"id\":\"23796\",\"type\":\"LinearScale\"},\"y_range\":{\"id\":\"23794\",\"type\":\"DataRange1d\"},\"y_scale\":{\"id\":\"23798\",\"type\":\"LinearScale\"}},\"id\":\"23791\",\"subtype\":\"Figure\",\"type\":\"Plot\"},{\"attributes\":{},\"id\":\"11877\",\"type\":\"BasicTickFormatter\"},{\"attributes\":{\"callback\":null},\"id\":\"23794\",\"type\":\"DataRange1d\"},{\"attributes\":{\"data_source\":{\"id\":\"23811\",\"type\":\"ColumnDataSource\"},\"glyph\":{\"id\":\"23812\",\"type\":\"Circle\"},\"hover_glyph\":null,\"muted_glyph\":null,\"nonselection_glyph\":{\"id\":\"23813\",\"type\":\"Circle\"},\"selection_glyph\":null,\"view\":{\"id\":\"23815\",\"type\":\"CDSView\"}},\"id\":\"23814\",\"type\":\"GlyphRenderer\"}],\"root_ids\":[\"23822\"]},\"title\":\"Bokeh Application\",\"version\":\"1.1.0\"}};\n",
       "  var render_items = [{\"docid\":\"1945276b-266c-44da-957a-d9fc0e168868\",\"roots\":{\"23822\":\"4ebb284c-919a-4e18-bbac-07171742db79\"}}];\n",
       "  root.Bokeh.embed.embed_items_notebook(docs_json, render_items);\n",
       "\n",
       "  }\n",
       "  if (root.Bokeh !== undefined) {\n",
       "    embed_document(root);\n",
       "  } else {\n",
       "    var attempts = 0;\n",
       "    var timer = setInterval(function(root) {\n",
       "      if (root.Bokeh !== undefined) {\n",
       "        embed_document(root);\n",
       "        clearInterval(timer);\n",
       "      }\n",
       "      attempts++;\n",
       "      if (attempts > 100) {\n",
       "        console.log(\"Bokeh: ERROR: Unable to run BokehJS code because BokehJS library is missing\");\n",
       "        clearInterval(timer);\n",
       "      }\n",
       "    }, 10, root)\n",
       "  }\n",
       "})(window);"
      ],
      "application/vnd.bokehjs_exec.v0+json": ""
     },
     "metadata": {
      "application/vnd.bokehjs_exec.v0+json": {
       "id": "23822"
      }
     },
     "output_type": "display_data"
    }
   ],
   "source": [
    "output_file(\"logit_03.html\")\n",
    "p4 = figure(plot_height = 300, plot_width = 300,\n",
    "            tools = \"\")\n",
    "p4.circle(x = x, y = y)\n",
    "p4.toolbar.logo = None\n",
    "p4.add_layout(hline)\n",
    "y2 = sigmoid(np.dot(w.T, X.T))\n",
    "y3 = np.where(y2 > 0.5, 1, 0)\n",
    "p4.line(x = x, y = y2.flatten(), color = \"red\")\n",
    "show(row(p3, p4))"
   ]
  },
  {
   "cell_type": "markdown",
   "metadata": {},
   "source": [
    "## Cross Entropy (Penalty) Cost Function"
   ]
  },
  {
   "cell_type": "code",
   "execution_count": 5,
   "metadata": {},
   "outputs": [],
   "source": [
    "input_x = np.linspace(0.001, 1, 100)\n",
    "output_y = -np.log(sigmoid(input_x))\n",
    "output_y1 = -np.log(sigmoid(1 - input_x))"
   ]
  },
  {
   "cell_type": "code",
   "execution_count": 6,
   "metadata": {},
   "outputs": [
    {
     "data": {
      "text/html": [
       "\n",
       "\n",
       "\n",
       "\n",
       "\n",
       "\n",
       "  <div class=\"bk-root\" id=\"bfb5e6b9-a059-4a9f-811e-057cb326e08a\" data-root-id=\"1081\"></div>\n"
      ]
     },
     "metadata": {},
     "output_type": "display_data"
    },
    {
     "data": {
      "application/javascript": [
       "(function(root) {\n",
       "  function embed_document(root) {\n",
       "    \n",
       "  var docs_json = {\"434f8180-cfe8-413a-89c5-90d86e35d3d7\":{\"roots\":{\"references\":[{\"attributes\":{\"children\":[{\"id\":\"1025\",\"subtype\":\"Figure\",\"type\":\"Plot\"},{\"id\":\"1053\",\"subtype\":\"Figure\",\"type\":\"Plot\"}]},\"id\":\"1081\",\"type\":\"Row\"},{\"attributes\":{\"callback\":null},\"id\":\"1028\",\"type\":\"DataRange1d\"},{\"attributes\":{},\"id\":\"1085\",\"type\":\"BasicTickFormatter\"},{\"attributes\":{\"text\":\"y = 0\"},\"id\":\"1054\",\"type\":\"Title\"},{\"attributes\":{\"callback\":null},\"id\":\"1030\",\"type\":\"DataRange1d\"},{\"attributes\":{\"callback\":null,\"data\":{\"x\":{\"__ndarray__\":\"/Knx0k1iUD8efaCe1LaGP35iccGvsJU/NkPJmfoCoD8u1dlSnS2lPyZn6gtAWKo/Hfn6xOKCrz+KxQW/wlayP4YOjhsU7LQ/glcWeGWBtz9+oJ7Utha6P3npJjEIrLw/dTKvjVlBvz+4vRt1VevAPzbiXyP+NcI/tAak0aaAwz8yK+h/T8vEP7BPLC74FcY/LnRw3KBgxz+smLSKSavIPyq9+Djy9ck/p+E855pAyz8lBoGVQ4vMP6MqxUPs1c0/IU8J8pQgzz/PuSbQnjXQPw7MSCfz2tA/Td5qfkeA0T+M8IzVmyXSP8sCryzwytI/ChXRg0Rw0z9JJ/PamBXUP4g5FTLtutQ/x0s3iUFg1T8GXlnglQXWP0VwezfqqtY/hIKdjj5Q1z/DlL/lkvXXPwKn4Tznmtg/QbkDlDtA2T+AyyXrj+XZP77dR0Lkito//e9pmTgw2z88AozwjNXbP3sUrkfhetw/uibQnjUg3T/5OPL1icXdPzhLFE3eat4/d102pDIQ3z+2b1j7hrXfP/pAPaltLeA/GkrO1BeA4D85U18AwtLgP1lc8CtsJeE/eGWBVxZ44T+YbhKDwMrhP7d3o65qHeI/14A02hRw4j/2icUFv8LiPxaTVjFpFeM/NZznXBNo4z9VpXiIvbrjP3SuCbRnDeQ/lLea3xFg5D+zwCsLvLLkP9LJvDZmBeU/8tJNYhBY5T8R3N6NuqrlPzHlb7lk/eU/UO4A5Q5Q5j9w95EQuaLmP48AIzxj9eY/rwm0Zw1I5z/OEkWTt5rnP+4b1r5h7ec/DSVn6gtA6D8tLvgVtpLoP0w3iUFg5eg/bEAabQo46T+LSauYtIrpP6tSPMRe3ek/ylvN7wgw6j/pZF4bs4LqPwlu70Zd1eo/KHeAcgco6z9IgBGesXrrP2eJoslbzes/h5Iz9QUg7D+mm8QgsHLsP8akVUxaxew/5a3mdwQY7T8Ft3ejrmrtPyTACM9Yve0/RMmZ+gIQ7j9j0iomrWLuP4Pbu1FXte4/ouRMfQEI7z/B7d2oq1rvP+H2btRVre8/AAAAAAAA8D8=\",\"dtype\":\"float64\",\"shape\":[100]},\"y\":{\"__ndarray__\":\"2Vuhrioq5j+MCKSU9QDmP+tTFt311+U/hWzbhiuv5T80dSSQloblP0OdcPY2XuU/0kGNtgw25T9zGJbMFw7lPxRj9TNY5uQ/CC1k582+5D9fkergeJfkP0UK4BlZcOQ/ksnrim5J5D9wGgUsuSLkP//Lc/Q4/OM/AqXQ2u3V4z+B4AXV16/jP0CzT9j2ieM/Gdo82Upk4z8YMa/L0z7jP1BT3KKRGeM/R0NOUYT04j8EHOTIq8/iP5jK0voHq+I/ANCl15iG4j98C0BPXmLiPweN3FBYPuI/DXAPy4Ya4j8pvsar6fbhP9lZS+CA0+E/IvFBVUyw4T/c96v2S43hP9ep6K9/auE/YRS2a+dH4T9jJzIUgyXhP8XN25JSA+E/CQ2U0FXh4D8aLJ+1jL/gP/ngpSn3neA/X4W2E5V84D8YUkZaZlvgP/KgMuNqOuA/PzXCk6IZ4D8mFU2hGvLfP8hT+vtVsd8/NQmi/vZw3z9Zqzdv/TDfPwwRjxJp8d4/MEtfrDmy3j/3iEX/bnPeP9oGyMwINd4/IAhZ1Qb33T+V2lnYaLndPyzkHZQufN0/ObrtxVc/3T8DQgoq5ALdP3Par3vTxtw/No4ZdSWL3D+tToTP2U/cP7A2MkPwFNw/P9Vth2ja2z+uf41SQqDbPxmr9ll9Zts/pkwhUhkt2z94QJvuFfTaP7y2C+Jyu9o/Dqc23i+D2j8MSQCUTEvaP8+ScLPIE9o/Dby266Pc2T8nxizr3aXZP8YIW192b9k/YcL79Gw52T/nrP5XwQPZP7CVjDNzztg/8fgKMoKZ2D/0nx/97WTYPxtCtD22MNg/Hyj6m9r81z+n0W2/WsnXP0Gc2k42ltc/TWxe8Gxj1z/KVm1J/jDXP1RM1f7p/tY/hsTBtC/N1j8Jar8Oz5vWP4LGv6/HatY/hu4cOhk61j/zLJ1PwwnWP8KtdpHF2dU/1SdToB+q1T98hVMc0XrVP6eLE6XZS9U/Q3+t2Tgd1T+9yL1Y7u7UPzKVZsD5wNQ/T3VTrlqT1D9f+by/EGbUP5RKbJEbOdQ/JMG+v3oM1D8=\",\"dtype\":\"float64\",\"shape\":[100]}},\"selected\":{\"id\":\"1093\",\"type\":\"Selection\"},\"selection_policy\":{\"id\":\"1092\",\"type\":\"UnionRenderers\"}},\"id\":\"1048\",\"type\":\"ColumnDataSource\"},{\"attributes\":{\"callback\":null},\"id\":\"1056\",\"type\":\"DataRange1d\"},{\"attributes\":{},\"id\":\"1032\",\"type\":\"LinearScale\"},{\"attributes\":{\"line_alpha\":0.1,\"line_color\":\"#1f77b4\",\"x\":{\"field\":\"x\"},\"y\":{\"field\":\"y\"}},\"id\":\"1050\",\"type\":\"Line\"},{\"attributes\":{},\"id\":\"1089\",\"type\":\"BasicTickFormatter\"},{\"attributes\":{\"callback\":null},\"id\":\"1058\",\"type\":\"DataRange1d\"},{\"attributes\":{},\"id\":\"1034\",\"type\":\"LinearScale\"},{\"attributes\":{},\"id\":\"1091\",\"type\":\"BasicTickFormatter\"},{\"attributes\":{},\"id\":\"1060\",\"type\":\"LinearScale\"},{\"attributes\":{\"axis_label\":\"cost\",\"formatter\":{\"id\":\"1087\",\"type\":\"BasicTickFormatter\"},\"ticker\":{\"id\":\"1037\",\"type\":\"BasicTicker\"}},\"id\":\"1036\",\"type\":\"LinearAxis\"},{\"attributes\":{},\"id\":\"1092\",\"type\":\"UnionRenderers\"},{\"attributes\":{},\"id\":\"1062\",\"type\":\"LinearScale\"},{\"attributes\":{},\"id\":\"1037\",\"type\":\"BasicTicker\"},{\"attributes\":{},\"id\":\"1093\",\"type\":\"Selection\"},{\"attributes\":{\"axis_label\":\"cost\",\"formatter\":{\"id\":\"1091\",\"type\":\"BasicTickFormatter\"},\"ticker\":{\"id\":\"1065\",\"type\":\"BasicTicker\"}},\"id\":\"1064\",\"type\":\"LinearAxis\"},{\"attributes\":{\"ticker\":{\"id\":\"1037\",\"type\":\"BasicTicker\"}},\"id\":\"1040\",\"type\":\"Grid\"},{\"attributes\":{},\"id\":\"1094\",\"type\":\"UnionRenderers\"},{\"attributes\":{},\"id\":\"1065\",\"type\":\"BasicTicker\"},{\"attributes\":{\"axis_label\":\"sigmoid\",\"formatter\":{\"id\":\"1085\",\"type\":\"BasicTickFormatter\"},\"ticker\":{\"id\":\"1042\",\"type\":\"BasicTicker\"},\"visible\":false},\"id\":\"1041\",\"type\":\"LinearAxis\"},{\"attributes\":{},\"id\":\"1095\",\"type\":\"Selection\"},{\"attributes\":{\"ticker\":{\"id\":\"1065\",\"type\":\"BasicTicker\"}},\"id\":\"1068\",\"type\":\"Grid\"},{\"attributes\":{},\"id\":\"1042\",\"type\":\"BasicTicker\"},{\"attributes\":{\"axis_label\":\"sigmoid\",\"formatter\":{\"id\":\"1089\",\"type\":\"BasicTickFormatter\"},\"ticker\":{\"id\":\"1070\",\"type\":\"BasicTicker\"},\"visible\":false},\"id\":\"1069\",\"type\":\"LinearAxis\"},{\"attributes\":{\"dimension\":1,\"ticker\":{\"id\":\"1042\",\"type\":\"BasicTicker\"}},\"id\":\"1045\",\"type\":\"Grid\"},{\"attributes\":{\"data_source\":{\"id\":\"1048\",\"type\":\"ColumnDataSource\"},\"glyph\":{\"id\":\"1049\",\"type\":\"Line\"},\"hover_glyph\":null,\"muted_glyph\":null,\"nonselection_glyph\":{\"id\":\"1050\",\"type\":\"Line\"},\"selection_glyph\":null,\"view\":{\"id\":\"1052\",\"type\":\"CDSView\"}},\"id\":\"1051\",\"type\":\"GlyphRenderer\"},{\"attributes\":{\"active_drag\":\"auto\",\"active_inspect\":\"auto\",\"active_multi\":null,\"active_scroll\":\"auto\",\"active_tap\":\"auto\",\"logo\":null},\"id\":\"1046\",\"type\":\"Toolbar\"},{\"attributes\":{},\"id\":\"1070\",\"type\":\"BasicTicker\"},{\"attributes\":{\"dimension\":1,\"ticker\":{\"id\":\"1070\",\"type\":\"BasicTicker\"}},\"id\":\"1073\",\"type\":\"Grid\"},{\"attributes\":{\"active_drag\":\"auto\",\"active_inspect\":\"auto\",\"active_multi\":null,\"active_scroll\":\"auto\",\"active_tap\":\"auto\",\"logo\":null},\"id\":\"1074\",\"type\":\"Toolbar\"},{\"attributes\":{\"x\":{\"field\":\"x\"},\"y\":{\"field\":\"y\"}},\"id\":\"1049\",\"type\":\"Line\"},{\"attributes\":{\"x\":{\"field\":\"x\"},\"y\":{\"field\":\"y\"}},\"id\":\"1077\",\"type\":\"Line\"},{\"attributes\":{\"line_alpha\":0.1,\"line_color\":\"#1f77b4\",\"x\":{\"field\":\"x\"},\"y\":{\"field\":\"y\"}},\"id\":\"1078\",\"type\":\"Line\"},{\"attributes\":{\"below\":[{\"id\":\"1036\",\"type\":\"LinearAxis\"}],\"center\":[{\"id\":\"1040\",\"type\":\"Grid\"},{\"id\":\"1045\",\"type\":\"Grid\"}],\"left\":[{\"id\":\"1041\",\"type\":\"LinearAxis\"}],\"plot_height\":200,\"plot_width\":300,\"renderers\":[{\"id\":\"1051\",\"type\":\"GlyphRenderer\"}],\"title\":{\"id\":\"1026\",\"type\":\"Title\"},\"toolbar\":{\"id\":\"1046\",\"type\":\"Toolbar\"},\"x_range\":{\"id\":\"1028\",\"type\":\"DataRange1d\"},\"x_scale\":{\"id\":\"1032\",\"type\":\"LinearScale\"},\"y_range\":{\"id\":\"1030\",\"type\":\"DataRange1d\"},\"y_scale\":{\"id\":\"1034\",\"type\":\"LinearScale\"}},\"id\":\"1025\",\"subtype\":\"Figure\",\"type\":\"Plot\"},{\"attributes\":{\"source\":{\"id\":\"1048\",\"type\":\"ColumnDataSource\"}},\"id\":\"1052\",\"type\":\"CDSView\"},{\"attributes\":{\"data_source\":{\"id\":\"1076\",\"type\":\"ColumnDataSource\"},\"glyph\":{\"id\":\"1077\",\"type\":\"Line\"},\"hover_glyph\":null,\"muted_glyph\":null,\"nonselection_glyph\":{\"id\":\"1078\",\"type\":\"Line\"},\"selection_glyph\":null,\"view\":{\"id\":\"1080\",\"type\":\"CDSView\"}},\"id\":\"1079\",\"type\":\"GlyphRenderer\"},{\"attributes\":{\"below\":[{\"id\":\"1064\",\"type\":\"LinearAxis\"}],\"center\":[{\"id\":\"1068\",\"type\":\"Grid\"},{\"id\":\"1073\",\"type\":\"Grid\"}],\"left\":[{\"id\":\"1069\",\"type\":\"LinearAxis\"}],\"plot_height\":200,\"plot_width\":300,\"renderers\":[{\"id\":\"1079\",\"type\":\"GlyphRenderer\"}],\"title\":{\"id\":\"1054\",\"type\":\"Title\"},\"toolbar\":{\"id\":\"1074\",\"type\":\"Toolbar\"},\"x_range\":{\"id\":\"1056\",\"type\":\"DataRange1d\"},\"x_scale\":{\"id\":\"1060\",\"type\":\"LinearScale\"},\"y_range\":{\"id\":\"1058\",\"type\":\"DataRange1d\"},\"y_scale\":{\"id\":\"1062\",\"type\":\"LinearScale\"}},\"id\":\"1053\",\"subtype\":\"Figure\",\"type\":\"Plot\"},{\"attributes\":{\"source\":{\"id\":\"1076\",\"type\":\"ColumnDataSource\"}},\"id\":\"1080\",\"type\":\"CDSView\"},{\"attributes\":{},\"id\":\"1087\",\"type\":\"BasicTickFormatter\"},{\"attributes\":{\"text\":\"y = 1\"},\"id\":\"1026\",\"type\":\"Title\"},{\"attributes\":{\"callback\":null,\"data\":{\"x\":{\"__ndarray__\":\"/Knx0k1iUD8efaCe1LaGP35iccGvsJU/NkPJmfoCoD8u1dlSnS2lPyZn6gtAWKo/Hfn6xOKCrz+KxQW/wlayP4YOjhsU7LQ/glcWeGWBtz9+oJ7Utha6P3npJjEIrLw/dTKvjVlBvz+4vRt1VevAPzbiXyP+NcI/tAak0aaAwz8yK+h/T8vEP7BPLC74FcY/LnRw3KBgxz+smLSKSavIPyq9+Djy9ck/p+E855pAyz8lBoGVQ4vMP6MqxUPs1c0/IU8J8pQgzz/PuSbQnjXQPw7MSCfz2tA/Td5qfkeA0T+M8IzVmyXSP8sCryzwytI/ChXRg0Rw0z9JJ/PamBXUP4g5FTLtutQ/x0s3iUFg1T8GXlnglQXWP0VwezfqqtY/hIKdjj5Q1z/DlL/lkvXXPwKn4Tznmtg/QbkDlDtA2T+AyyXrj+XZP77dR0Lkito//e9pmTgw2z88AozwjNXbP3sUrkfhetw/uibQnjUg3T/5OPL1icXdPzhLFE3eat4/d102pDIQ3z+2b1j7hrXfP/pAPaltLeA/GkrO1BeA4D85U18AwtLgP1lc8CtsJeE/eGWBVxZ44T+YbhKDwMrhP7d3o65qHeI/14A02hRw4j/2icUFv8LiPxaTVjFpFeM/NZznXBNo4z9VpXiIvbrjP3SuCbRnDeQ/lLea3xFg5D+zwCsLvLLkP9LJvDZmBeU/8tJNYhBY5T8R3N6NuqrlPzHlb7lk/eU/UO4A5Q5Q5j9w95EQuaLmP48AIzxj9eY/rwm0Zw1I5z/OEkWTt5rnP+4b1r5h7ec/DSVn6gtA6D8tLvgVtpLoP0w3iUFg5eg/bEAabQo46T+LSauYtIrpP6tSPMRe3ek/ylvN7wgw6j/pZF4bs4LqPwlu70Zd1eo/KHeAcgco6z9IgBGesXrrP2eJoslbzes/h5Iz9QUg7D+mm8QgsHLsP8akVUxaxew/5a3mdwQY7T8Ft3ejrmrtPyTACM9Yve0/RMmZ+gIQ7j9j0iomrWLuP4Pbu1FXte4/ouRMfQEI7z/B7d2oq1rvP+H2btRVre8/AAAAAAAA8D8=\",\"dtype\":\"float64\",\"shape\":[100]},\"y\":{\"__ndarray__\":\"NA34LuMQ1D9NFWVYjD3UP6+oWeiJatQ/0+htQtyX1D9dy83Jg8XUP6CDNeGA89Q/K+nt6tMh1T9V28hIfVDVPzeiHVx9f9U/JU3FhdSu1T8SDxcmg97VP+yY5JyJDtY/WXJ2Seg+1j8AUYiKn2/WP6JuRb6voNY/Q95EQhnS1j+m4IVz3APXP284bK75Ndc/In68TnFo1z8odJivQ5vXP3Bbeytxztc/h0g2HPoB2D/jeeza3jXYPzyvD8Afatg/eIJcI72e2D+awtZbt9PYP3DQxb8OCdk/Dv6wpMM+2T+i8Ftf1nTZP5IFw0NHq9k/o7oXpRbi2T/VGb3VRBnaPzEpRCfSUNo/pV5o6r6I2j9sGAxvC8HaP0waNQS4+do/1w8J+MQy2z8sFMqXMmzbP1M/0y8Bpts/tDmVCzHg2z/M1ZJ1whrcP4+wXbe1Vdw/w9iSGQuR3D92fdfjwszcPxSk1VzdCN0/Y+Y4ylpF3T+ZOKtwO4LdP8O30ZN/v90/QYFJdif93T/0kqRZMzveP/q0Zn6jed4/FG0CJHi43j/b+9WIsffeP05kKOpPN98/6H0mhFN33z9mEeCRvLffP8wARU2L+N8/XT2R998c4D+0HJBXrT3gP83m3uGtXuA/3vonseF/4D/FAH/fSKHgPzehX4bjwuA/bUSsvrHk4D9s16ygswbhPyqYDUTpKOE/cOjdv1JL4T/WJ48q8G3hP9uU85nBkOE/KDU9I8ez4T9LxfzaANfhP9WvINVu+uE/Bgz0JBEe4j9BpB3d50HiPzAEnw/zZeI/247TzTKK4j+qnG8op67iP4+hfy9Q0+I/S1tn8i344j/8B+F/QB3jPwSl/OWHQuM/WDYfMgRo4z9NFgJxtY3jPwlOsq6bs+M/fvaP9rbZ4z8/ok1TBwDkP/PP786MJuQ/zWXMckdN5D++NYpHN3TkP7yKIFVcm+Q/9b7WorbC5D8b20M3RurkP7E+ThgLEuU/k1ErSwU65T+TPl/UNGLlP023vLeZiuU/K8Fk+DOz5T+5i8aYA9zlPx9Qn5oIBeY/7zn6/kIu5j8=\",\"dtype\":\"float64\",\"shape\":[100]}},\"selected\":{\"id\":\"1095\",\"type\":\"Selection\"},\"selection_policy\":{\"id\":\"1094\",\"type\":\"UnionRenderers\"}},\"id\":\"1076\",\"type\":\"ColumnDataSource\"}],\"root_ids\":[\"1081\"]},\"title\":\"Bokeh Application\",\"version\":\"1.1.0\"}};\n",
       "  var render_items = [{\"docid\":\"434f8180-cfe8-413a-89c5-90d86e35d3d7\",\"roots\":{\"1081\":\"bfb5e6b9-a059-4a9f-811e-057cb326e08a\"}}];\n",
       "  root.Bokeh.embed.embed_items_notebook(docs_json, render_items);\n",
       "\n",
       "  }\n",
       "  if (root.Bokeh !== undefined) {\n",
       "    embed_document(root);\n",
       "  } else {\n",
       "    var attempts = 0;\n",
       "    var timer = setInterval(function(root) {\n",
       "      if (root.Bokeh !== undefined) {\n",
       "        embed_document(root);\n",
       "        clearInterval(timer);\n",
       "      }\n",
       "      attempts++;\n",
       "      if (attempts > 100) {\n",
       "        console.log(\"Bokeh: ERROR: Unable to run BokehJS code because BokehJS library is missing\");\n",
       "        clearInterval(timer);\n",
       "      }\n",
       "    }, 10, root)\n",
       "  }\n",
       "})(window);"
      ],
      "application/vnd.bokehjs_exec.v0+json": ""
     },
     "metadata": {
      "application/vnd.bokehjs_exec.v0+json": {
       "id": "1081"
      }
     },
     "output_type": "display_data"
    }
   ],
   "source": [
    "output_file(\"logit_04.html\")\n",
    "fig0 = figure(plot_height = 200, plot_width = 300,\n",
    "            tools = \"\", title = \"y = 1\")\n",
    "fig0.yaxis.visible = False\n",
    "fig0.toolbar.logo = None\n",
    "fig0.line(x = input_x, y = output_y, color = 'black')\n",
    "\n",
    "fig1 = figure(plot_height = 200, plot_width = 300,\n",
    "           tools = \"\", title = \"y = 0\")\n",
    "fig1.yaxis.visible = False\n",
    "fig1.toolbar.logo = None\n",
    "fig1.line(x = input_x, y = output_y1, color = 'black')\n",
    "fig0.yaxis.axis_label = 'cost'\n",
    "fig0.xaxis.axis_label = 'sigmoid'\n",
    "fig1.yaxis.axis_label = 'cost'\n",
    "fig1.xaxis.axis_label = 'sigmoid'\n",
    "show(row(fig0, fig1))"
   ]
  },
  {
   "cell_type": "code",
   "execution_count": null,
   "metadata": {},
   "outputs": [],
   "source": []
  },
  {
   "cell_type": "code",
   "execution_count": null,
   "metadata": {},
   "outputs": [],
   "source": []
  }
 ],
 "metadata": {
  "kernelspec": {
   "display_name": "Python 3",
   "language": "python",
   "name": "python3"
  },
  "language_info": {
   "codemirror_mode": {
    "name": "ipython",
    "version": 3
   },
   "file_extension": ".py",
   "mimetype": "text/x-python",
   "name": "python",
   "nbconvert_exporter": "python",
   "pygments_lexer": "ipython3",
   "version": "3.6.8"
  }
 },
 "nbformat": 4,
 "nbformat_minor": 2
}

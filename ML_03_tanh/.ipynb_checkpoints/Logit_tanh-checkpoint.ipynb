{
 "cells": [
  {
   "cell_type": "code",
   "execution_count": 1,
   "metadata": {},
   "outputs": [],
   "source": [
    "import numpy as np\n",
    "import matplotlib.pyplot as plt\n",
    "import pandas as pd\n",
    "from sklearn.metrics import confusion_matrix, roc_curve, auc\n"
   ]
  },
  {
   "cell_type": "code",
   "execution_count": 2,
   "metadata": {},
   "outputs": [],
   "source": [
    "def sigmoid(t):\n",
    "    return 1/(1+np.exp(-t))\n",
    "\n",
    "def tanh(t):\n",
    "    return 2*sigmoid(t) - 1"
   ]
  },
  {
   "cell_type": "code",
   "execution_count": 3,
   "metadata": {},
   "outputs": [],
   "source": [
    "df = pd.read_csv(\"df3.csv\")\n",
    "x = np.array(df.iloc[:, 2:])\n",
    "y = np.array(df.chocolate)\n",
    "\n",
    "ones = np.ones(x.shape[0])\n",
    "X = np.column_stack((ones, x))\n",
    "w = np.dot(np.linalg.inv(np.dot(X.T, X)), np.dot(X.T, y))"
   ]
  },
  {
   "cell_type": "markdown",
   "metadata": {},
   "source": [
    "**Sigmoid Cost Function**\n",
    "$$g(\\mathbf{w}) = -\\frac{1}{N}\\sum^{N}_{i = 1}y_i\\mathbf{w}^{T} \\mathbf{x_i} - \\log(1 + e^{\\mathbf{w}^{T} \\mathbf{x_i}})$$\n"
   ]
  },
  {
   "cell_type": "code",
   "execution_count": 4,
   "metadata": {},
   "outputs": [],
   "source": [
    "def sigCostFunc(X, y, w):\n",
    "    cost = 0\n",
    "    for i in range(y.size):\n",
    "        cost += y[i]*np.dot(w.T, X[i]) - np.log(1 + np.exp(np.dot(w.T, X[i])))\n",
    "    return -cost/y.size"
   ]
  },
  {
   "cell_type": "markdown",
   "metadata": {},
   "source": [
    "**tanh Cost Function**\n",
    "$$g(\\mathbf w) = \\frac{1}{N}\\sum^N_{i = 1}\\log \\left(1 +e^{ -y_i\\mathbf{w}^{T} \\mathbf x_i}\\right)$$"
   ]
  },
  {
   "cell_type": "code",
   "execution_count": 5,
   "metadata": {},
   "outputs": [],
   "source": [
    "def tanhCostFunc(X, y, w):\n",
    "    cost = 0\n",
    "    for i in range(y.size):\n",
    "        cost += np.log(1 + np.exp(-y[i]*np.dot(w.T, X[i])))\n",
    "    return cost / y.size"
   ]
  },
  {
   "cell_type": "markdown",
   "metadata": {},
   "source": [
    "## Get weights collection"
   ]
  },
  {
   "cell_type": "code",
   "execution_count": 6,
   "metadata": {},
   "outputs": [
    {
     "data": {
      "text/plain": [
       "array([-357.47119236, -702.07056024,   -2.15268563,   47.16063836,\n",
       "        -70.2471552 ,  162.9184082 , -145.03840348,  219.27776525,\n",
       "        -74.69398925,  -38.73399013,   37.41226852,   11.28561693])"
      ]
     },
     "execution_count": 6,
     "metadata": {},
     "output_type": "execute_result"
    }
   ],
   "source": [
    "def gradFunc(w, X, y, N):\n",
    "    grad = 0\n",
    "    for i in range(N):\n",
    "        grad += (y[i] - sigmoid(np.dot(w.T, X[i]))) * X[i]\n",
    "    return (-1/N) * grad\n",
    "\n",
    "# Initialization\n",
    "alpha = 2\n",
    "w = np.array([20.0]*X.shape[1])\n",
    "N = y.size\n",
    "iteration = 0\n",
    "w_collect_0 = [w]\n",
    "for i in range(10000):\n",
    "    gradient = gradFunc(w, X, y, N)\n",
    "    w = w - alpha * gradient\n",
    "    w_collect_0.append(w)\n",
    "    iteration += 1\n",
    "\n",
    "w_collect_0[-1]"
   ]
  },
  {
   "cell_type": "code",
   "execution_count": 7,
   "metadata": {},
   "outputs": [
    {
     "data": {
      "text/plain": [
       "inf"
      ]
     },
     "execution_count": 7,
     "metadata": {},
     "output_type": "execute_result"
    }
   ],
   "source": [
    "sigCostDec = []\n",
    "for i in range(len(w_collect_0)):\n",
    "    cost = sigCostFunc(X, y, w_collect_0[i])\n",
    "    sigCostDec.append(cost)\n",
    "sigCostDec[-1]"
   ]
  },
  {
   "cell_type": "code",
   "execution_count": 8,
   "metadata": {},
   "outputs": [
    {
     "data": {
      "text/plain": [
       "array([-357.65262093, -702.29988055,   -2.21359628,   46.9188939 ,\n",
       "        -70.28105728,  162.07304141, -145.28815798,  218.98541513,\n",
       "        -74.64004623,  -38.49721198,   37.28258678,   10.6342932 ])"
      ]
     },
     "execution_count": 8,
     "metadata": {},
     "output_type": "execute_result"
    }
   ],
   "source": [
    "y_new = np.where(y == 0, -1, y)\n",
    "\n",
    "def tanhgrad(w, X, y):\n",
    "    grad = 0\n",
    "    for i in range(y.size):\n",
    "        grad += sigmoid(-y[i] * np.dot(w.T, X[i])) * y[i] * X[i].T\n",
    "    return (-1/y.size)*grad\n",
    "\n",
    "# Initialization\n",
    "alpha = 2\n",
    "w = np.array([20.0]*X.shape[1])\n",
    "iteration = 0\n",
    "w_collect_1 = [w]\n",
    "for i in range(10000):\n",
    "    gradient = tanhgrad(w, X, y_new)\n",
    "    w = w - alpha * gradient\n",
    "    w_collect_1.append(w)\n",
    "    iteration += 1\n",
    "\n",
    "w_collect_1[-1]"
   ]
  },
  {
   "cell_type": "code",
   "execution_count": 9,
   "metadata": {},
   "outputs": [
    {
     "data": {
      "text/plain": [
       "14.81981305019088"
      ]
     },
     "execution_count": 9,
     "metadata": {},
     "output_type": "execute_result"
    }
   ],
   "source": [
    "tanhCostDec = []\n",
    "for i in range(len(w_collect_1)):\n",
    "    cost = tanhCostFunc(X, y_new, w_collect_1[i])\n",
    "    tanhCostDec.append(cost)\n",
    "tanhCostDec[-1]"
   ]
  },
  {
   "cell_type": "code",
   "execution_count": 10,
   "metadata": {},
   "outputs": [],
   "source": [
    "y_hat = sigmoid(np.dot(w_collect_0[-1].T, X.T))\n",
    "y_hat = np.where(y_hat >= 0.5, 1, 0)\n",
    "\n",
    "y_hat_1 = tanh(np.dot(w_collect_1[-1].T, X.T))\n",
    "y_hat_1 = np.where(y_hat_1 >= 0, 1, -1)"
   ]
  },
  {
   "cell_type": "code",
   "execution_count": 11,
   "metadata": {},
   "outputs": [],
   "source": [
    "from sklearn.linear_model import LogisticRegression\n",
    "clf = LogisticRegression(solver='liblinear')\n",
    "clf.fit(X, y)\n",
    "y_sci = clf.predict(X)\n"
   ]
  },
  {
   "cell_type": "code",
   "execution_count": 12,
   "metadata": {},
   "outputs": [],
   "source": [
    "fpr, tpr, threshold = roc_curve(y, y_hat)\n",
    "roc_auc = auc(fpr, tpr)\n",
    "fpr1, tpr1, threshold1 = roc_curve(y_new, y_hat_1)\n",
    "roc_auc1 = auc(fpr1, tpr1)\n",
    "fpr2, tpr2, threshold = roc_curve(y, y_sci)\n",
    "roc_auc2 = auc(fpr2, tpr2)\n"
   ]
  },
  {
   "cell_type": "code",
   "execution_count": 13,
   "metadata": {},
   "outputs": [
    {
     "data": {
      "image/png": "[encoded data removed]",
      "text/plain": [
       "<Figure size 432x288 with 1 Axes>"
      ]
     },
     "metadata": {
      "needs_background": "light"
     },
     "output_type": "display_data"
    }
   ],
   "source": [
    "import matplotlib.pyplot as plt\n",
    "plt.title('Receiver Operating Characteristic')\n",
    "plt.plot(fpr, tpr, 'b', label = 'sigmoid_AUC = %0.2f' % roc_auc)\n",
    "plt.plot(fpr1, tpr1, 'g', label = 'tanh_AUC = %0.2f' % roc_auc1)\n",
    "plt.plot(fpr2, tpr2, 'black', label = 'scikit_AUC = %0.2f' % roc_auc2)\n",
    "\n",
    "plt.legend(loc = 'lower right')\n",
    "plt.plot([0, 1], [0, 1],'r--')\n",
    "plt.xlim([0, 1])\n",
    "plt.ylim([0, 1])\n",
    "plt.ylabel('True Positive Rate')\n",
    "plt.xlabel('False Positive Rate')\n",
    "plt.show()"
   ]
  },
  {
   "cell_type": "code",
   "execution_count": null,
   "metadata": {},
   "outputs": [],
   "source": []
  }
 ],
 "metadata": {
  "kernelspec": {
   "display_name": "Python 3",
   "language": "python",
   "name": "python3"
  },
  "language_info": {
   "codemirror_mode": {
    "name": "ipython",
    "version": 3
   },
   "file_extension": ".py",
   "mimetype": "text/x-python",
   "name": "python",
   "nbconvert_exporter": "python",
   "pygments_lexer": "ipython3",
   "version": "3.6.8"
  }
 },
 "nbformat": 4,
 "nbformat_minor": 2
}
